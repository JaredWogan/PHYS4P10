{
 "cells": [
  {
   "cell_type": "code",
   "execution_count": null,
   "metadata": {},
   "outputs": [],
   "source": []
  },
  {
   "cell_type": "markdown",
   "metadata": {},
   "source": [
    "### Differentiation \n",
    "\n",
    "Plot the function $$e^{-x^2},\\quad x=-4\\rightarrow+4\\quad$$ Plot on the same graph, the *second* numerical derivative, using `scipy.misc.derivative`."
   ]
  },
  {
   "cell_type": "code",
   "execution_count": null,
   "metadata": {},
   "outputs": [],
   "source": []
  },
  {
   "cell_type": "markdown",
   "metadata": {},
   "source": [
    "### Integration \n",
    "\n",
    "Numerically verify the following definite integral;\n",
    "$$\\int_{0}^{a} \\frac{dx}{\\sqrt{a^2-x^2}} = \\frac{\\pi}{2}$$\n",
    "\n",
    "Write only one Python function for the integrand, and pass the value of $a$ to it as an argument. Try two different values of $a$. Use `scipy.integrate.quad`."
   ]
  },
  {
   "cell_type": "code",
   "execution_count": null,
   "metadata": {},
   "outputs": [],
   "source": []
  },
  {
   "cell_type": "markdown",
   "metadata": {},
   "source": [
    "### Linear equations \n",
    "Sovle the system of linear equations with `scipy.linalg.solve`\n",
    "$$\\begin{array}{}\n",
    "2x &+&  y &+&  3z &=& 1\\\\\n",
    "2x &+& 6y &+&  8z &=& 3\\\\\n",
    "6x &+& 8y &+& 18z &=& 5\\\\\n",
    "\\end{array}$$"
   ]
  },
  {
   "cell_type": "code",
   "execution_count": null,
   "metadata": {},
   "outputs": [],
   "source": []
  },
  {
   "cell_type": "markdown",
   "metadata": {},
   "source": [
    "### Eigenequations \n",
    "Find the eignevalues and eigenvectors with `scipy.linagl.eig` for the matrix\n",
    "$$\\begin{bmatrix}\n",
    "-2 & -4 & 2 \\\\\n",
    "-2 &  1 & 2 \\\\\n",
    " 4 &  2 & 5 \n",
    "\\end{bmatrix}$$"
   ]
  },
  {
   "cell_type": "code",
   "execution_count": null,
   "metadata": {},
   "outputs": [],
   "source": []
  },
  {
   "cell_type": "markdown",
   "metadata": {},
   "source": [
    "### Non-linear equations \n",
    "\n",
    "Find all the roots of \n",
    "$$x^3-5x-1$$\n",
    "Use `scipy.optimize.bisect`."
   ]
  },
  {
   "cell_type": "code",
   "execution_count": null,
   "metadata": {},
   "outputs": [],
   "source": []
  },
  {
   "cell_type": "code",
   "execution_count": null,
   "metadata": {},
   "outputs": [],
   "source": []
  },
  {
   "cell_type": "markdown",
   "metadata": {},
   "source": [
    "### Multidimensional non-linear equations \n",
    "\n",
    "Find the solutions to these two simulataneous equations;\n",
    "$$\\begin{array}{}\n",
    "2x^2+y^2 &=& 24\\\\\n",
    "x^2-y^2 &=& -12\n",
    "\\end{array}$$\n",
    "Use `scipy.optimize.root`, and print out everything about the solution."
   ]
  },
  {
   "cell_type": "code",
   "execution_count": null,
   "metadata": {},
   "outputs": [],
   "source": []
  },
  {
   "cell_type": "markdown",
   "metadata": {},
   "source": [
    "### Multidimensional non-linear optimization \n",
    "\n",
    "Find the global minimum of the function\n",
    "$$f(x,y)=0.25(x^2+y^2)-0.48xy$$\n",
    "which is located in the range $-10\\leq x,y\\leq 10$. \n",
    "Use `scipy.optimize.minimze`, and print out everything related to the solution."
   ]
  },
  {
   "cell_type": "code",
   "execution_count": null,
   "metadata": {},
   "outputs": [],
   "source": []
  },
  {
   "cell_type": "markdown",
   "metadata": {},
   "source": [
    "### Non-linear regression \n",
    "\n",
    "Fit the data in the file `data_001.txt` to the function\n",
    "$$f(x)= \\frac{1}{a+x^2}$$\n",
    "and find the value of $a$ and its uncertainty.\n",
    "\n",
    "Use `numpy.genfromtxt` and `scipy.optimize.curve_fit`"
   ]
  },
  {
   "cell_type": "code",
   "execution_count": null,
   "metadata": {},
   "outputs": [],
   "source": []
  },
  {
   "cell_type": "markdown",
   "metadata": {},
   "source": [
    "### Fourier transform \n",
    "Numerically verify that the Fourier transform of the data in the file \"sunspots.txt\" shows the known 11-year (132-month) cycle of the solar sunspot activity.\n",
    "- Use `scipy.fft.fft` and related functions.\n",
    "- Make a plot of the disctrete Fourier transform of the sunspot data in the frequency units of $\\textrm{months}^{-1}$, in the range of $-3f_0\\leq f \\leq3f_0$."
   ]
  },
  {
   "cell_type": "code",
   "execution_count": null,
   "metadata": {},
   "outputs": [],
   "source": []
  },
  {
   "cell_type": "markdown",
   "metadata": {},
   "source": [
    "### Ordinary differential equations \n",
    "\n",
    "Numerically integrate the equations of motion for two masses coupled to each other by a spring, and each mass is also coupled to a wall on either side by a spring.\n",
    "$$\\begin{array}{}\n",
    "m_1\\ddot{x_1}&=&-kx_1-k(x_1-x2)\\\\\n",
    "m_2\\ddot{x_2}&=&-kx_2-k(x_2-x1)\n",
    "\\end{array}$$\n",
    "Use the values\n",
    "$$\\begin{array}{}\n",
    "k &=& 1\\\\\n",
    "m_1 &=& 1\\\\\n",
    "m_2 &=& 2 \n",
    "\\end{array}$$\n",
    "Use `scipy.integrate.solve_ivp` to integrate the equations for 1000 points from $t=0\\rightarrow100$, and plot the the motion of both masses $x_1(t)$ and $x_2(t)$ as a function of time."
   ]
  },
  {
   "cell_type": "code",
   "execution_count": null,
   "metadata": {},
   "outputs": [],
   "source": []
  },
  {
   "cell_type": "markdown",
   "metadata": {},
   "source": [
    "### Random numbers\n",
    "\n",
    "Random walks are stochastic processes that describe a path that consists of a succession of random steps.\n",
    "\n",
    "Take a 2-dimensional random walk of 100,000 steps. Each step should be of length 1. Each step has a 50% probability of stepping to the left or right in direction $x$ and an independant 50% probability of stepping up or down in direction $y$.\n",
    "\n",
    "Plot the position of the walker as a function of steps.\n",
    "\n",
    "Also plot a histogram of the $x$ position of the walker."
   ]
  },
  {
   "cell_type": "code",
   "execution_count": null,
   "metadata": {},
   "outputs": [],
   "source": []
  },
  {
   "cell_type": "code",
   "execution_count": null,
   "metadata": {},
   "outputs": [],
   "source": []
  }
 ],
 "metadata": {
  "kernelspec": {
   "display_name": "Python 3",
   "language": "python",
   "name": "python3"
  },
  "language_info": {
   "codemirror_mode": {
    "name": "ipython",
    "version": 3
   },
   "file_extension": ".py",
   "mimetype": "text/x-python",
   "name": "python",
   "nbconvert_exporter": "python",
   "pygments_lexer": "ipython3",
   "version": "3.8.8"
  }
 },
 "nbformat": 4,
 "nbformat_minor": 2
}
