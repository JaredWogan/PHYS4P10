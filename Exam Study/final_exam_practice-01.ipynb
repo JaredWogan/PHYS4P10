{
 "cells": [
  {
   "cell_type": "code",
   "execution_count": null,
   "metadata": {},
   "outputs": [],
   "source": []
  },
  {
   "cell_type": "markdown",
   "metadata": {},
   "source": [
    "### Differentiation \n",
    "\n",
    "Plot the function $$\\ln(x),\\quad x=0.1\\rightarrow2.1\\quad$$ Plot on the same graph, the numerical derivative, using `scipy.misc.derivative`."
   ]
  },
  {
   "cell_type": "code",
   "execution_count": null,
   "metadata": {},
   "outputs": [],
   "source": []
  },
  {
   "cell_type": "markdown",
   "metadata": {},
   "source": [
    "### Integration \n",
    "\n",
    "Numerically verify the following definite integral;\n",
    "$$\\int_{0}^{1} x^{\\nu-1}(1-x)^{\\mu-1} dx = \\frac{(\\nu-1)!(\\mu-1)!}{(\\nu+\\mu-1)!}$$\n",
    "for $\\nu=3$, and $\\mu=4$. Use `scipy.integrate.quad` and `scipy.misc.factorial`."
   ]
  },
  {
   "cell_type": "code",
   "execution_count": null,
   "metadata": {},
   "outputs": [],
   "source": []
  },
  {
   "cell_type": "markdown",
   "metadata": {},
   "source": [
    "### Linear equations \n",
    "Sovle the system of linear equations with `scipy.linalg.solve`\n",
    "$$\\begin{array}{}\n",
    "2x &+& y &=& 5\\\\\n",
    "-x &+& y &=& 2\\\\\n",
    "\\end{array}$$"
   ]
  },
  {
   "cell_type": "code",
   "execution_count": null,
   "metadata": {},
   "outputs": [],
   "source": []
  },
  {
   "cell_type": "markdown",
   "metadata": {},
   "source": [
    "### Eigenequations \n",
    "Find the eignevalues and eigenvectors with `scipy.linagl.eig` for the matrix\n",
    "$$\\begin{bmatrix}\n",
    "-4 & -17\\\\\n",
    " 2 &   2\n",
    "\\end{bmatrix}$$"
   ]
  },
  {
   "cell_type": "code",
   "execution_count": null,
   "metadata": {},
   "outputs": [],
   "source": []
  },
  {
   "cell_type": "markdown",
   "metadata": {},
   "source": [
    "### Non-linear equations \n",
    "\n",
    "Find all of the roots of \n",
    "$$\\cos(e^{-x})$$\n",
    "in the interval $-2\\leq x \\leq0$. Use `scipy.optimize.newton`."
   ]
  },
  {
   "cell_type": "code",
   "execution_count": null,
   "metadata": {},
   "outputs": [],
   "source": []
  },
  {
   "cell_type": "code",
   "execution_count": null,
   "metadata": {},
   "outputs": [],
   "source": []
  },
  {
   "cell_type": "markdown",
   "metadata": {},
   "source": [
    "### Multidimensional non-linear equations \n",
    "\n",
    "Find the solutions to these two simulataneous equations;\n",
    "$$\\begin{array}{}\n",
    "x^2-2y^2 &=& 2\\\\\n",
    "xy &=& 2\n",
    "\\end{array}$$\n",
    "Use `scipy.optimize.root`, and print out everything about the solution."
   ]
  },
  {
   "cell_type": "code",
   "execution_count": null,
   "metadata": {},
   "outputs": [],
   "source": []
  },
  {
   "cell_type": "markdown",
   "metadata": {},
   "source": [
    "### Multidimensional non-linear optimization \n",
    "\n",
    "Find the global minimum of the function\n",
    "$$f(x,y)=(x+2y-7)^2+(2x+y-5)^2$$\n",
    "which is located in the range $-10\\leq x,y\\leq 10$. \n",
    "Use `scipy.optimize.minimze`, and print out everything related to the solution."
   ]
  },
  {
   "cell_type": "code",
   "execution_count": null,
   "metadata": {},
   "outputs": [],
   "source": []
  },
  {
   "cell_type": "markdown",
   "metadata": {},
   "source": [
    "### Non-linear regression \n",
    "\n",
    "Fit the data in the file `data_000.txt` to the function\n",
    "$$f(x)= e^{-ax}$$\n",
    "and find the value of $a$ and its uncertainty.\n",
    "\n",
    "Use `numpy.genfromtxt` and `scipy.optimize.curve_fit`"
   ]
  },
  {
   "cell_type": "code",
   "execution_count": null,
   "metadata": {},
   "outputs": [],
   "source": []
  },
  {
   "cell_type": "markdown",
   "metadata": {},
   "source": [
    "### Fourier transform \n",
    "Numerically verify that the Fourier transform of the non-periodic function\n",
    "$$h(t)=e^{-|t|}$$\n",
    "is within a constant factor $c$ of the Lorentzian function\n",
    "$$H(f) = \\frac{2c}{1+(2\\pi f)^2}$$\n",
    "- Use `scipy.fft.fft` and related functions.\n",
    "- Extend the range of $t$ from $-200\\leq t \\leq +200$.\n",
    "- Make a plot of the disctrete Fourier transform and the exact Lorentzian function over the full range of frequencies."
   ]
  },
  {
   "cell_type": "code",
   "execution_count": null,
   "metadata": {},
   "outputs": [],
   "source": []
  },
  {
   "cell_type": "markdown",
   "metadata": {},
   "source": [
    "### Ordinary differential equations \n",
    "\n",
    "Numerically integrate the equation of motion for the Duffing oscillator\n",
    "$$\\ddot{x}+\\delta \\dot{x}+\\alpha x+\\beta x^3 =\\gamma\\cos(\\omega t)$$\n",
    "Use the values\n",
    "$$\\begin{array}{}\n",
    "\\alpha &=& -1\\\\\n",
    "\\beta &=& +1\\\\\n",
    "\\gamma &=& 0.37 \\\\\n",
    "\\delta &=& 0.3 \\\\\n",
    "\\omega &=& 1.2\n",
    "\\end{array}$$\n",
    "Use `scipy.integrate.solve_ivp` to integrate the equation for 1000 points from $t=0\\rightarrow50$, and plot the phase space diagram $x(t)$ vs $\\dot{x}(t)$"
   ]
  },
  {
   "cell_type": "code",
   "execution_count": null,
   "metadata": {},
   "outputs": [],
   "source": []
  },
  {
   "cell_type": "markdown",
   "metadata": {},
   "source": [
    "### Random numbers\n",
    "\n",
    "Random walks are stochastic processes that describe a path that consists of a succession of random steps.\n",
    "\n",
    "Take a 1-dimensional random walk of 100,000 steps of size 1. Each step has a 50% probability of stepping to the left or right in direction $x$.\n",
    "\n",
    "Plot the position of the walker as a function of steps.\n",
    "\n",
    "Also plot a histogram of the position of the walker."
   ]
  },
  {
   "cell_type": "code",
   "execution_count": null,
   "metadata": {},
   "outputs": [],
   "source": []
  },
  {
   "cell_type": "code",
   "execution_count": null,
   "metadata": {},
   "outputs": [],
   "source": []
  }
 ],
 "metadata": {
  "kernelspec": {
   "display_name": "Python 3",
   "language": "python",
   "name": "python3"
  },
  "language_info": {
   "codemirror_mode": {
    "name": "ipython",
    "version": 3
   },
   "file_extension": ".py",
   "mimetype": "text/x-python",
   "name": "python",
   "nbconvert_exporter": "python",
   "pygments_lexer": "ipython3",
   "version": "3.8.8"
  }
 },
 "nbformat": 4,
 "nbformat_minor": 2
}
