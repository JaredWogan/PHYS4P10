{
 "cells": [
  {
   "cell_type": "markdown",
   "source": [
    "# Homework 06 - Limitations of computation "
   ],
   "metadata": {}
  },
  {
   "cell_type": "markdown",
   "source": [
    "#### Excercise 1\n",
    "\n",
    "Let $a=b=1$. Write a short program that keeps dividing $b$ in half until the computer decides that $a+b=a$. Print out the value of $b$, and the number of times $b$ was divided. Try again with $a=b=10,000,000$"
   ],
   "metadata": {}
  },
  {
   "cell_type": "code",
   "execution_count": 165,
   "source": [
    "def floatingPointPrecision(a: float) -> int:\r\n",
    "    b = a / 2\r\n",
    "    n = 1\r\n",
    "    while a + b != a:\r\n",
    "        n += 1\r\n",
    "        b /= 2\r\n",
    "        if n > 1E6:\r\n",
    "            break\r\n",
    "    print(f\"{n = }, {b = }\")\r\n",
    "    print(f\"{a + b = }, {a = }\")\r\n",
    "    return n\r\n",
    "\r\n",
    "a1 = 1.0\r\n",
    "a2 = 10_000_000.0\r\n",
    "\r\n",
    "print(f\"It takes {floatingPointPrecision(a1)} divisions for {a1 = }\")\r\n",
    "print(f\"It takes {floatingPointPrecision(a2)} divisions for {a2 = }\")"
   ],
   "outputs": [
    {
     "output_type": "stream",
     "name": "stdout",
     "text": [
      "n = 53, b = 1.1102230246251565e-16\n",
      "a + b = 1.0, a = 1.0\n",
      "It takes 53 divisions for a1 = 1.0\n",
      "n = 54, b = 5.551115123125783e-10\n",
      "a + b = 10000000.0, a = 10000000.0\n",
      "It takes 54 divisions for a2 = 10000000.0\n"
     ]
    }
   ],
   "metadata": {}
  },
  {
   "cell_type": "markdown",
   "source": [
    "#### Excercise 2\n",
    "\n",
    "What is the percent error between the true and computed value of the function\n",
    "$$\\frac{(1+x)-1}{x}$$ \n",
    "when $x=1\\times10^{-15}$?\n",
    "\n",
    "What about when $x=1\\times10^{-13}$\n"
   ],
   "metadata": {}
  },
  {
   "cell_type": "code",
   "execution_count": 166,
   "source": [
    "from typing import Union\r\n",
    "\r\n",
    "def floatingPointError(x: float) -> float:\r\n",
    "    return (\r\n",
    "        ((1 + x) - 1) / (x)\r\n",
    "    )\r\n",
    "\r\n",
    "def percentError(approximate: Union[int, float], exact: Union[int, float]) -> float:\r\n",
    "    return (\r\n",
    "        abs(approximate - exact) / exact\r\n",
    "    )\r\n",
    "\r\n",
    "x1 = 1E-15\r\n",
    "x2 = 1E-13\r\n",
    "\r\n",
    "print(f\"For {x1 = }, {floatingPointError(x1) = } and the percent error is {percentError(floatingPointError(x1), 1) = }\")\r\n",
    "print(f\"For {x2 = }, {floatingPointError(x2) = } and the percent error is {percentError(floatingPointError(x2), 1) = }\")"
   ],
   "outputs": [
    {
     "output_type": "stream",
     "name": "stdout",
     "text": [
      "For x1 = 1e-15, floatingPointError(x1) = 1.1102230246251565 and the percent error is percentError(floatingPointError(x1), 1) = 0.11022302462515654\n",
      "For x2 = 1e-13, floatingPointError(x2) = 0.9992007221626409 and the percent error is percentError(floatingPointError(x2), 1) = 0.0007992778373591136\n"
     ]
    }
   ],
   "metadata": {}
  },
  {
   "cell_type": "markdown",
   "source": [
    "#### Excercise 3\r\n",
    "Consider the following two equations.\r\n",
    "$$ x=1\\quad y=1+10^{-14}\\sqrt{2}$$\r\n",
    "\r\n",
    "Write a small program that prints all the digits of $10^{+14}(y-x)$, and compare with the actual, correct result."
   ],
   "metadata": {}
  },
  {
   "cell_type": "code",
   "execution_count": 167,
   "source": [
    "import numpy as np\r\n",
    "\r\n",
    "x = 1\r\n",
    "y = 1 + (1E-14) * np.sqrt(2)\r\n",
    "\r\n",
    "result = (1E14) * (y - x)\r\n",
    "\r\n",
    "print(f\"{result = }, {np.sqrt(2) = }\")\r\n",
    "print(f\"{percentError(floatingPointError(result), np.sqrt(2)) = }\")"
   ],
   "outputs": [
    {
     "output_type": "stream",
     "name": "stdout",
     "text": [
      "result = 1.4210854715202004, np.sqrt(2) = 1.4142135623730951\n",
      "percentError(floatingPointError(result), np.sqrt(2)) = 0.29289321881345254\n"
     ]
    }
   ],
   "metadata": {}
  },
  {
   "cell_type": "markdown",
   "source": [
    "#### Excercise 4\r\n",
    "\r\n",
    "Consider a simple quadratic equation $ax^2+bx+c=0$,  that has real solutions.\r\n",
    "\r\n",
    "Write a program with your own defined function that takes as input the three coefficients $a,b,c$ and prints out the two solutions using the standard formula\r\n",
    "$$x=\\frac{-b\\pm\\sqrt{b^2-4ac}}{2a}.$$ \r\n",
    "**A.** Use the program to compute and print the solutions of $x^2-25.0=0$ using scientific notation.\r\n",
    "\r\n",
    "**B.** Use the program to compute and print the solutions of $0.0001x^2+1000x+0.0001=0$  using scientific notation.\r\n",
    "\r\n",
    "\r\n",
    "There's another way to write the quadratic equation. Write a second defined function that takes as input the three coefficients $a,b,c$ and prints out the two solutions using the other formula\r\n",
    "$$x=\\frac{2c}{-b\\mp\\sqrt{b^2-4ac}}.$$ \r\n",
    "**C.** Solve the same equations as before with this method.\r\n",
    "\r\n",
    "**D.** What do you notice about the accuracy of both methods? Why is that?"
   ],
   "metadata": {}
  },
  {
   "cell_type": "markdown",
   "source": [
    "<div class=\"alert alert-block alert-info\">\n",
    "<b>Tip:</b> To format output in scientific notation the value in a variable <tt>x</tt>:\n",
    "<code> print(f\"Value: {x:E}\")</code>\n",
    "</div>"
   ],
   "metadata": {}
  },
  {
   "cell_type": "code",
   "execution_count": 168,
   "source": [
    "from typing import Tuple\r\n",
    "def quadratic1(a: float, b: float, c: float) -> Tuple[float, float]:\r\n",
    "    return (\r\n",
    "        (-b + np.sqrt(b**2 - 4 * a * c)) / (2 * a),\r\n",
    "        (-b - np.sqrt(b**2 - 4 * a * c)) / (2 * a)\r\n",
    "    )\r\n",
    "\r\n",
    "def quadratic2(a: float, b: float, c: float) -> Tuple[float, float]:\r\n",
    "    return (\r\n",
    "        (2 * c) / (-b - np.sqrt(b**2 - 4 * a * c)),\r\n",
    "        (2 * c) / (-b + np.sqrt(b**2 - 4 * a * c))\r\n",
    "    )\r\n",
    "\r\n",
    "# Part A\r\n",
    "(a, b, c) = (1, 0, -25.0)\r\n",
    "(x1, x2) = quadratic1(a, b, c)\r\n",
    "print(f\"The roots of the quadratic (Method 1) with {(a, b, c) = } are {(x1, x2) = }\")\r\n",
    "\r\n",
    "# Part B\r\n",
    "(a, b, c) = (1E-4, 1E3, 1E-4)\r\n",
    "(x1, x2) = quadratic1(a, b, c)\r\n",
    "print(f\"The roots of the quadratic (Method 1) with (a, b, c) = ({a:.4e}, {b:.4e}, {c:.4e}) are (x1, x2) = ({x1:.4e}, {x2:.4e})\")\r\n",
    "\r\n",
    "# Part C\r\n",
    "(a, b, c) = (1E-4, 1E3, 1E-4)\r\n",
    "(x1, x2) = quadratic2(a, b, c)\r\n",
    "print(f\"The roots of the quadratic (Method 2) with (a, b, c) = ({a:.4e}, {b:.4e}, {c:.4e}) are (x1, x2) = ({x1:.4e}, {x2:.4e})\")"
   ],
   "outputs": [
    {
     "output_type": "stream",
     "name": "stdout",
     "text": [
      "The roots of the quadratic (Method 1) with (a, b, c) = (1, 0, -25.0) are (x1, x2) = (5.0, -5.0)\n",
      "The roots of the quadratic (Method 1) with (a, b, c) = (1.0000e-04, 1.0000e+03, 1.0000e-04) are (x1, x2) = (-1.0004e-07, -1.0000e+07)\n",
      "The roots of the quadratic (Method 2) with (a, b, c) = (1.0000e-04, 1.0000e+03, 1.0000e-04) are (x1, x2) = (-1.0000e-07, -9.9956e+06)\n"
     ]
    }
   ],
   "metadata": {}
  },
  {
   "cell_type": "markdown",
   "source": [
    "**Answer** \r\n",
    "\r\n",
    "Both methods appear to give the same results, which should be expected as we are not near the edge of where floating precision errors occur."
   ],
   "metadata": {}
  },
  {
   "cell_type": "markdown",
   "source": [
    "#### Excercise 5\n",
    "\n",
    "Plot 401 equally spaced points around the $x$ values of $(1-2\\times10^{-8})$ to $(1+2\\times10^{-8})$ of the function\n",
    "$$f(x)=x^7-7x^6+21x^5-35x^4+35x^3-21x^2+7x-1.$$\n",
    "This function is of course, $(x-1)^7$, which since $x$ is so close to 1, should be a nearly constant smooth curve close to zero. What did you get? "
   ],
   "metadata": {}
  },
  {
   "cell_type": "code",
   "execution_count": 169,
   "source": [
    "import matplotlib.pyplot as plt\r\n",
    "from decimal import Decimal, getcontext\r\n",
    "\r\n",
    "# Set decimal precision to 60 decimals (50 was too small)\r\n",
    "getcontext().prec = 60\r\n",
    "\r\n",
    "numPoints = 401\r\n",
    "x1 = 1 - 2E-8\r\n",
    "x2 = 1 + 2E-8\r\n",
    "x = np.linspace(x1, x2, numPoints)\r\n",
    "\r\n",
    "def f_float(x: float) -> float:\r\n",
    "    return x**7 - 7*x**6 + 21*x**5 - 35*x**4 + 35*x**3 - 21*x**2 + 7*x - 1\r\n",
    "\r\n",
    "# Solution to the floating point error :)\r\n",
    "def f_decimal(x: float) -> Decimal:\r\n",
    "    try:\r\n",
    "        iterator = iter(x)\r\n",
    "    except TypeError:\r\n",
    "        y = Decimal(x)\r\n",
    "    else:\r\n",
    "        y = np.array(list(map(Decimal, x)))\r\n",
    "    return y**7 - 7*y**6 + 21*y**5 - 35*y**4 + 35*y**3 - 21*y**2 + 7*y - 1\r\n",
    "\r\n",
    "fig, ax = plt.subplots(1, 2, figsize=[18,6])\r\n",
    "ax[0].set_title(\"Using Standard Python Floats\")\r\n",
    "ax[0].plot(x, f_float(x))\r\n",
    "ax[1].set_title(\"Using the Decimal Class\")\r\n",
    "ax[1].plot(x, f_decimal(x))\r\n",
    "\r\n",
    "plt.show()\r\n"
   ],
   "outputs": [
    {
     "output_type": "display_data",
     "data": {
      "image/png": "[encoded data removed]",
      "text/plain": [
       "<Figure size 1296x432 with 2 Axes>"
      ]
     },
     "metadata": {
      "needs_background": "light"
     }
    }
   ],
   "metadata": {}
  },
  {
   "cell_type": "markdown",
   "source": [
    "**Answer**\r\n",
    "\r\n",
    "Clearly, this is not a straight line at all, and shows the issue with floating point numbers and their precision. \r\n",
    "\r\n",
    "On the right however, I have used the Decimal library which allows you to set an arbitrary precision for decimal numbers, which solves the issue and does indeed now plot the function correctly :)\r\n",
    "\r\n",
    "See the documentation <a href=https://docs.python.org/3/library/decimal.html#module-decimal>here</a>."
   ],
   "metadata": {}
  },
  {
   "cell_type": "markdown",
   "source": [
    "#### Excercise 6\r\n",
    "\r\n",
    "Let's explore how careful algorithmic complexity can increase the speed of a problem.\r\n",
    "\r\n",
    "**A.** Write a program using the standard three-loop algorithm that multiplies two $N\\times N$ matricies, where $N\\geq10$. Time how long it takes in seconds. Use the following code to generate random number matricies, and time the multiplication. Print out the first 5 elements of the first row of your matrix.\r\n",
    "\r\n",
    "By declaring the matrix `C` early, we can ensure that all the memory needed to hold the arrays is set at the beginning, and that no time is spent creating space or growing arrays to hold the values.\r\n",
    "```python\r\n",
    "import time\r\n",
    "import numpy\r\n",
    "N=25\r\n",
    "A=numpy.random.rand(N,N)\r\n",
    "B=numpy.random.rand(N,N)\r\n",
    "C=numpy.zeros([N,N],float)\r\n",
    "\r\n",
    "start_time = time.time()\r\n",
    "# DO THE MULTIPLICATION LOOPS HERE\r\n",
    "end_time = time.time()\r\n",
    "print(f\"Time elapsed: {end_time-start_time} seconds\")\r\n",
    "```\r\n",
    "\r\n",
    "**B.** Now use the `numpy.dot` function to multiply the same matricies $A$ and $B$. Make sure you get the same result as above, by comparing at least the first 5 elements of the first row of the result. \r\n",
    "\r\n",
    "**C.** Try larger and larger values of $N$ (up to about 250) and time how long it takes for the three-loops long way, and for the `numpy.dot` method.\r\n",
    "\r\n",
    "* Which method is faster when $N$ is small, for example, $N=10$?\r\n",
    "* What value of $N$ did your method start to take more than 1 second?\r\n",
    "* How much faster is the `numpy.dot` method to yours for $N=250$?"
   ],
   "metadata": {}
  },
  {
   "cell_type": "code",
   "execution_count": 172,
   "source": [
    "import time as t\r\n",
    "\r\n",
    "def matrixMultiplicationTiming(N: int, M: int, L: int) -> None:\r\n",
    "    A = np.random.rand(N, M)\r\n",
    "    B = np.random.rand(M, L)\r\n",
    "\r\n",
    "    print(f\"Matrix A ({N}x{M}) multiplied by Matrix B ({M}x{L})\\n\")\r\n",
    "\r\n",
    "    print(\"Python For loop matrix multiplication in progress...\")\r\n",
    "    C = np.zeros([N, L], float)\r\n",
    "    start_time = t.time()\r\n",
    "\r\n",
    "    for i in range(N):\r\n",
    "        for j in range(L):\r\n",
    "            for k in range(M):\r\n",
    "                C[i, j] += A[i, k] * B[k, j]\r\n",
    "\r\n",
    "    end_time = t.time()\r\n",
    "\r\n",
    "    print(f\"Time elapsed: {end_time-start_time} seconds\")\r\n",
    "    print(f\"The first 5 elements of C are {C[0,0:5] = }\\n\")\r\n",
    "\r\n",
    "    print(\"Numpy matrix multiplication in progress...\")\r\n",
    "    C = np.zeros([N, L], float)\r\n",
    "    start_time = t.time()\r\n",
    "\r\n",
    "    C = np.dot(A, B)\r\n",
    "\r\n",
    "    end_time = t.time()\r\n",
    "\r\n",
    "    print(f\"Time elapsed: {end_time-start_time} seconds\")\r\n",
    "    print(f\"The first 5 elements of C are {C[0,0:5] = }\\n\\n\\n\")\r\n",
    "\r\n",
    "N = np.arange(25, 250, 25)\r\n",
    "for i in range(N.shape[0]):\r\n",
    "    matrixMultiplicationTiming(N[i], N[i], N[i])"
   ],
   "outputs": [
    {
     "output_type": "stream",
     "name": "stdout",
     "text": [
      "Matrix A (25x25) multiplied by Matrix B (25x25)\n",
      "\n",
      "Python For loop matrix multiplication in progress...\n",
      "Time elapsed: 0.011003494262695312 seconds\n",
      "The first 5 elements of C are C[0,0:5] = array([7.30945532, 6.45904109, 6.89535612, 7.07235867, 6.81766269])\n",
      "\n",
      "Numpy matrix multiplication in progress...\n",
      "Time elapsed: 0.0 seconds\n",
      "The first 5 elements of C are C[0,0:5] = array([7.30945532, 6.45904109, 6.89535612, 7.07235867, 6.81766269])\n",
      "\n",
      "\n",
      "\n",
      "Matrix A (50x50) multiplied by Matrix B (50x50)\n",
      "\n",
      "Python For loop matrix multiplication in progress...\n",
      "Time elapsed: 0.09101986885070801 seconds\n",
      "The first 5 elements of C are C[0,0:5] = array([14.86971633, 13.11730559, 12.6284447 , 12.39676923, 12.08407037])\n",
      "\n",
      "Numpy matrix multiplication in progress...\n",
      "Time elapsed: 0.0 seconds\n",
      "The first 5 elements of C are C[0,0:5] = array([14.86971633, 13.11730559, 12.6284447 , 12.39676923, 12.08407037])\n",
      "\n",
      "\n",
      "\n",
      "Matrix A (75x75) multiplied by Matrix B (75x75)\n",
      "\n",
      "Python For loop matrix multiplication in progress...\n",
      "Time elapsed: 0.28206396102905273 seconds\n",
      "The first 5 elements of C are C[0,0:5] = array([15.70038368, 18.99727176, 17.45105382, 19.50440508, 19.54232735])\n",
      "\n",
      "Numpy matrix multiplication in progress...\n",
      "Time elapsed: 0.0 seconds\n",
      "The first 5 elements of C are C[0,0:5] = array([15.70038368, 18.99727176, 17.45105382, 19.50440508, 19.54232735])\n",
      "\n",
      "\n",
      "\n",
      "Matrix A (100x100) multiplied by Matrix B (100x100)\n",
      "\n",
      "Python For loop matrix multiplication in progress...\n",
      "Time elapsed: 0.6601481437683105 seconds\n",
      "The first 5 elements of C are C[0,0:5] = array([26.00588479, 26.05454459, 23.4681423 , 25.07185155, 22.41340455])\n",
      "\n",
      "Numpy matrix multiplication in progress...\n",
      "Time elapsed: 0.0 seconds\n",
      "The first 5 elements of C are C[0,0:5] = array([26.00588479, 26.05454459, 23.4681423 , 25.07185155, 22.41340455])\n",
      "\n",
      "\n",
      "\n",
      "Matrix A (125x125) multiplied by Matrix B (125x125)\n",
      "\n",
      "Python For loop matrix multiplication in progress...\n",
      "Time elapsed: 1.229276180267334 seconds\n",
      "The first 5 elements of C are C[0,0:5] = array([33.99771402, 30.67809596, 33.26949238, 32.93911701, 35.71358134])\n",
      "\n",
      "Numpy matrix multiplication in progress...\n",
      "Time elapsed: 0.0 seconds\n",
      "The first 5 elements of C are C[0,0:5] = array([33.99771402, 30.67809596, 33.26949238, 32.93911701, 35.71358134])\n",
      "\n",
      "\n",
      "\n",
      "Matrix A (150x150) multiplied by Matrix B (150x150)\n",
      "\n",
      "Python For loop matrix multiplication in progress...\n",
      "Time elapsed: 2.091691732406616 seconds\n",
      "The first 5 elements of C are C[0,0:5] = array([37.45108472, 38.00971768, 41.06946955, 43.85886539, 39.97208077])\n",
      "\n",
      "Numpy matrix multiplication in progress...\n",
      "Time elapsed: 0.0010001659393310547 seconds\n",
      "The first 5 elements of C are C[0,0:5] = array([37.45108472, 38.00971768, 41.06946955, 43.85886539, 39.97208077])\n",
      "\n",
      "\n",
      "\n",
      "Matrix A (175x175) multiplied by Matrix B (175x175)\n",
      "\n",
      "Python For loop matrix multiplication in progress...\n",
      "Time elapsed: 3.20772123336792 seconds\n",
      "The first 5 elements of C are C[0,0:5] = array([40.78683788, 43.56822119, 39.86197483, 40.4685918 , 40.14058016])\n",
      "\n",
      "Numpy matrix multiplication in progress...\n",
      "Time elapsed: 0.0010001659393310547 seconds\n",
      "The first 5 elements of C are C[0,0:5] = array([40.78683788, 43.56822119, 39.86197483, 40.4685918 , 40.14058016])\n",
      "\n",
      "\n",
      "\n",
      "Matrix A (200x200) multiplied by Matrix B (200x200)\n",
      "\n",
      "Python For loop matrix multiplication in progress...\n",
      "Time elapsed: 4.853230714797974 seconds\n",
      "The first 5 elements of C are C[0,0:5] = array([50.39401098, 48.47797657, 50.58054562, 49.67512949, 50.40595865])\n",
      "\n",
      "Numpy matrix multiplication in progress...\n",
      "Time elapsed: 0.0010004043579101562 seconds\n",
      "The first 5 elements of C are C[0,0:5] = array([50.39401098, 48.47797657, 50.58054562, 49.67512949, 50.40595865])\n",
      "\n",
      "\n",
      "\n",
      "Matrix A (225x225) multiplied by Matrix B (225x225)\n",
      "\n",
      "Python For loop matrix multiplication in progress...\n",
      "Time elapsed: 6.996708393096924 seconds\n",
      "The first 5 elements of C are C[0,0:5] = array([59.95441178, 55.53746515, 59.94997863, 62.94142462, 62.27277293])\n",
      "\n",
      "Numpy matrix multiplication in progress...\n",
      "Time elapsed: 0.0 seconds\n",
      "The first 5 elements of C are C[0,0:5] = array([59.95441178, 55.53746515, 59.94997863, 62.94142462, 62.27277293])\n",
      "\n",
      "\n",
      "\n"
     ]
    }
   ],
   "metadata": {}
  },
  {
   "cell_type": "code",
   "execution_count": 173,
   "source": [
    "matrixMultiplicationTiming(10, 10, 10)"
   ],
   "outputs": [
    {
     "output_type": "stream",
     "name": "stdout",
     "text": [
      "Matrix A (10x10) multiplied by Matrix B (10x10)\n",
      "\n",
      "Python For loop matrix multiplication in progress...\n",
      "Time elapsed: 0.0 seconds\n",
      "The first 5 elements of C are C[0,0:5] = array([3.28967765, 4.33437273, 3.80026136, 5.00405433, 3.70360062])\n",
      "\n",
      "Numpy matrix multiplication in progress...\n",
      "Time elapsed: 0.0 seconds\n",
      "The first 5 elements of C are C[0,0:5] = array([3.28967765, 4.33437273, 3.80026136, 5.00405433, 3.70360062])\n",
      "\n",
      "\n",
      "\n"
     ]
    }
   ],
   "metadata": {}
  },
  {
   "cell_type": "markdown",
   "source": [
    "**Answer**\n"
   ],
   "metadata": {}
  },
  {
   "cell_type": "markdown",
   "source": [
    "For N = 10, both methods are nearly instant, so the method does not play much of a role. \r\n",
    "(Perhaps on a slower machine it might)\r\n",
    "\r\n",
    "The For loop method began taking >1 second to compute between N = 100 and N = 125.\r\n",
    "\r\n",
    "The numpy method for N = 250 is almost instant, as compared to the For loop which took 7 seconds to compute."
   ],
   "metadata": {}
  }
 ],
 "metadata": {
  "kernelspec": {
   "name": "python3",
   "display_name": "Python 3.8.8 64-bit ('base': conda)"
  },
  "language_info": {
   "codemirror_mode": {
    "name": "ipython",
    "version": 3
   },
   "file_extension": ".py",
   "mimetype": "text/x-python",
   "name": "python",
   "nbconvert_exporter": "python",
   "pygments_lexer": "ipython3",
   "version": "3.8.8"
  },
  "interpreter": {
   "hash": "8f0aa77b08787691d5ad57eb67530aa0f6a54135b18cc5e5fe8bb43e780afa21"
  }
 },
 "nbformat": 4,
 "nbformat_minor": 2
}