{
 "cells": [
  {
   "cell_type": "code",
   "execution_count": 436,
   "metadata": {},
   "outputs": [],
   "source": [
    "from typing import Union, Tuple, List\n",
    "import numpy as np\n",
    "import matplotlib.pyplot as plt\n",
    "from scipy.misc import derivative"
   ]
  },
  {
   "cell_type": "markdown",
   "metadata": {},
   "source": [
    "# Homework 10 - Nonlinear equations\n",
    "\n",
    "## Part 1\n",
    "\n",
    "\n",
    "#### Excercise 1\n",
    "Try to find the solution to \n",
    "$$x=e^{1-x^2}$$\n",
    "using the relaxation method, and *not inverting or changing* this form of the equation. You can stop the iterations based on the simple method of comparing $x$ and $x'$.\n",
    "\n",
    "- What should the answer be analytically? \n",
    "- What is you numerical solution?\n",
    "- What do you notice about the iteration solutions? "
   ]
  },
  {
   "cell_type": "code",
   "execution_count": 437,
   "metadata": {},
   "outputs": [],
   "source": [
    "# Program:\n",
    "def relaxation(f: callable, initial_guess: float = 1, tolerace: float = 1e-30, max_iter: int = 5000) -> Union[float, None]:\n",
    "    \"\"\"\n",
    "    Solve nonlinear equations using relaxation method\n",
    "    :param f: function to be solved\n",
    "    :param tolerace: the tolerance for the solution\n",
    "    :param max_iter: maximum number of iterations\n",
    "    :return: the solution\n",
    "    \"\"\"\n",
    "    x = initial_guess\n",
    "    for i in range(max_iter):\n",
    "        x_new = f(x)\n",
    "        if np.isclose(x_new, x, atol=tolerace):\n",
    "            return x_new\n",
    "        x = x_new\n",
    "    return None"
   ]
  },
  {
   "cell_type": "code",
   "execution_count": 438,
   "metadata": {},
   "outputs": [
    {
     "name": "stdout",
     "output_type": "stream",
     "text": [
      "The relaxation method results in x = None\n",
      "The relaxation method results in x = 1.0\n",
      "The relaxation method results in x = None\n"
     ]
    }
   ],
   "source": [
    "def f(x: float) -> float:\n",
    "    \"\"\"\n",
    "    Function to be solved\n",
    "    :param x: x value\n",
    "    :return: f(x)\n",
    "    \"\"\"\n",
    "    return np.exp(1 - x**2)\n",
    "\n",
    "x = relaxation(f, initial_guess=0.99)\n",
    "print(f\"The relaxation method results in {x = }\")\n",
    "x = relaxation(f, initial_guess=1)\n",
    "print(f\"The relaxation method results in {x = }\")\n",
    "x = relaxation(f, initial_guess=1.01)\n",
    "print(f\"The relaxation method results in {x = }\")"
   ]
  },
  {
   "cell_type": "markdown",
   "metadata": {},
   "source": [
    "<font color=\"blue\">Answer:</font> \n",
    "- Analytically, the answer should be x = 1, by inspection.\n",
    "- Numerically, we don't get a solution unless we provide the guess to already be the solution!\n",
    "    - Why? Because the solution to the equation $x = e^{1 - x^2}$ is unstable. Any deviation from the actual solution and the iterative method will cause the next iteration to be further away from the solution, not closer!"
   ]
  },
  {
   "cell_type": "markdown",
   "metadata": {},
   "source": [
    "#### Excercise 2\n",
    "\n",
    "Solve the equation in Excercise 1 for the other $x$ and try again. Show the analytical function, and solve it numericall. Start the iterations with $x=0.5$."
   ]
  },
  {
   "cell_type": "markdown",
   "metadata": {},
   "source": [
    "$$\n",
    "x = e^{1 - x^2} \\\\[5pt]\n",
    "\\ln(x) = 1 - x^2 \\\\[5pt]\n",
    "\\sqrt{1 - \\ln(x)} = x\\\\[5pt]\n",
    "$$"
   ]
  },
  {
   "cell_type": "markdown",
   "metadata": {},
   "source": [
    "<font color=\"blue\">Answer:</font> "
   ]
  },
  {
   "cell_type": "code",
   "execution_count": 439,
   "metadata": {},
   "outputs": [
    {
     "name": "stdout",
     "output_type": "stream",
     "text": [
      "The relaxation method results in x = 0.9999977765356085\n",
      "The relaxation method results in x = 1.0\n",
      "The relaxation method results in x = 1.0000018367939965\n"
     ]
    }
   ],
   "source": [
    "# Program:\n",
    "def f(x: float) -> float:\n",
    "    \"\"\"\n",
    "    Function to be solved\n",
    "    :param x: x value\n",
    "    :return: f(x)\n",
    "    \"\"\"\n",
    "    return np.sqrt(1 - np.log(x))\n",
    "\n",
    "x = relaxation(f, initial_guess=0.5)\n",
    "print(f\"The relaxation method results in {x = }\")\n",
    "x = relaxation(f, initial_guess=1)\n",
    "print(f\"The relaxation method results in {x = }\")\n",
    "x = relaxation(f, initial_guess=1.5)\n",
    "print(f\"The relaxation method results in {x = }\")"
   ]
  },
  {
   "cell_type": "markdown",
   "metadata": {},
   "source": [
    "#### Excercise 3\n",
    "\n",
    "The function \n",
    "$$x=x^2+\\cos{4x}$$ \n",
    "cannot be strictly inverted, but you can re-arrange the equation.\n",
    "\n",
    "Solve the equation for the $x$ inside the $\\cos$ function and use the relaxation method to try to find a solution. \n",
    "\n",
    "How many solutions are there? How many can this rearrangement of the equation find?\n",
    "\n",
    "This is not a true inversion, so there is no guarantee this will work."
   ]
  },
  {
   "cell_type": "markdown",
   "metadata": {},
   "source": [
    "<font color=\"blue\">Answer:</font>"
   ]
  },
  {
   "cell_type": "markdown",
   "metadata": {},
   "source": [
    "$$\n",
    "x = x^2 + \\cos(4x) \\\\[5pt]\n",
    "x - x^2 = \\cos(4x) \\\\[5pt]\n",
    "\\frac{\\arccos(x - x^2)}{4} = x\\\\[5pt]\n",
    "$$\n",
    "\n",
    "- There are a total of two solutions to the original equation, however in this \"pseudo-inversion\", we lose one of them, as can be seen in the plot."
   ]
  },
  {
   "cell_type": "code",
   "execution_count": 440,
   "metadata": {},
   "outputs": [
    {
     "name": "stderr",
     "output_type": "stream",
     "text": [
      "<ipython-input-440-0b2f4e464faf>:16: RuntimeWarning: invalid value encountered in arccos\n",
      "  return np.arccos(x - x**2)/4\n"
     ]
    },
    {
     "data": {
      "image/png": "[encoded data removed]",
      "text/plain": [
       "<Figure size 648x432 with 1 Axes>"
      ]
     },
     "metadata": {
      "needs_background": "light"
     },
     "output_type": "display_data"
    },
    {
     "name": "stdout",
     "output_type": "stream",
     "text": [
      "The relaxation method results in x = 0.3364146387163608\n",
      "The relaxation method results in x = 0.3364146315631733\n"
     ]
    }
   ],
   "source": [
    "# Program:\n",
    "def f(x: float) -> float:\n",
    "    \"\"\"\n",
    "    Function to be solved\n",
    "    :param x: x value\n",
    "    :return: f(x)\n",
    "    \"\"\"\n",
    "    return x**2 + np.cos(4*x)\n",
    "\n",
    "def finv(x: float) -> float:\n",
    "    \"\"\"\n",
    "    Function to be solved\n",
    "    :param x: x value\n",
    "    :return: f(x)\n",
    "    \"\"\"\n",
    "    return np.arccos(x - x**2)/4\n",
    "\n",
    "plt.figure(figsize=(9, 6))\n",
    "x = np.linspace(-2, 2, 1000)\n",
    "plt.plot(x, f(x), label=\"f(x)\")\n",
    "plt.plot(x, finv(x), label=\"$f^{-1}(x)$\")\n",
    "plt.plot(x, x, label=\"x\")\n",
    "plt.legend()\n",
    "plt.show()\n",
    "\n",
    "x = relaxation(finv, initial_guess=0)\n",
    "print(f\"The relaxation method results in {x = }\")\n",
    "x = relaxation(finv, initial_guess=1.5)\n",
    "print(f\"The relaxation method results in {x = }\")"
   ]
  },
  {
   "cell_type": "markdown",
   "metadata": {},
   "source": [
    "#### Excercise 4\n",
    "Solve the equation\n",
    "$$x=\\sqrt{1-\\log{x}}$$\n",
    "stopping the iteration when the error estimation based on the derviative of $f(x)$ is less than $10^{-9}$. Start at $x=0.3$.\n",
    "\n",
    "Error:\n",
    "$$\\epsilon'\\approx\\frac{x-x'}{1-1/f'(x)}$$\n",
    "\n",
    "**Assume that you don't know the analytical form of derivative** $f'(x)$. Use `scipy.misc.derivative` with `dx=1e-5` where you would use $f'$ instead."
   ]
  },
  {
   "cell_type": "code",
   "execution_count": 441,
   "metadata": {},
   "outputs": [],
   "source": [
    "def relaxation_error(\n",
    "    f: callable, \n",
    "    fp: callable = None, \n",
    "    initial_guess: float = 1, \n",
    "    tolerace: float = 1e-9, \n",
    "    max_iter: int = 5000\n",
    ") -> Union[float, None]:\n",
    "    \"\"\"\n",
    "    Solve nonlinear equations using relaxation method\n",
    "    :param f: function to be solved\n",
    "    :param tolerace: the tolerance for the solution\n",
    "    :param max_iter: maximum number of iterations\n",
    "    :return: the solution\n",
    "    \"\"\"\n",
    "    x = initial_guess\n",
    "    for i in range(max_iter):\n",
    "        x_new = f(x)\n",
    "        if fp is not None:\n",
    "            dx = fp(x)\n",
    "        else:\n",
    "            dx = derivative(f, x, dx=1e-5)\n",
    "        error = (x - x_new)/(1 - 1/dx)\n",
    "        if abs(error) < tolerace:\n",
    "            return x_new\n",
    "        x = x_new\n",
    "    return None"
   ]
  },
  {
   "cell_type": "code",
   "execution_count": 442,
   "metadata": {},
   "outputs": [
    {
     "name": "stdout",
     "output_type": "stream",
     "text": [
      "The relaxation method results in x = 0.9999999991308792\n"
     ]
    }
   ],
   "source": [
    "# Program:\n",
    "\n",
    "def f(x: float) -> float:\n",
    "    \"\"\"\n",
    "    Function to be solved\n",
    "    :param x: x value\n",
    "    :return: f(x)\n",
    "    \"\"\"\n",
    "    return np.sqrt(1 - np.log(x))\n",
    "\n",
    "x = relaxation_error(f, initial_guess=0.3)\n",
    "print(f\"The relaxation method results in {x = }\")"
   ]
  },
  {
   "cell_type": "markdown",
   "metadata": {},
   "source": [
    "#### Excercise 5\n",
    "\n",
    "Write a program to solve the equation \n",
    "    $$x=1-e^{-cx}$$\n",
    "by the relaxation method. Your only output should be a plot of the solution $x$ as a function of $c$ from $0.001\\rightarrow3$ in steps of $0.001$. You should find a clear transition of the regime where the solution goes from zero to non-zero.\n",
    "\n",
    "Use a target of $10^{-6}$ for the for estimation of the error in the solution, and use the first derivative to calculate it in the relaxation method loop. Use seperate functions for the right hand side $f(x)$ and its derivative $f'(x)$, in other words:\n",
    "\n",
    "```python\n",
    "def f(c,x) :\n",
    "   return 1.0-numpy.exp(-c*x)\n",
    "```     \n",
    "and \n",
    "```python\n",
    "def fp(c,x) :\n",
    "    return ?\n",
    "```     \n",
    "The observed transisiton is known as the percolation transition."
   ]
  },
  {
   "cell_type": "code",
   "execution_count": 443,
   "metadata": {},
   "outputs": [],
   "source": [
    "def relaxation_error_c(\n",
    "    f: callable, \n",
    "    fp: callable = None,\n",
    "    c: float = float,\n",
    "    initial_guess: float = 1, \n",
    "    tolerace: float = 1e-9, \n",
    "    max_iter: int = 5000\n",
    ") -> Union[float, None]:\n",
    "    \"\"\"\n",
    "    Solve nonlinear equations using relaxation method\n",
    "    :param f: function to be solved\n",
    "    :param tolerace: the tolerance for the solution\n",
    "    :param max_iter: maximum number of iterations\n",
    "    :return: the solution\n",
    "    \"\"\"\n",
    "    x = initial_guess\n",
    "    for i in range(max_iter):\n",
    "        x_new = f(x, c)\n",
    "        if fp is not None:\n",
    "            dx = fp(x, c)\n",
    "        else:\n",
    "            dx = derivative(f, x, dx=1e-6)\n",
    "        error = (x - x_new)/(1 - 1/dx)\n",
    "        if abs(error) < tolerace:\n",
    "            return x_new, i\n",
    "        x = x_new\n",
    "    return None, max_iter\n",
    "\n",
    "def plot_relaxation_solution(\n",
    "    f: callable, \n",
    "    range: Tuple[float, float, float],\n",
    "    fp: callable = None,\n",
    "    initial_guess: float = 1,\n",
    "    tolerace: float = 1e-9, \n",
    "    max_iter: int = 5000,\n",
    ") -> None:\n",
    "    c = np.arange(*range)\n",
    "    x = []\n",
    "    y = []\n",
    "    for i in c:\n",
    "        solution, iterations = relaxation_error_c(f=f, fp=fp, c=i, initial_guess=initial_guess, tolerace=tolerace, max_iter=max_iter)\n",
    "        x.append(solution)\n",
    "        y.append(iterations)\n",
    "    x = np.array(x)\n",
    "    y = np.array(y)\n",
    "    \n",
    "    plt.figure(figsize=(9, 6))\n",
    "    plt.title(f\"Solution Using Relaxation Method for {f.__name__}\")\n",
    "    plt.xlabel(\"c\")\n",
    "    plt.ylabel(\"x\")\n",
    "    plt.plot(c, x, label=\"Solution to $x = f(x)$\")\n",
    "    plt.legend()\n",
    "    plt.show()\n",
    "    plt.close()\n",
    "    \n",
    "    plt.figure(figsize=(9, 6))\n",
    "    plt.title(\"Iteractions to Solve $x = f(x)$ Using Relaxation Method\")\n",
    "    plt.xlabel(\"c\")\n",
    "    plt.ylabel(\"Log(iterations)\")\n",
    "    plt.plot(c, y, label=\"Iterations to solve $x = f(x)$\")\n",
    "    plt.yscale(\"log\")\n",
    "    plt.legend()\n",
    "    plt.show()\n",
    "    plt.close()"
   ]
  },
  {
   "cell_type": "code",
   "execution_count": 444,
   "metadata": {},
   "outputs": [
    {
     "data": {
      "image/png": "[encoded data removed]",
      "text/plain": [
       "<Figure size 648x432 with 1 Axes>"
      ]
     },
     "metadata": {
      "needs_background": "light"
     },
     "output_type": "display_data"
    },
    {
     "data": {
      "image/png": "[encoded data removed]",
      "text/plain": [
       "<Figure size 648x432 with 1 Axes>"
      ]
     },
     "metadata": {
      "needs_background": "light"
     },
     "output_type": "display_data"
    }
   ],
   "source": [
    "# Program:\n",
    "\n",
    "def f(x: float, c: float) -> float:\n",
    "    \"\"\"\n",
    "    Function to be solved\n",
    "    :param x: x value\n",
    "    :return: f(x)\n",
    "    \"\"\"\n",
    "    return 1 - np.exp(-c*x)\n",
    "\n",
    "def fp(x: float, c: float) -> float:\n",
    "    \"\"\"\n",
    "    Function to be solved\n",
    "    :param x: x value\n",
    "    :return: f(x)\n",
    "    \"\"\"\n",
    "    return c*np.exp(-c*x)\n",
    "\n",
    "plot_relaxation_solution(f=f, range=(0.001, 3, 0.001), fp=fp, initial_guess=1, tolerace=1e-6, max_iter=5000)\n"
   ]
  },
  {
   "cell_type": "markdown",
   "metadata": {},
   "source": [
    "####  Excercise 6 (Bonus 5 points)\n",
    "\n",
    "Change your program from Excercise 5 to plot out **the number of interations it took** to converge to a solution as a function of $c$ using normal relaxation. Use log scale on the yaxis becuase it will take a large number of iterations for $c\\sim1$\n",
    "\n",
    "Write a second program to utilize overrrelaxation, using $\\alpha=0.5$.\n",
    "\n",
    "$$x'=(1-\\alpha)f(x)-\\alpha x$$\n",
    "\n",
    "$$\\epsilon' \\approx \\frac{x-x'}{1-1/\\left[(1+\\alpha)f'(x)-\\alpha\\right]}$$"
   ]
  },
  {
   "cell_type": "code",
   "execution_count": 445,
   "metadata": {},
   "outputs": [],
   "source": [
    "def over_relaxation_error_c(\n",
    "    alpha: float,\n",
    "    f: callable, \n",
    "    fp: callable = None,\n",
    "    c: float = float,\n",
    "    initial_guess: float = 1, \n",
    "    tolerace: float = 1e-9, \n",
    "    max_iter: int = 5000\n",
    ") -> Union[float, None]:\n",
    "    \"\"\"\n",
    "    Solve nonlinear equations using over relaxation method\n",
    "    :param f: function to be solved\n",
    "    :param tolerace: the tolerance for the solution\n",
    "    :param max_iter: maximum number of iterations\n",
    "    :return: the solution\n",
    "    \"\"\"\n",
    "    x = initial_guess\n",
    "    for i in range(max_iter):\n",
    "        x_new = (1 - alpha) * f(x, c) - alpha * x\n",
    "        if fp is not None:\n",
    "            dx = fp(x, c)\n",
    "        else:\n",
    "            dx = derivative(f, x, dx=1e-6)\n",
    "        error = (x - x_new)/(1 - (1 / ((1 + alpha) * dx - alpha)))\n",
    "        if abs(error) < tolerace:\n",
    "            return x_new, i\n",
    "        x = x_new\n",
    "    return None, max_iter\n",
    "\n",
    "def plot_over_relaxation_solution(\n",
    "    alpha: float,\n",
    "    f: callable, \n",
    "    range: Tuple[float, float, float],\n",
    "    fp: callable = None,\n",
    "    initial_guess: float = 1,\n",
    "    tolerace: float = 1e-9, \n",
    "    max_iter: int = 5000,\n",
    ") -> None:\n",
    "    c = np.arange(*range)\n",
    "    x = []\n",
    "    y = []\n",
    "    for i in c:\n",
    "        solution, iterations = over_relaxation_error_c(\n",
    "            alpha=0.5, \n",
    "            f=f, \n",
    "            fp=fp, \n",
    "            c=i, \n",
    "            initial_guess=initial_guess, \n",
    "            tolerace=tolerace, \n",
    "            max_iter=max_iter\n",
    "        )\n",
    "        x.append(solution)\n",
    "        y.append(iterations)\n",
    "    x = np.array(x)\n",
    "    y = np.array(y)\n",
    "    \n",
    "    plt.figure(figsize=(9, 6))\n",
    "    plt.title(f\"Solution Using Over Relaxation Method for {f.__name__}\")\n",
    "    plt.xlabel(\"c\")\n",
    "    plt.ylabel(\"x\")\n",
    "    plt.plot(c, x, label=\"Solution to $x = f(x)$\")\n",
    "    plt.legend()\n",
    "    plt.show()\n",
    "    plt.close()\n",
    "    \n",
    "    plt.figure(figsize=(9, 6))\n",
    "    plt.title(\"Iteractions to Solve $x = f(x)$ Using Over Relaxation Method\")\n",
    "    plt.xlabel(\"c\")\n",
    "    plt.ylabel(\"Log(iterations)\")\n",
    "    plt.plot(c, y, label=\"Iterations to solve $x = f(x)$\")\n",
    "    plt.yscale(\"log\")\n",
    "    plt.legend()\n",
    "    plt.show()\n",
    "    plt.close()"
   ]
  },
  {
   "cell_type": "code",
   "execution_count": 446,
   "metadata": {},
   "outputs": [
    {
     "name": "stderr",
     "output_type": "stream",
     "text": [
      "<ipython-input-445-e325d7c89280>:24: RuntimeWarning: divide by zero encountered in double_scalars\n",
      "  error = (x - x_new)/(1 - (1 / ((1 + alpha) * dx - alpha)))\n",
      "<ipython-input-445-e325d7c89280>:24: RuntimeWarning: invalid value encountered in double_scalars\n",
      "  error = (x - x_new)/(1 - (1 / ((1 + alpha) * dx - alpha)))\n"
     ]
    },
    {
     "data": {
      "image/png": "[encoded data removed]",
      "text/plain": [
       "<Figure size 648x432 with 1 Axes>"
      ]
     },
     "metadata": {
      "needs_background": "light"
     },
     "output_type": "display_data"
    },
    {
     "data": {
      "image/png": "[encoded data removed]",
      "text/plain": [
       "<Figure size 648x432 with 1 Axes>"
      ]
     },
     "metadata": {
      "needs_background": "light"
     },
     "output_type": "display_data"
    }
   ],
   "source": [
    "# Program:\n",
    "\n",
    "def f(x: float, c: float) -> float:\n",
    "    \"\"\"\n",
    "    Function to be solved\n",
    "    :param x: x value\n",
    "    :return: f(x)\n",
    "    \"\"\"\n",
    "    return 1 - np.exp(-c*x)\n",
    "\n",
    "def fp(x: float, c: float) -> float:\n",
    "    \"\"\"\n",
    "    Function to be solved\n",
    "    :param x: x value\n",
    "    :return: f(x)\n",
    "    \"\"\"\n",
    "    return c*np.exp(-c*x)\n",
    "\n",
    "plot_over_relaxation_solution(alpha=0, f=f, range=(0.001, 3, 0.001), fp=fp, initial_guess=0.5, tolerace=1e-6, max_iter=5000)\n"
   ]
  }
 ],
 "metadata": {
  "interpreter": {
   "hash": "8f0aa77b08787691d5ad57eb67530aa0f6a54135b18cc5e5fe8bb43e780afa21"
  },
  "kernelspec": {
   "display_name": "Python 3.8.8 64-bit ('base': conda)",
   "name": "python3"
  },
  "language_info": {
   "codemirror_mode": {
    "name": "ipython",
    "version": 3
   },
   "file_extension": ".py",
   "mimetype": "text/x-python",
   "name": "python",
   "nbconvert_exporter": "python",
   "pygments_lexer": "ipython3",
   "version": "3.8.8"
  }
 },
 "nbformat": 4,
 "nbformat_minor": 2
}
