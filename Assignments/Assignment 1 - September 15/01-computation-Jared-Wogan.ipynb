{
 "cells": [
  {
   "cell_type": "markdown",
   "metadata": {},
   "source": [
    "# Homework 01 - Computation"
   ]
  },
  {
   "cell_type": "markdown",
   "metadata": {},
   "source": [
    "## Starter python"
   ]
  },
  {
   "cell_type": "markdown",
   "metadata": {},
   "source": [
    "#### Excercise 1\n",
    "In the next cell, write the following program and run it:\n",
    "\n",
    "```python\n",
    "name = input('Please input your name --> ')\n",
    "print(\"Hello \"+ name)\n",
    "```"
   ]
  },
  {
   "cell_type": "code",
   "execution_count": 36,
   "metadata": {},
   "outputs": [
    {
     "name": "stdin",
     "output_type": "stream",
     "text": [
      "Please input your name -->  Jared :)\n"
     ]
    },
    {
     "name": "stdout",
     "output_type": "stream",
     "text": [
      "Hello Jared :)\n"
     ]
    }
   ],
   "source": [
    "name = input(\"Please input your name --> \")\n",
    "print(\"Hello \" + name)"
   ]
  },
  {
   "cell_type": "markdown",
   "metadata": {},
   "source": [
    "#### Excercise 2 \n",
    "\n",
    "Use [WolframAlpha][1] to calculate the cosine of 12°. Then run the following Python code\n",
    "\n",
    "```python\n",
    "import math\n",
    "x = cos(12)\n",
    "print(x)\n",
    "```\n",
    "\n",
    "Do the two results agree? If not, why not? What would you do to fix it?\n",
    "\n",
    "What does WolframAlpha do that Python doesn't in this case?\n",
    "\n",
    "[1]:https://www.wolframalpha.com/"
   ]
  },
  {
   "cell_type": "code",
   "execution_count": 55,
   "metadata": {},
   "outputs": [
    {
     "name": "stdout",
     "output_type": "stream",
     "text": [
      "Python says cos(12) = 0.8438539587324921\n",
      "WolframAlpha says cos(12 degrees) = 0.9781476007338057\n",
      "Python says cos(12 degrees) = 0.9781476007338057\n"
     ]
    }
   ],
   "source": [
    "from math import cos\n",
    "x = cos(12)\n",
    "print(f\"Python says cos(12) = {x}\")\n",
    "y = 0.978147600733805637928566\n",
    "print(f\"WolframAlpha says cos(12 degrees) = {y}\")\n",
    "from math import radians\n",
    "z = cos(radians(12))\n",
    "print(f\"Python says cos(12 degrees) = {z}\")"
   ]
  },
  {
   "cell_type": "markdown",
   "metadata": {},
   "source": [
    "<div class=\"alert alert-block alert-info\">\n",
    "    <b>Tip:</b> To type your answer in the next cell, double-click it. Don't foget to <tt>Shift-Enter</tt> to complete the cell.\n",
    "</div>"
   ]
  },
  {
   "cell_type": "markdown",
   "metadata": {},
   "source": [
    "WolframAlpha converts the 12 degrees into radians and then computes the value of cosine, where as in Python we have to explicitely tell it to do the conversion."
   ]
  },
  {
   "cell_type": "markdown",
   "metadata": {},
   "source": [
    "#### Excercise 3\n",
    "\n",
    "Consider the following python code:\n",
    "```python\n",
    "import sys\n",
    "print(sys.version_info)\n",
    "```\n",
    "\n",
    "Using the above example, and the reference for the [**sys** package][sys], answer these questions;\n",
    " - where is the executable of Python located on your system?\n",
    " - show the copyright notice for Python.\n",
    " - what is the largest floating point number that can be represented in Python?\n",
    "    \n",
    "[sys]: https://docs.python.org/3.6/library/sys.html"
   ]
  },
  {
   "cell_type": "code",
   "execution_count": 7,
   "metadata": {},
   "outputs": [
    {
     "name": "stdout",
     "output_type": "stream",
     "text": [
      "Python Version\n",
      " sys.version_info(major=3, minor=8, micro=5, releaselevel='final', serial=0) \n",
      "\n",
      "System Path\n",
      " C:\\ProgramData\\Anaconda3\\python.exe \n",
      "\n",
      "Copyright Information\n",
      " Copyright (c) 2001-2020 Python Software Foundation.\n",
      "All Rights Reserved.\n",
      "\n",
      "Copyright (c) 2000 BeOpen.com.\n",
      "All Rights Reserved.\n",
      "\n",
      "Copyright (c) 1995-2001 Corporation for National Research Initiatives.\n",
      "All Rights Reserved.\n",
      "\n",
      "Copyright (c) 1991-1995 Stichting Mathematisch Centrum, Amsterdam.\n",
      "All Rights Reserved. \n",
      "\n",
      "Max Int Size\n",
      " 9223372036854775807 | 2^63 - 1 = 9223372036854775807 \n",
      "\n",
      "Max Float\n",
      " 1.7976931348623157e+308\n"
     ]
    }
   ],
   "source": [
    "import sys\n",
    "print(\"Python Version\\n\", sys.version_info, \"\\n\")\n",
    "print(\"System Path\\n\", sys.executable, \"\\n\")\n",
    "print(\"Copyright Information\\n\", sys.copyright, \"\\n\")\n",
    "print(\"Max Int Size\\n\", sys.maxsize, \"| 2^63 - 1 =\", 2**63-1, \"\\n\")\n",
    "print(\"Max Float\\n\", sys.float_info.max)"
   ]
  },
  {
   "cell_type": "markdown",
   "metadata": {},
   "source": [
    "#### Excercise 4\n",
    "\n",
    "Check and see if the essential packages are present in your system. Determine their current version nnumbers.\n",
    "\n",
    " - NumPy\n",
    " - SciPy\n",
    " - matplotlib"
   ]
  },
  {
   "cell_type": "code",
   "execution_count": 47,
   "metadata": {},
   "outputs": [
    {
     "name": "stdout",
     "output_type": "stream",
     "text": [
      "NumPy Version: 1.19.2\n"
     ]
    }
   ],
   "source": [
    "import numpy as np\n",
    "print(\"NumPy Version:\", np.__version__)"
   ]
  },
  {
   "cell_type": "code",
   "execution_count": 48,
   "metadata": {},
   "outputs": [
    {
     "name": "stdout",
     "output_type": "stream",
     "text": [
      "SciPy Version: 1.5.2\n"
     ]
    }
   ],
   "source": [
    "import scipy as sp\n",
    "print(\"SciPy Version:\", sp.__version__)"
   ]
  },
  {
   "cell_type": "code",
   "execution_count": 49,
   "metadata": {},
   "outputs": [
    {
     "name": "stdout",
     "output_type": "stream",
     "text": [
      "Matplotlib Version: 3.3.2\n"
     ]
    }
   ],
   "source": [
    "import matplotlib as mpl\n",
    "print(\"Matplotlib Version:\", mpl.__version__)"
   ]
  },
  {
   "cell_type": "markdown",
   "metadata": {},
   "source": [
    "## Jupyter notebooks\n",
    "\n",
    "As you can tell, we will be using Jupyter notebooks to exchange ideas and do our work. You can find some examples and help with aspects of notebooks [at this link][1], and in the Resrouces tool of Sakai.\n",
    "\n",
    "[1]:http://nbviewer.jupyter.org/github/jupyter/notebook/tree/master/docs/source/examples/Notebook/"
   ]
  },
  {
   "cell_type": "markdown",
   "metadata": {},
   "source": [
    "<div class=\"alert alert-block alert-info\">\n",
    "    <b>Tip:</b> Don't forget to change the <it>type</it> of cell from <tt>Code</tt> to <tt>Markdown</tt>.\n",
    "</div>"
   ]
  },
  {
   "cell_type": "markdown",
   "metadata": {},
   "source": [
    "#### Excercise 4\n",
    "Using the example notebooks, typeset Maxwell's equations in differential form in the next cell with LateX notation."
   ]
  },
  {
   "cell_type": "markdown",
   "metadata": {},
   "source": [
    "### Maxwell's Equations in Differential Form\n",
    "\n",
    "$\n",
    "\\begin{align}\n",
    "    \\vec{\\nabla} \\cdot \\vec{E} &= \\cfrac{\\rho}{\\epsilon_0} \\tag{1} \\\\\n",
    "    \\vec{\\nabla} \\cdot \\vec{B} &= 0 \\tag{2} \\\\\n",
    "    \\vec{\\nabla} \\times \\vec{E} &= -\\cfrac{\\partial \\vec{B}}{\\partial t} \\tag{3} \\\\\n",
    "    \\vec{\\nabla} \\times \\vec{B} &= \\mu_0 \\epsilon_0 \\cfrac{\\partial \\vec{E}}{\\partial t} + \\mu_0 \\vec{J} \\tag{4} \\\\\n",
    "\\end{align}\n",
    "$"
   ]
  },
  {
   "cell_type": "markdown",
   "metadata": {},
   "source": [
    "#### Excercise 5\n",
    "Go to the [Desmos graphing calculator][1] and graph the equation\n",
    "$$\n",
    "\\cos\\left(\\frac{2\\pi x}{3}\\right)+\\cos\\left(\\frac{2\\pi x}{4}\\right)\n",
    "$$\n",
    "\n",
    "From the `Share Graph` icon in the upper right of the page, save a PNG picture of your graph. Include the picture in the notebook cell below, and submit it to Sakai along with the notebook.\n",
    "\n",
    "If there is an image called `my_image.png` in the current directory, then you can use the command:\n",
    "```markdown\n",
    "<img width=\"600px\" src=\"./my_image.png\" />\n",
    "```\n",
    "to include it here. You may or may not need the `width` attribute to get it to fit within the window.\n",
    "\n",
    "[1]:https://www.desmos.com/calculator"
   ]
  },
  {
   "cell_type": "markdown",
   "metadata": {},
   "source": [
    "<div style=\"text-align:center\"><img width='40%' src=\"./images/desmos-graph.png\" /></div>"
   ]
  },
  {
   "cell_type": "markdown",
   "metadata": {},
   "source": [
    "P.S. I love Desmos and have used it since highschool :)"
   ]
  },
  {
   "cell_type": "code",
   "execution_count": null,
   "metadata": {},
   "outputs": [],
   "source": []
  }
 ],
 "metadata": {
  "kernelspec": {
   "display_name": "Python 3",
   "language": "python",
   "name": "python3"
  },
  "language_info": {
   "codemirror_mode": {
    "name": "ipython",
    "version": 3
   },
   "file_extension": ".py",
   "mimetype": "text/x-python",
   "name": "python",
   "nbconvert_exporter": "python",
   "pygments_lexer": "ipython3",
   "version": "3.8.5"
  }
 },
 "nbformat": 4,
 "nbformat_minor": 4
}
