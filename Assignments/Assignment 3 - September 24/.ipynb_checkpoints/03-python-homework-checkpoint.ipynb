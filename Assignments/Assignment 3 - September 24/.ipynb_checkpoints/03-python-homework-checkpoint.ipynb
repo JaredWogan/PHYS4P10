{
 "cells": [
  {
   "cell_type": "markdown",
   "metadata": {},
   "source": [
    "# Homework 03 - Python"
   ]
  },
  {
   "cell_type": "code",
   "execution_count": 1,
   "metadata": {},
   "outputs": [],
   "source": [
    "import numpy as np"
   ]
  },
  {
   "cell_type": "markdown",
   "metadata": {},
   "source": [
    "#### Excercise 1\n",
    "A ball is dropped from a tower of height $h$ with initial velocity zero.  Write a program that asks the user to enter the height in meters of the tower and then calculates and prints the time the ball takes until it hits the ground, ignoring air resistance. Seperate the actual calculation into a function, such as:\n",
    "```python\n",
    "def fall_time(height) :\n",
    "    # do the calculation here and\n",
    "    # return the result\n",
    "```\n",
    "Use your program to calculate the time for a ball dropped from a 100 m high tower. "
   ]
  },
  {
   "cell_type": "code",
   "execution_count": 27,
   "metadata": {},
   "outputs": [
    {
     "name": "stdin",
     "output_type": "stream",
     "text": [
      "From what height will the ball be dropped (in meters) ->  not a number\n"
     ]
    },
    {
     "name": "stdout",
     "output_type": "stream",
     "text": [
      "The value you entered is not a number, please try again!\n"
     ]
    },
    {
     "name": "stdin",
     "output_type": "stream",
     "text": [
      "From what height will the ball be dropped (in meters) ->  123 tricky 456\n"
     ]
    },
    {
     "name": "stdout",
     "output_type": "stream",
     "text": [
      "The value you entered is not a number, please try again!\n"
     ]
    },
    {
     "name": "stdin",
     "output_type": "stream",
     "text": [
      "From what height will the ball be dropped (in meters) ->  100\n"
     ]
    },
    {
     "name": "stdout",
     "output_type": "stream",
     "text": [
      "It will take 4.52s for the ball to drop from 100.0m\n"
     ]
    }
   ],
   "source": [
    "# Exercise 1\n",
    "gravity = 9.81\n",
    "\n",
    "def fallTime():\n",
    "    height = 0\n",
    "    while type(height) != float:\n",
    "        height = input(\"From what height will the ball be dropped (in meters) -> \")\n",
    "        try:\n",
    "            height = float(height)\n",
    "        except:\n",
    "            print(\"The value you entered is not a number, please try again!\")\n",
    "    return np.sqrt(2*height/gravity), height\n",
    "\n",
    "time, height = fallTime()\n",
    "\n",
    "print(f\"It will take {time:1.2f}s for the ball to drop from {height}m\")"
   ]
  },
  {
   "cell_type": "markdown",
   "metadata": {},
   "source": [
    "#### Excercise 2\n",
    "A satellite is to be launched into a circular orbit around the Earth so that it orbits the planet once every $T$ seconds.\n",
    "    \n",
    "**A.** In a Markdown cell and with Latex equations, show that the altitude $h$ above the Earth's surface that the satellite must have is\n",
    "$$\n",
    "h = \\biggl( {GMT^2\\over4\\pi^2} \\biggr)^{1/3} - R,\n",
    "$$ where $G=6.67\\times10^{-11}\\,\\textrm{m}^3\\,\\textrm{kg}^{-1}\\,\\textrm{s}^{-2}$ is Newton's gravitational constant, $M=5.97\\times10^{24}\\textrm{ kg}\\,$ is the mass of the Earth, and $R=6371\\textrm{ km}\\,$ is its radius.\n",
    "\n",
    "**B.** In a Code cell, write a program that asks the user to enter the desired value of $T$ and then calculates and prints out the correct altitude in kilometers, to two decimal places.\n",
    "\n",
    "**C.** Use your program to calculate the altitudes of satellites that orbit the Earth once a day (so-called \"geosynchronous\" orbit), once every 90  minutes, and once every 45 minutes."
   ]
  },
  {
   "cell_type": "markdown",
   "metadata": {},
   "source": [
    "**Answer**\n",
    "\n",
    "Centripital force of an object in circular orbit is \n",
    "$$F_c = m\\omega^2 r,$$\n",
    "where $r$ is the radius of the orbit, $m$ is the satillite mass, and $\\omega$ is the angular velocity.\n",
    "\n",
    "The centripital forces is balanced by the force of gravity\n",
    "$$F_g = \\frac{GmM}{r^2},$$\n",
    "where $M$ is the mass of the Earth and $G$ is the gravitational constant.\n",
    "\n",
    "Since we know that $\\omega=2\\pi/T$ (where $T$ is the period of the orbit), we find that\n",
    "$$F_c=F_g \\rightarrow mr\\frac{4\\pi^2}{T^2}=\\frac{GmM}{r^2} \\rightarrow r = \\biggl( {GMT^2\\over4\\pi^2} \\biggr)^{1/3},$$\n",
    "and finally, since $r=R+h$ (where $R$ is the radius of the Earth and $h$ is the height of the satillite above the Earth), we have\n",
    "$$h = \\biggl( {GMT^2\\over4\\pi^2} \\biggr)^{1/3} - R.$$\n",
    "\n",
    "Clearly, the longer the period, the greater the height of the orbit should be."
   ]
  },
  {
   "cell_type": "code",
   "execution_count": 11,
   "metadata": {},
   "outputs": [
    {
     "name": "stdin",
     "output_type": "stream",
     "text": [
      "What is the period (T in seconds) of your satellite? ->  123456\n"
     ]
    },
    {
     "name": "stdout",
     "output_type": "stream",
     "text": [
      "The satellite will orbit at an altitude of 47199.00km with a period of 123456.00s\n"
     ]
    }
   ],
   "source": [
    "# Exercise 2 B\n",
    "\n",
    "G = 6.67E-11\n",
    "M = 5.97E24\n",
    "R = 6371*1000\n",
    "\n",
    "def orbitRadius(period):\n",
    "    return  (( (G * M * period**2) / (4*np.pi**2) )**(1/3) - R)/1000, period\n",
    "\n",
    "def getInput():\n",
    "    T = 0\n",
    "    while type(T) != float:\n",
    "        T = input(\"What is the period (T in seconds) of your satellite? -> \")\n",
    "        try:\n",
    "            T = float(T)\n",
    "        except:\n",
    "            print(\"The value you entered is not a number, please try again!\")\n",
    "    return  orbitRadius(T)\n",
    "\n",
    "radius, period = getInput()\n",
    "\n",
    "print(f\"The satellite will orbit at an altitude of {radius:1.2f}km with a period of {period:1.2f}s\")"
   ]
  },
  {
   "cell_type": "code",
   "execution_count": 10,
   "metadata": {},
   "outputs": [
    {
     "name": "stdout",
     "output_type": "stream",
     "text": [
      "The orbit altitude for a satellite with period 86400.0s is 35855.91km.\n",
      "The orbit altitude for a satellite with period 2700.0s is not possible (orbit would be inside the Earth).\n",
      "The orbit altitude for a satellite with period 5400.0s is 279.32km.\n"
     ]
    }
   ],
   "source": [
    "# Exercise 2 C\n",
    "hours = np.array([24, 0.75, 1.5])\n",
    "seconds = 3600 * hours\n",
    "altitudes = orbitRadius(seconds)\n",
    "\n",
    "for i in range(len(hours)):\n",
    "    if(altitudes[0][i] < 0):\n",
    "        print(f\"The orbit altitude for a satellite with period {altitudes[1][i]:1.1f}s is not possible (orbit would be inside the Earth).\")\n",
    "        continue\n",
    "    print(f\"The orbit altitude for a satellite with period {altitudes[1][i]:1.1f}s is {altitudes[0][i]:1.2f}km.\")\n"
   ]
  },
  {
   "cell_type": "markdown",
   "metadata": {},
   "source": [
    "#### Excercise 3\n",
    "The [Catalan numbers][catalan] $C_n$ are a sequence of integers 1, 1, 2, 5, 14, 42, 132... that play an important role in quantum mechanics and the theory of disordered systems.  (They were central to Eugene Wigner's proof of the so-called semicircle law.)  They are given by \n",
    "$$\n",
    "C_0 = 1,\\qquad C_{n+1} = {4n+2\\over n+2}\\,C_n.\n",
    "$$\n",
    "Write a program that prints in increasing order all Catalan numbers less than or equal to one billion.\n",
    "\n",
    "[catalan]: https://en.wikipedia.org/wiki/Catalan_number"
   ]
  },
  {
   "cell_type": "code",
   "execution_count": 140,
   "metadata": {},
   "outputs": [
    {
     "name": "stdout",
     "output_type": "stream",
     "text": [
      "The 0th Catalan number is 1\n",
      "The 1th Catalan number is 2\n",
      "The 2th Catalan number is 5\n",
      "The 3th Catalan number is 14\n",
      "The 4th Catalan number is 42\n",
      "The 5th Catalan number is 132\n",
      "The 6th Catalan number is 429\n",
      "The 7th Catalan number is 1430\n",
      "The 8th Catalan number is 4862\n",
      "The 9th Catalan number is 16796\n",
      "The 10th Catalan number is 58786\n",
      "The 11th Catalan number is 208012\n",
      "The 12th Catalan number is 742900\n",
      "The 13th Catalan number is 2674440\n",
      "The 14th Catalan number is 9694845\n",
      "The 15th Catalan number is 35357670\n",
      "The 16th Catalan number is 129644790\n",
      "The 17th Catalan number is 477638700\n",
      "The first Catalan number over 1.00e+09 is the 18th Catalan number with value 1767263190\n"
     ]
    }
   ],
   "source": [
    "# Exercise 3\n",
    "from functools import lru_cache\n",
    "\n",
    "limit = 1E9\n",
    "@lru_cache(maxsize = None)\n",
    "def C(n: int) -> int:\n",
    "    return int(( (4 * n + 2) / (n + 2) ) * C(n - 1)) if n else 1\n",
    "    \n",
    "n = 0\n",
    "while C(n) < maxSize:\n",
    "    print(f\"The {n}th Catalan number is {C(n)}\")\n",
    "    n += 1\n",
    "\n",
    "print(f\"The first Catalan number over {limit:1.2e} is the {n}th Catalan number with value {C(n)}\")"
   ]
  },
  {
   "cell_type": "markdown",
   "metadata": {},
   "source": [
    "#### Excercise 4\n",
    "\n",
    "The [binomial coefficient][binomial] ${n\\choose k}$ is an integer equal to\n",
    "$$\n",
    "{n\\choose k} = {n!\\over k!(n-k)!}\n",
    "  = {n\\times(n-1)\\times(n-2)\\times\\ldots\\times(n-k+1)\\over\n",
    "     1\\times2\\times\\ldots\\times k}\n",
    "$$\n",
    "when $k\\ge1$, or ${n\\choose0}=1$ when $k=0$.</font>\n",
    "\n",
    "\n",
    "**A.** Using this form for the binomial coefficient, write a user-defined function `binomial(n,k)` that calculates the binomial coefficient for given $n$ and $k$. Make sure your function returns the answer in the form of an integer (not a float) and gives the correct value of 1 for the case where $k=0$.\n",
    "\n",
    "Use `scipy.special` to access the [`factorial`][factorial] function.\n",
    "\n",
    "**B.** Using your function, write a program to print out the first 20 lines of [*Pascal's triangle*.][pascal]  The $n$-th line of Pascal's triangle contains $n+1$ numbers, which are the coefficients ${n\\choose 0}$, ${n\\choose1}$,   and so on up to ${n\\choose n}$.  Thus the first few lines are\n",
    "\n",
    "```python\n",
    "1 1 \n",
    "1 2 1 \n",
    "1 3 3 1 \n",
    "1 4 6 4 1\n",
    "```\n",
    "\n",
    "**C.** The probability that an unbiased coin, tossed $n$ times, will come up  heads $k$ times is ${n\\choose k}/2^n$.  Write a program to calculate (a) the total probability that a coin tossed 100 times comes up heads exactly 60 times, and (b) the total probability that a coin tossed 100 times comes up heads 60 or more times.</font>\n",
    "\n",
    "[binomial]: https://en.wikipedia.org/wiki/Binomial_coefficient\n",
    "[pascal]: https://en.wikipedia.org/wiki/Pascal%27s_triangle\n",
    "[factorial]: https://docs.scipy.org/doc/scipy/reference/generated/scipy.special.factorial.html\n"
   ]
  },
  {
   "cell_type": "markdown",
   "metadata": {},
   "source": [
    "<div class=\"alert alert-block alert-info\">\n",
    "    <b>Tip:</b> In the Pascal's Traingle, each line grows in the number of elements. If you are printing the elements one by one, and you <strong>do not</strong> want a <tt>print</tt> commmand to move to the next line autoamtically, use the option <tt>print(x,end='')</tt>.\n",
    "    \n",
    "When you want to insert a line break, just print a single space character; <tt>print(' ')</tt>\n",
    "</div>"
   ]
  },
  {
   "cell_type": "code",
   "execution_count": 23,
   "metadata": {},
   "outputs": [],
   "source": [
    "# Exercise 4 A\n",
    "\n",
    "from math import factorial as f\n",
    "\n",
    "def binomial(n:int, k:int = 0):\n",
    "    return f(n) // (f(k) * f(n-k))\n"
   ]
  },
  {
   "cell_type": "code",
   "execution_count": 162,
   "metadata": {},
   "outputs": [
    {
     "name": "stdout",
     "output_type": "stream",
     "text": [
      "n = 0                                                 1                                               \n",
      "n = 1                                                1 1                                              \n",
      "n = 2                                               1 2 1                                             \n",
      "n = 3                                              1 3 3 1                                            \n",
      "n = 4                                             1 4 6 4 1                                           \n",
      "n = 5                                           1 5 10 10 5 1                                         \n",
      "n = 6                                          1 6 15 20 15 6 1                                        \n",
      "n = 7                                        1 7 21 35 35 21 7 1                                      \n",
      "n = 8                                       1 8 28 56 70 56 28 8 1                                     \n",
      "n = 9                                    1 9 36 84 126 126 84 36 9 1                                  \n",
      "n = 10                                1 10 45 120 210 252 210 120 45 10 1                              \n",
      "n = 11                              1 11 55 165 330 462 462 330 165 55 11 1                            \n",
      "n = 12                            1 12 66 220 495 792 924 792 495 220 66 12 1                          \n",
      "n = 13                        1 13 78 286 715 1287 1716 1716 1287 715 286 78 13 1                      \n",
      "n = 14                     1 14 91 364 1001 2002 3003 3432 3003 2002 1001 364 91 14 1                   \n",
      "n = 15                 1 15 105 455 1365 3003 5005 6435 6435 5005 3003 1365 455 105 15 1               \n",
      "n = 16             1 16 120 560 1820 4368 8008 11440 12870 11440 8008 4368 1820 560 120 16 1           \n",
      "n = 17         1 17 136 680 2380 6188 12376 19448 24310 24310 19448 12376 6188 2380 680 136 17 1       \n",
      "n = 18      1 18 153 816 3060 8568 18564 31824 43758 48620 43758 31824 18564 8568 3060 816 153 18 1    \n",
      "n = 19  1 19 171 969 3876 11628 27132 50388 75582 92378 92378 75582 50388 27132 11628 3876 969 171 19 1\n"
     ]
    }
   ],
   "source": [
    "# Exercise 4 B\n",
    "\n",
    "def pascal(n: int = 1):\n",
    "    numbers = [\"\" for i in range(n)]\n",
    "    for i in range(n):\n",
    "        for k in range(i + 1):\n",
    "            if(0 < k < i + 1):\n",
    "                numbers[i] += \" \" + str(binomial(i, k))\n",
    "            else:\n",
    "                numbers[i] += str(binomial(i, k))\n",
    "                \n",
    "    maxLength = len(numbers[-1])\n",
    "    if(maxLength % 2 == 1):\n",
    "        maxLength += 1\n",
    "        \n",
    "    for i in range(n):\n",
    "        length = len(numbers[i])\n",
    "        row = \"n = \" + str(i) + \"  \" + \" \" * ((maxLength - length)//2) + numbers[i] + \" \" * ((maxLength - length)//2)\n",
    "        print(row)\n",
    "        \n",
    "            \n",
    "pascal(20)"
   ]
  },
  {
   "cell_type": "code",
   "execution_count": 153,
   "metadata": {},
   "outputs": [
    {
     "name": "stdout",
     "output_type": "stream",
     "text": [
      "The probability of getting EXACTLY 60 heads in 100 tosses is 0.0108, or 1.08%\n",
      "The probability of getting AT LEAST 60 heads in 100 tosses is 0.0284, or 2.84%\n"
     ]
    }
   ],
   "source": [
    "# Exercise 4 C b)\n",
    "\n",
    "def probability(n: int, k: int = 0):\n",
    "    return (n, k), binomial(n, k) / (2 ** n), sum([binomial(n, j) / ( 2 ** n) for j in range(k, n + 1)])\n",
    "\n",
    "(n, k), exactly, atleast = probability(100, 60)\n",
    "\n",
    "print(f\"The probability of getting EXACTLY {k} heads in {n} tosses is {exactly:1.4f}, or {100*exactly:1.2f}%\")\n",
    "print(f\"The probability of getting AT LEAST {k} heads in {n} tosses is {atleast:1.4f}, or {100*atleast:1.2f}%\")"
   ]
  }
 ],
 "metadata": {
  "kernelspec": {
   "display_name": "Python 3",
   "language": "python",
   "name": "python3"
  },
  "language_info": {
   "codemirror_mode": {
    "name": "ipython",
    "version": 3
   },
   "file_extension": ".py",
   "mimetype": "text/x-python",
   "name": "python",
   "nbconvert_exporter": "python",
   "pygments_lexer": "ipython3",
   "version": "3.8.5"
  }
 },
 "nbformat": 4,
 "nbformat_minor": 4
}
