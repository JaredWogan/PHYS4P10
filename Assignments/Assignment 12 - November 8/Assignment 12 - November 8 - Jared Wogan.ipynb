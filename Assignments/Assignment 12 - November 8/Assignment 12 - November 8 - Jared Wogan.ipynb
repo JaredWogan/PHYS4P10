{
 "cells": [
  {
   "cell_type": "code",
   "execution_count": 14,
   "metadata": {},
   "outputs": [],
   "source": [
    "from typing import Tuple\n",
    "import numpy as np\n",
    "import scipy as sp\n",
    "import scipy.optimize as spo\n",
    "import matplotlib.pyplot as plt\n",
    "\n",
    "plt.style.use(\"seaborn\")"
   ]
  },
  {
   "cell_type": "markdown",
   "metadata": {},
   "source": [
    "# Homework 12 - Nonlinear optimization\n",
    "\n",
    "#### Exercise 1\n",
    "Consider the differential equations\n",
    "$$\\frac{dx}{dt} = -x+ay+x^2y,\\ \\frac{dy}{dt}=b-ay-x^2y$$\n",
    "In mathematics,  a [stationary point][1] of a differentiable function of one variable is a point on the graph of the function where the function's derivative is zero.\n",
    "\n",
    "Solve for the stationary points of the equations by the relaxation method when $a=1$ and $b=2$;\n",
    "$$-x+ay+x^2y = 0\\ \\textrm{  (1) }, \\ \\ b-ay-x^2y=0\\ \\textrm{  (2) }$$\n",
    "\n",
    "So you can check your results, the analytical solution is clearly\n",
    "$$x=b, \\ \\ y=\\frac{b}{a+b^2}$$\n",
    "\n",
    "You have two choices of how to solve for $x$ and $y$, depending on which two of the equations you solve for $x$ and the other $y$, or vice vera. Provide both ways as different functions in your program.\n",
    "\n",
    "[1]: https://en.wikipedia.org/wiki/Stationary_point"
   ]
  },
  {
   "cell_type": "markdown",
   "metadata": {},
   "source": [
    "<font color=\"blue\">ANSWER:</font>  I put both methods in the same Python cell to try them out. I find that function `f0` does not work, but function `f1` does.  The equations are <br/>\n",
    "For `f0` $$x=y(a+x^2), \\ \\ y=\\frac{b}{a+x^2}$$\n",
    "For `f1` $$x=\\sqrt{\\frac{b-ay}{y}}, \\ \\ y=\\frac{x}{a+x^2}$$"
   ]
  },
  {
   "cell_type": "code",
   "execution_count": 15,
   "metadata": {},
   "outputs": [],
   "source": [
    "constants = ( \n",
    "    1.0, # a\n",
    "    2.0 # b\n",
    ")\n",
    "\n",
    "def f0(x: float, y: float, a: float, b: float) -> float:\n",
    "    return y * (a + x**2), b / (a + x**2) \n",
    "\n",
    "def f1(x: float, y: float, a: float, b: float) -> float:\n",
    "    return np.sqrt((b - a*y) / y), x / (a + x**2)"
   ]
  },
  {
   "cell_type": "code",
   "execution_count": 16,
   "metadata": {},
   "outputs": [],
   "source": [
    "test_values = [(1, 1), (0.1, 0.1), (0.5, 0.5), (1, 0.5), (0.5, 1)]\n",
    "\n",
    "for x, y in test_values:\n",
    "    # Relaxation Loop Using f0\n",
    "    for i in range(100):\n",
    "        xp, yp = f0(x, y, *constants)\n",
    "        if (np.isclose(x, xp, atol=1.E-6, rtol=0)) and (np.isclose(y, yp, atol=1.E-6, rtol=0)) :\n",
    "            print(\"X: {0:9.5f} Y: {1:8.5f}\".format(x,y))\n",
    "            break\n",
    "        else :\n",
    "            x = xp\n",
    "            y = yp"
   ]
  },
  {
   "cell_type": "markdown",
   "metadata": {},
   "source": [
    "Clearly, f0 does not work"
   ]
  },
  {
   "cell_type": "code",
   "execution_count": 17,
   "metadata": {},
   "outputs": [
    {
     "name": "stdout",
     "output_type": "stream",
     "text": [
      "X:   2.00000 Y:  0.40000\n",
      "X:   2.00000 Y:  0.40000\n",
      "X:   2.00000 Y:  0.40000\n",
      "X:   2.00000 Y:  0.40000\n",
      "X:   2.00000 Y:  0.40000\n"
     ]
    }
   ],
   "source": [
    "test_values = [(1, 1), (0.1, 0.1), (0.5, 0.5), (1, 0.5), (0.5, 1)]\n",
    "\n",
    "for x, y in test_values:\n",
    "    # Relaxation Loop Using f1\n",
    "    for i in range(100):\n",
    "        xp, yp = f1(x, y, *constants)\n",
    "        if (np.isclose(x, xp, atol=1.E-6, rtol=0)) and (np.isclose(y, yp, atol=1.E-6, rtol=0)) :\n",
    "            print(\"X: {0:9.5f} Y: {1:8.5f}\".format(x,y))\n",
    "            break\n",
    "        else :\n",
    "            x = xp\n",
    "            y = yp"
   ]
  },
  {
   "cell_type": "markdown",
   "metadata": {},
   "source": [
    "#### Excercise 2\n",
    "\n",
    "Consider this image of two weights hanging from a rigid bar.\n",
    "\n",
    "<img src=\"./images/bitmap.png\" width=400 >\n",
    "\n",
    "This is a static picture, nothing is moving. **Can you find the three tensions in the string, $T_1$, $T_2$, and $T_3$?** </font> Looking  at the image on the right, we see we will need to find the angles that all the strings make with respect to the horizontal (the bar is assumed to be horizontal). If we assume that the strings start and end at the same height, the constraints due to geometry alone are the following:\n",
    "\n",
    "$$\n",
    "\\begin{align*}\n",
    "L_1\\cos\\theta_1+L_2\\cos\\theta_2+L_3\\cos\\theta_3 &=& L \\\\\n",
    "L_1\\sin\\theta_1+L_2\\sin\\theta_2-L_3\\sin\\theta_3 &=& 0 \\\\\n",
    "\\sin^2\\theta_1+\\cos^2\\theta_1 &=& 1 \\\\\n",
    "\\sin^2\\theta_2+\\cos^2\\theta_2 &=& 1 \\\\\n",
    "\\sin^2\\theta_3+\\cos^2\\theta_3 &=& 1\n",
    "\\end{align*}\n",
    "$$\n",
    "\n",
    "The last three are trigonometric identities and normally would not need to be there. However, I want to treat $\\cos\\theta$ and $\\sin\\theta$ as independant variables to find, so I need more independant equations.\n",
    "Sum of the forces on each weight should add to zero, and gives these equations;\n",
    "\n",
    "$$\n",
    "\\begin{align*}\n",
    "T_1\\sin\\theta_1-T_2\\sin\\theta_2-W_1 &=& 0 \\\\\n",
    "T_1\\cos\\theta_1-T_2\\cos\\theta_2 &=& 0 \\\\\n",
    "T_2\\sin\\theta_2+T_3\\sin\\theta_3-W_2 &=& 0 \\\\\n",
    "T_2\\cos\\theta_2-T_3\\cos\\theta_3 &=& 0 \n",
    "\\end{align*}\n",
    "$$\n",
    "\n",
    "Now put the unknowns as a vector:\n",
    "\n",
    "$$\n",
    "\\vec{x} = \\left(\n",
    "\\begin{array}{c}\n",
    "x_0 \\\\ x_1 \\\\ x_2 \\\\ x_3 \\\\ x_4 \\\\ x_5 \\\\ x_6 \\\\ x_7 \\\\ x_8\n",
    "\\end{array}\n",
    "\\right)=\n",
    "\\left(\n",
    "\\begin{array}{c}\n",
    "\\sin\\theta_1 \\\\ \\sin\\theta_2 \\\\ \\sin\\theta_3 \\\\ \\cos\\theta_1 \\\\ \\cos\\theta_2 \\\\ \\cos\\theta_3 \\\\ T_1 \\\\ T_2 \\\\ T_3\n",
    "\\end{array}\n",
    "\\right)\n",
    "$$\n",
    "\n",
    "Now the nine equations above can be written as vector of nine functions. Just substitute the definition of $x_i$ into the equations, and move any non-zero right side to the left side.\n",
    "$$\n",
    "f_i(x_0,\\dots,x_8) = 0, \\ \\ i=0,8\n",
    "$$\n",
    "$$\n",
    "\\vec{f}(\\vec{x}) = \\left(\n",
    "\\begin{array}{c}\n",
    "f_0(\\vec{x}) \\\\ f_1(\\vec{x}) \\\\ f_2(\\vec{x}) \\\\ f_3(\\vec{x}) \\\\ f_4(\\vec{x}) \\\\ f_5(\\vec{x}) \\\\ f_6(\\vec{x}) \\\\ f_7(\\vec{x}) \\\\ f_8(\\vec{x})\\end{array}\n",
    "\\right)=0\n",
    "$$\n",
    "\n",
    "\n",
    "1. In a new markdown cell, write out the 9 new functions in term of the $x_i$. (Use this cell as a guide to how to enter $\\LaTeX{}$\n",
    "code for arrays of equations.)\n",
    "2. Compute the Jacobian matrix, and also write it all out in $\\LaTeX{}$. Most of the elements are zero. Only 28 are not zero,so only write out those.\n",
    "3. Use the following values and compute the vector $\\vec{x}$ using `scipy.optimize.root`. Use both a Jacobian solver such as `lm` and a non-Jacobian solver such as `krylov`.\n",
    "```python\n",
    "constants = (10.0,    # W1\n",
    "             20.0,    # W2\n",
    "             3.0,    # L1\n",
    "             4.0,    # L2\n",
    "             4.0,    # L3 \n",
    "             8.0)    # L\n",
    "```\n",
    "\n",
    "4. From the results of the `scipy.optimize.root` function: \n",
    "    - Print out the number of times the function and Jacobian were used by the solver. This may be either in the variables `res.nfev` \\& `res.njev` or in the variable `res.nit`, depending on the solver method.\n",
    "    - Print out any message returned from the solver.\n",
    "\n",
    "Here's a helper to get you started:\n",
    "```python\n",
    "def f(x,*args) :    \n",
    "    W1, W2, L1, L2, L3, L = args\n",
    "    x0,x1,x2,x3,x4,x5,x6,x7,x8 = x\n",
    "\n",
    "    ...more goes here...\n",
    "    return numpy.array([f0,f1,f2,f3,f4,f5,f6,f7,f8])\n",
    "          \n",
    "def J(x,*args) :\n",
    "    W1, W2, L1, L2, L3, L = args\n",
    "    x0,x1,x2,x3,x4,x5,x6,x7,x8 = x\n",
    "    \n",
    "    ...more goes here...\n",
    "    return J\n",
    "```\n"
   ]
  },
  {
   "cell_type": "markdown",
   "metadata": {},
   "source": [
    "<font color=\"blue\">Answer</font>"
   ]
  },
  {
   "cell_type": "markdown",
   "metadata": {},
   "source": [
    "$$\n",
    "\\begin{align*}\n",
    "\n",
    "L_1 x_3 + L_2 x_4 + L_3 x_5 - L &=& 0 \\\\\n",
    "L_1 x_0 + L_2 x_1 - L_3 x_2 &=& 0 \\\\\n",
    "x_0^2 + x_3^2 - 1 &=& 0 \\\\\n",
    "x_1^2 + x_4^2 - 1 &=& 0 \\\\\n",
    "x_2^2 + x_5^2 - 1 &=& 0 \\\\\n",
    "x_6 x_0 - x_7 x_1 - W_1 &=& 0 \\\\\n",
    "x_6 x_3 - x_7 x_4 &=& 0 \\\\\n",
    "x_7 x_1 + x_8 x_2 - W_2 &=& 0 \\\\\n",
    "x_7 x_4 - x_8 x_5 &=& 0\n",
    "\n",
    "\\end{align*}\n",
    "$$"
   ]
  },
  {
   "cell_type": "markdown",
   "metadata": {},
   "source": [
    "$$\n",
    "J_{ij}(x_0, \\dots, x_8) =\n",
    "\\begin{pmatrix}\n",
    "0 & 0 & 0 & L_1 & L_2 & L_3 & 0 & 0 & 0 \\\\\n",
    "L_1 & L_2 & -L_3 & 0 & 0 & 0 & 0 & 0 & 0 \\\\\n",
    "2x_0 & 0 & 0 & 2x_3 & 0 & 0 & 0 & 0 & 0 \\\\\n",
    "0 & 2x_1 & 0 & 0 & 2x_4 & 0 & 0 & 0 & 0 \\\\\n",
    "0 & 0 & 2x_2 & 0 & 0 & 2x_5 & 0 & 0 & 0 \\\\\n",
    "x_6 & -x_7 & 0 & 0 & 0 & 0 & x_0 & -x_1 & 0 \\\\\n",
    "0 & 0 & 0 & x_6 & -x_7 & 0 & x_3 & -x_4 & 0 \\\\\n",
    "0 & x_7 & x_8 & 0 & 0 & 0 & 0 & x_1 & x_2 \\\\\n",
    "0 & 0 & 0 & 0 & x_7 & -x_8 & 0 & x_4 & -x_5 \\\\\n",
    "\\end{pmatrix}\n",
    "$$"
   ]
  },
  {
   "cell_type": "code",
   "execution_count": 18,
   "metadata": {},
   "outputs": [
    {
     "name": "stdout",
     "output_type": "stream",
     "text": [
      "Solution 1 (x):\n",
      " [ 0.76100269  0.26495381  0.83570583  0.64874872  0.9642611   0.54917735\n",
      " 17.16020978 11.54527968 20.27152804]\n",
      "Solution 1 (message):\n",
      " The relative error between two consecutive iterates is at most 0.000000\n",
      "Solution 1 (success):\n",
      " True\n",
      "Solution 1 (fun):\n",
      " [ 0.00000000e+00  4.44089210e-16  0.00000000e+00 -1.11022302e-16\n",
      "  0.00000000e+00  1.77635684e-15  3.55271368e-15  0.00000000e+00\n",
      " -1.77635684e-15]\n",
      "Solution 1 (nfev):\n",
      " 10\n",
      "Solution 1 (njev):\n",
      " 8\n",
      "Solution 2 (x):\n",
      " [ 0.76100269  0.26495381  0.83570583  0.64874872  0.9642611   0.54917735\n",
      " 17.16020978 11.54527968 20.27152804]\n",
      "Solution 2 (message):\n",
      " A solution was found at the specified tolerance.\n",
      "Solution 2 (success):\n",
      " True\n",
      "Solution 2 (fun):\n",
      " [ 1.60422786e-11  3.25517391e-12 -1.15085719e-12  3.16036086e-12\n",
      "  2.97561975e-12 -1.74029680e-11  4.94111418e-11 -1.83288051e-10\n",
      " -2.22257768e-11]\n",
      "Solution 2 (nit):\n",
      " 51\n"
     ]
    }
   ],
   "source": [
    "constants = (\n",
    "    10.0,  # W1\n",
    "    20.0,  # W2\n",
    "    3.0,  # L1\n",
    "    4.0,  # L2\n",
    "    4.0,  # L3\n",
    "    8.0   # L\n",
    ")\n",
    "\n",
    "\n",
    "def f(x, *args):\n",
    "    W1, W2, L1, L2, L3, L = args\n",
    "    x0, x1, x2, x3, x4, x5, x6, x7, x8 = x\n",
    "    \n",
    "    f0 = L1*x3 + L2*x4 + L3*x5 - L\n",
    "    f1 = L1*x0 + L2*x1 - L3*x2\n",
    "    f2 = x0**2 + x3**2 - 1\n",
    "    f3 = x1**2 + x4**2 - 1\n",
    "    f4 = x2**2 + x5**2 - 1\n",
    "    f5 = x6*x0 - x7*x1 - W1\n",
    "    f6 = x6*x3 - x7*x4\n",
    "    f7 = x7*x1 + x8*x2 - W2\n",
    "    f8 = x7*x4 - x8*x5\n",
    "\n",
    "    return np.array([f0, f1, f2, f3, f4, f5, f6, f7, f8])\n",
    "\n",
    "def J(x, *args):\n",
    "    W1, W2, L1, L2, L3, L = args\n",
    "    x0, x1, x2, x3, x4, x5, x6, x7, x8 = x\n",
    "    \n",
    "    J = np.zeros((9, 9))\n",
    "    J[0, 3], J[0, 4], J[0, 5] = L1, L2, L3\n",
    "    J[1, 0], J[1, 1], J[1, 2] = L1, L2, -L3\n",
    "    J[2, 0], J[2, 3] = 2*x0, 2*x3\n",
    "    J[3, 1], J[3, 4] = 2*x1, 2*x4\n",
    "    J[4, 2], J[4, 5] = 2*x2, 2*x5\n",
    "    J[5, 0], J[5, 1], J[5, 6], J[5, 7] = x6, -x7, x0, -x1\n",
    "    J[6, 3], J[6, 4], J[6, 6], J[6, 7] = x6, -x7, x3, -x4\n",
    "    J[7, 1], J[7, 2], J[7, 7], J[7, 8] = x7, x8, x1, x2\n",
    "    J[8, 4], J[8, 5], J[8, 7], J[8, 8] = x7, -x8, x4, -x5\n",
    "    return J\n",
    "\n",
    "x_initial = np.array([\n",
    "    1,1,1,1,1,1,1,1,1\n",
    "])\n",
    "\n",
    "solution1 = spo.root(\n",
    "    f, \n",
    "    x_initial, \n",
    "    args=constants, \n",
    "    method=\"lm\", \n",
    "    jac=J\n",
    ")\n",
    "\n",
    "solution2 = spo.root(\n",
    "    f, \n",
    "    x_initial, \n",
    "    args=constants, \n",
    "    method=\"krylov\"\n",
    ")\n",
    "\n",
    "# print(solution1.keys())\n",
    "# print(solution2.keys())\n",
    "keys1 = [\"x\", \"message\", \"success\", \"fun\", \"nfev\", \"njev\"]\n",
    "keys2 = [\"x\", \"message\", \"success\", \"fun\", \"nit\"]\n",
    "for key in keys1:\n",
    "    print(f\"Solution 1 ({key}):\\n\", solution1[key])\n",
    "\n",
    "for key in keys2:\n",
    "    print(f\"Solution 2 ({key}):\\n\", solution2[key])"
   ]
  },
  {
   "cell_type": "markdown",
   "metadata": {},
   "source": [
    "#### Excercise 3\n",
    "\n",
    "The [Buckingham potential][1] is an approximate representation of the potential energy of ineteraction between atoms in a solid, liquid, or gas as a function of the distance between them;\n",
    "$$V(r) = V_0\\left[\\left(\\frac{\\sigma}{r}\\right)^6-e^{-r/\\sigma}\\right]$$\n",
    " \n",
    "Make a plot of this function for $V_0=1$ and $\\sigma=1$, using $x$ range $0.01\\rightarrow8$,and $y$ scale $-0.2\\rightarrow+0.2$. Numerically find the minimum position using the Jacobian and `scipy.optimize.minimize` with the method `Newton-CG`.\n",
    "\n",
    "[1]: https://en.wikipedia.org/wiki/Buckingham_potential"
   ]
  },
  {
   "cell_type": "code",
   "execution_count": 19,
   "metadata": {},
   "outputs": [],
   "source": [
    "params = (1, 1)\n",
    "\n",
    "def V(r: float, *params) -> float:\n",
    "    V0, sigma = params\n",
    "    return V0 * (\n",
    "        (sigma / r)**6 - np.exp(-r / sigma)\n",
    "    )\n",
    "    \n",
    "def Jacobian(r: float, *params) -> float:\n",
    "    V0, sigma = params\n",
    "    return V0 * (\n",
    "        -6 * sigma * (sigma / r)**5 / r**2 + np.exp(-r / sigma) / sigma\n",
    "    )"
   ]
  },
  {
   "cell_type": "code",
   "execution_count": 20,
   "metadata": {},
   "outputs": [
    {
     "data": {
      "image/png": "[encoded data removed]",
      "text/plain": [
       "<Figure size 648x432 with 1 Axes>"
      ]
     },
     "metadata": {},
     "output_type": "display_data"
    }
   ],
   "source": [
    "x = np.linspace(0.01, 8, 1000)\n",
    "\n",
    "fig, ax = plt.subplots(figsize=(9,6))\n",
    "ax.set_ylim(-0.2, 0.2)\n",
    "ax.plot(x, V(x, *params), label=\"V(r)\")\n",
    "ax.legend()\n",
    "ax.set_ylabel(\"$V(r)$\", fontsize=12)\n",
    "ax.set_xlabel(\"r\", fontsize=12)\n",
    "plt.show()\n",
    "plt.close()"
   ]
  },
  {
   "cell_type": "code",
   "execution_count": 21,
   "metadata": {},
   "outputs": [
    {
     "name": "stdout",
     "output_type": "stream",
     "text": [
      "Full Output (Newton-CG):\n",
      "      fun: array([-0.1426116])\n",
      "     jac: array([5.81422133e-11])\n",
      " message: 'Optimization terminated successfully.'\n",
      "    nfev: 9\n",
      "    nhev: 0\n",
      "     nit: 9\n",
      "    njev: 17\n",
      "  status: 0\n",
      " success: True\n",
      "       x: array([1.63051593])\n",
      "Solution (r): [1.63051593] \n",
      "\n"
     ]
    }
   ],
   "source": [
    "solution = spo.minimize(\n",
    "    V,\n",
    "    x0=1,\n",
    "    args=params,\n",
    "    method=\"Newton-CG\",\n",
    "    jac=Jacobian,\n",
    "    options={\n",
    "        \"xtol\": 1.E-6,\n",
    "        \"disp\": False\n",
    "    }\n",
    ")\n",
    "print(\"Full Output (Newton-CG):\\n\", solution)\n",
    "print(\"Solution (r):\", solution.x, \"\\n\")"
   ]
  },
  {
   "cell_type": "markdown",
   "metadata": {},
   "source": [
    "#### Excercise 4\n",
    "\n",
    "Find the global minimum of the [Rosenbrock function][1]. Use the paramter values shown in the wikipedia page. Solve it twice, once with and once without the Jacobian. Use a starting guess that is $0\\leq x\\leq20,\\ 0\\leq y\\leq20$.\n",
    "\n",
    "[1]: https://en.wikipedia.org/wiki/Rosenbrock_function"
   ]
  },
  {
   "cell_type": "code",
   "execution_count": 22,
   "metadata": {},
   "outputs": [],
   "source": [
    "params = (1, 100)\n",
    "\n",
    "def rosenbrock(xy: Tuple[float, float], *params) -> float:\n",
    "    x, y = xy\n",
    "    a, b = params\n",
    "    return (a - x)**2 + b * (y - x**2)**2\n",
    "\n",
    "def Jacobian(xy: Tuple[float, float], *params) -> np.ndarray:\n",
    "    x, y = xy\n",
    "    a, b = params\n",
    "    return np.array([-2*(a - x) - 4*b*x*(y - x**2), 2*b*(y - x**2)])"
   ]
  },
  {
   "cell_type": "markdown",
   "metadata": {},
   "source": [
    "<font color=\"blue\">Answer:</font> "
   ]
  },
  {
   "cell_type": "code",
   "execution_count": 23,
   "metadata": {},
   "outputs": [
    {
     "name": "stdout",
     "output_type": "stream",
     "text": [
      "Solved Without Jacobian\n",
      "Full Output (Nelder-Mead):\n",
      "  final_simplex: (array([[0.99999993, 0.99999992],\n",
      "       [0.99999975, 0.9999994 ],\n",
      "       [0.9999996 , 0.99999929]]), array([3.17385981e-13, 9.68695227e-13, 9.89127627e-13]))\n",
      "           fun: 3.173859810754698e-13\n",
      "       message: 'Optimization terminated successfully.'\n",
      "          nfev: 258\n",
      "           nit: 141\n",
      "        status: 0\n",
      "       success: True\n",
      "             x: array([0.99999993, 0.99999992])\n",
      "Solutions (x, y): [0.99999993 0.99999992] \n",
      "\n",
      "Solved With Jacobian\n",
      "Full Output (BFGS):\n",
      "       fun: 3.881227615747895e-14\n",
      " hess_inv: array([[0.48805207, 0.97665938],\n",
      "       [0.97665938, 1.95939504]])\n",
      "      jac: array([ 3.79550498e-06, -1.72051839e-06])\n",
      "  message: 'Optimization terminated successfully.'\n",
      "     nfev: 112\n",
      "      nit: 87\n",
      "     njev: 112\n",
      "   status: 0\n",
      "  success: True\n",
      "        x: array([1.00000018, 1.00000035])\n",
      "Solutions (x, y): [1.00000018 1.00000035] \n",
      "\n",
      "Expected Solution:\n",
      "For a=1, b=100, the minimum value of zero is at (1,1)\n"
     ]
    }
   ],
   "source": [
    "x0 = np.array([10, 10])\n",
    "\n",
    "solution1 = spo.minimize(\n",
    "    rosenbrock, \n",
    "    x0, \n",
    "    args=params, \n",
    "    method='Nelder-Mead', \n",
    "    options={\n",
    "        'xtol': 1.E-6, \n",
    "        'disp': False\n",
    "    }\n",
    ")\n",
    "print(\"Solved Without Jacobian\")\n",
    "print(\"Full Output (Nelder-Mead):\\n\", solution1)\n",
    "print(\"Solutions (x, y):\", solution1.x, \"\\n\")\n",
    "\n",
    "solution2 = spo.minimize(\n",
    "    rosenbrock, \n",
    "    x0, \n",
    "    args=params, \n",
    "    method='BFGS', \n",
    "    jac=Jacobian, \n",
    "    options={ \n",
    "        'disp': False\n",
    "    }\n",
    ")\n",
    "print(\"Solved With Jacobian\")\n",
    "print(\"Full Output (BFGS):\\n\", solution2)\n",
    "print(\"Solutions (x, y):\", solution2.x, \"\\n\")\n",
    "\n",
    "print(\"Expected Solution:\")\n",
    "print(\"For a=1, b=100, the minimum value of zero is at (1,1)\")"
   ]
  }
 ],
 "metadata": {
  "interpreter": {
   "hash": "8f0aa77b08787691d5ad57eb67530aa0f6a54135b18cc5e5fe8bb43e780afa21"
  },
  "kernelspec": {
   "display_name": "Python 3.8.8 64-bit ('base': conda)",
   "name": "python3"
  },
  "language_info": {
   "codemirror_mode": {
    "name": "ipython",
    "version": 3
   },
   "file_extension": ".py",
   "mimetype": "text/x-python",
   "name": "python",
   "nbconvert_exporter": "python",
   "pygments_lexer": "ipython3",
   "version": "3.8.8"
  }
 },
 "nbformat": 4,
 "nbformat_minor": 2
}
