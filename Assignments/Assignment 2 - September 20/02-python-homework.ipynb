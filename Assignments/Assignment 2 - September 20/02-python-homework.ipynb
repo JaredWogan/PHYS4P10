{
 "cells": [
  {
   "cell_type": "markdown",
   "source": [
    "## Homework 02 - Python\r\n"
   ],
   "metadata": {}
  },
  {
   "cell_type": "markdown",
   "source": [
    "In this homework, we will be working with Python arrays.\r\n",
    "\r\n",
    "Use the NumPy documentation for your installed version of NumPy to do the following excercises. The specific `numpy` commands to use are in paratheses after the excercise instructions.\r\n"
   ],
   "metadata": {}
  },
  {
   "cell_type": "code",
   "execution_count": 2,
   "source": [
    "# I AM INCLUDING THIS HERE THIS TIME, SO THAT NEXT TIME, YOU WON'T FORGET IT!\r\n",
    "import numpy as np"
   ],
   "outputs": [],
   "metadata": {}
  },
  {
   "cell_type": "markdown",
   "source": [
    "#### Excercise 1\r\n",
    "\r\n",
    "Create a 1D NumPy array of integer numbers from 0 to 9 ([`numpy.arange`][arange]), and printit out all at once with :\r\n",
    "\r\n",
    "```python\r\n",
    "print(my_array)\r\n",
    "```\r\n",
    "\r\n",
    "[arange]: https://docs.scipy.org/doc/numpy/reference/generated/numpy.arange.html\r\n"
   ],
   "metadata": {}
  },
  {
   "cell_type": "code",
   "execution_count": 3,
   "source": [
    "myArray = np.arange(0, 10)\r\n",
    "\r\n",
    "print(myArray)"
   ],
   "outputs": [
    {
     "output_type": "stream",
     "name": "stdout",
     "text": [
      "[0 1 2 3 4 5 6 7 8 9]\n"
     ]
    }
   ],
   "metadata": {}
  },
  {
   "cell_type": "markdown",
   "source": [
    "#### Excercise 2\r\n",
    "\r\n",
    "Write a `for` loop and print the first 5 values **only** of the array of the previous problem, one at a time.\r\n",
    "\r\n",
    "**A.** In the first `for` loop, use an integer iterator and the `range` function. Access the elements of your array using the iterator as an _index_ to the array elements, like this:\r\n",
    "\r\n",
    "```python\r\n",
    "for i in range(?):\r\n",
    "  print(my_array[i])\r\n",
    "```\r\n",
    "\r\n",
    "**B.** In the second `for` loop, use the array _itself_ as the iterator.\r\n"
   ],
   "metadata": {}
  },
  {
   "cell_type": "code",
   "execution_count": 4,
   "source": [
    "# Part A\r\n",
    "for i in range(5):\r\n",
    "    print(myArray[i])"
   ],
   "outputs": [
    {
     "output_type": "stream",
     "name": "stdout",
     "text": [
      "0\n",
      "1\n",
      "2\n",
      "3\n",
      "4\n"
     ]
    }
   ],
   "metadata": {}
  },
  {
   "cell_type": "code",
   "execution_count": 5,
   "source": [
    "# Part B\r\n",
    "for i in myArray[0:5]:\r\n",
    "    print(i)\r\n",
    "\r\n",
    "print(\"\\n\")\r\n",
    "    \r\n",
    "for index, value in enumerate(myArray[0:5]):\r\n",
    "    print(f\"index = {index}, myArray[{index}] = {value}\")"
   ],
   "outputs": [
    {
     "output_type": "stream",
     "name": "stdout",
     "text": [
      "0\n",
      "1\n",
      "2\n",
      "3\n",
      "4\n",
      "\n",
      "\n",
      "index = 0, myArray[0] = 0\n",
      "index = 1, myArray[1] = 1\n",
      "index = 2, myArray[2] = 2\n",
      "index = 3, myArray[3] = 3\n",
      "index = 4, myArray[4] = 4\n"
     ]
    }
   ],
   "metadata": {}
  },
  {
   "cell_type": "markdown",
   "source": [
    "#### Excercise 3\r\n",
    "\r\n",
    "Create a three row, five colulmn matrix of all 7's ([`numpy.repeat`][repeat], [`numpy.reshape`][reshape]).\r\n",
    "\r\n",
    "**A.** Print the whole matrix.\r\n",
    "\r\n",
    "**B.** Print the second column only.\r\n",
    "\r\n",
    "[repeat]: https://docs.scipy.org/doc/numpy/reference/generated/numpy.repeat.html\r\n",
    "[reshape]: https://docs.scipy.org/doc/numpy/reference/generated/numpy.reshape.html\r\n"
   ],
   "metadata": {}
  },
  {
   "cell_type": "code",
   "execution_count": 6,
   "source": [
    "# Part A\r\n",
    "\r\n",
    "numRow = 3\r\n",
    "numColumn = 5\r\n",
    "content = 7\r\n",
    "\r\n",
    "# Easy way\r\n",
    "\r\n",
    "sevenMatrix = np.full([numRow, numColumn], content)\r\n",
    "\r\n",
    "print(\"Easy Way: \\n\", sevenMatrix, \"\\n\")\r\n",
    "\r\n",
    "# Using numpy.repeat and numpy.reshape\r\n",
    "\r\n",
    "sevenMatrix = np.repeat(content, numRow*numColumn).reshape((numRow, numColumn))\r\n",
    "\r\n",
    "print(\"Using numpy.repeat and numpy.reshape \\n\", sevenMatrix)"
   ],
   "outputs": [
    {
     "output_type": "stream",
     "name": "stdout",
     "text": [
      "Easy Way: \n",
      " [[7 7 7 7 7]\n",
      " [7 7 7 7 7]\n",
      " [7 7 7 7 7]] \n",
      "\n",
      "Using numpy.repeat and numpy.reshape \n",
      " [[7 7 7 7 7]\n",
      " [7 7 7 7 7]\n",
      " [7 7 7 7 7]]\n"
     ]
    }
   ],
   "metadata": {}
  },
  {
   "cell_type": "code",
   "execution_count": 7,
   "source": [
    "# Part B\r\n",
    "\r\n",
    "print(\"Second Column: \\n\", sevenMatrix[:,1])"
   ],
   "outputs": [
    {
     "output_type": "stream",
     "name": "stdout",
     "text": [
      "Second Column: \n",
      " [7 7 7]\n"
     ]
    }
   ],
   "metadata": {}
  },
  {
   "cell_type": "markdown",
   "source": [
    "#### Excercise 4\r\n",
    "\r\n",
    "Extract and `print` all odd numbers from the following array:\r\n",
    "\r\n",
    "```python\r\n",
    "arr = numpy.array([0,1,2,3,4,5,6,7,8,9,10,11,12,13])\r\n",
    "```\r\n",
    "\r\n",
    "Do this with three different methods.\r\n",
    "\r\n",
    "**A.** First with a `for` loop and `list.append`, for example:\r\n",
    "\r\n",
    "```python\r\n",
    "new_list = []\r\n",
    "for i in old_list:\r\n",
    "    if expression(i):\r\n",
    "        new_list.append(old_list[i])\r\n",
    "```\r\n",
    "\r\n",
    "where you substitute `expression` with the test for oddness of that individual element. Finally, convert the list to a NumPy array before printing it.\r\n",
    "\r\n",
    "**B.** Second, do it by _list comprehensions_, for example:\r\n",
    "\r\n",
    "```python\r\n",
    "new_list = [old_list[i] for i in old_list if expression(i)]\r\n",
    "```\r\n",
    "\r\n",
    "In this case, use NumPy arrays and not python lists the whole time.\r\n",
    "\r\n",
    "**C.** Third, simplify the list comprehension, for example:\r\n",
    "\r\n",
    "```python\r\n",
    "new_list = old_list[expression(i)]\r\n",
    "```\r\n",
    "\r\n",
    "Again, use numpy arrays and not python lists the whole time.\r\n",
    "\r\n",
    "Make certain that your the varaible you `print` to see the output is a NumPy array.\r\n"
   ],
   "metadata": {}
  },
  {
   "cell_type": "code",
   "execution_count": 8,
   "source": [
    "arr = np.array([0,1,2,3,4,5,6,7,8,9,10,11,12,13])"
   ],
   "outputs": [],
   "metadata": {}
  },
  {
   "cell_type": "code",
   "execution_count": 9,
   "source": [
    "# Method A\r\n",
    "\r\n",
    "oddNumbers = []\r\n",
    "for i in arr:\r\n",
    "    if i % 2 == 1:\r\n",
    "        oddNumbers.append(i)\r\n",
    "        \r\n",
    "oddNumbers = np.array(oddNumbers)\r\n",
    "\r\n",
    "print(oddNumbers)"
   ],
   "outputs": [
    {
     "output_type": "stream",
     "name": "stdout",
     "text": [
      "[ 1  3  5  7  9 11 13]\n"
     ]
    }
   ],
   "metadata": {}
  },
  {
   "cell_type": "code",
   "execution_count": 10,
   "source": [
    "# Method B\r\n",
    "\r\n",
    "oddNumbers = []\r\n",
    "oddNumbers = np.array([arr[i] for i in arr if arr[i] % 2 == 1])\r\n",
    "\r\n",
    "print(oddNumbers)"
   ],
   "outputs": [
    {
     "output_type": "stream",
     "name": "stdout",
     "text": [
      "[ 1  3  5  7  9 11 13]\n"
     ]
    }
   ],
   "metadata": {}
  },
  {
   "cell_type": "code",
   "execution_count": 11,
   "source": [
    "# Method C\r\n",
    "\r\n",
    "oddNumbers = []\r\n",
    "oddNumbers = arr[arr % 2 == 1]\r\n",
    "\r\n",
    "print(oddNumbers)"
   ],
   "outputs": [
    {
     "output_type": "stream",
     "name": "stdout",
     "text": [
      "[ 1  3  5  7  9 11 13]\n"
     ]
    }
   ],
   "metadata": {}
  },
  {
   "cell_type": "markdown",
   "source": [
    "#### Excercise 5\r\n",
    "\r\n",
    "Replace the odd numbers form the above array of numbers with a value of -1 ([`numpy.where`](where)).\r\n",
    "\r\n",
    "[where]: https://numpy.org/doc/stable/reference/generated/numpy.where.html\r\n"
   ],
   "metadata": {}
  },
  {
   "cell_type": "code",
   "execution_count": 12,
   "source": [
    "# Replacing odd numbers with -1\r\n",
    "\r\n",
    "arr = np.where(arr % 2 == 1, -1, arr)\r\n",
    "\r\n",
    "print(arr)"
   ],
   "outputs": [
    {
     "output_type": "stream",
     "name": "stdout",
     "text": [
      "[ 0 -1  2 -1  4 -1  6 -1  8 -1 10 -1 12 -1]\n"
     ]
    }
   ],
   "metadata": {}
  },
  {
   "cell_type": "markdown",
   "source": [
    "#### Excercise 6\r\n",
    "\r\n",
    "**A.** Create an equally spaced NumPy array of data points, from _exactly_ $x=0$ to _exactly_ $x=100$, using _about_ 1000 data points. ([`numpy.linspace`][linspace]) **Also** save the step size in a seperate variable.\r\n",
    "\r\n",
    "How many data points should you chose to get a nice decimal number of 0.1 as the step size?\r\n",
    "\r\n",
    "Print the _last_ 5 data points, and the step size.\r\n",
    "\r\n",
    "**B.** Without creating any new arrays, rescale the data values in the array of the previous problem by a factor of 5.\r\n",
    "\r\n",
    "**C.** Use NumPy functions to find the average and standard deviation of the data in your array from the previous problem.\r\n",
    "\r\n",
    "[linspace]: https://numpy.org/doc/stable/reference/generated/numpy.linspace.html\r\n"
   ],
   "metadata": {}
  },
  {
   "cell_type": "code",
   "execution_count": 13,
   "source": [
    "# Part A\r\n",
    "\r\n",
    "# Desired step size is 10^(-n)\r\n",
    "n, x1, x2 = 1, 0, 100 \r\n",
    "numPoints = 1 + (10**n)*(x2 - x1)\r\n",
    "\r\n",
    "array, step = np.linspace(x1, x2, numPoints, endpoint = True, retstep = True) # endpoint = True is default value\r\n",
    "\r\n",
    "print(f\"Number of data points in 'array' = {numPoints}\")\r\n",
    "print(\"Array:\\n\", array)\r\n",
    "print(\"Step size:\\n\", step)\r\n",
    "print(\"Last 5 data points:\\n\", array[-5:])"
   ],
   "outputs": [
    {
     "output_type": "stream",
     "name": "stdout",
     "text": [
      "Number of data points in 'array' = 1001\n",
      "Array:\n",
      " [  0.    0.1   0.2 ...  99.8  99.9 100. ]\n",
      "Step size:\n",
      " 0.1\n",
      "Last 5 data points:\n",
      " [ 99.6  99.7  99.8  99.9 100. ]\n"
     ]
    }
   ],
   "metadata": {}
  },
  {
   "cell_type": "markdown",
   "source": [
    "`numpy.linspace` normally doesn't return the `stop` value as part of the array unless `endpoint=True`. To get a nice step size of 0.1, we would need 1001 data points.\r\n"
   ],
   "metadata": {}
  },
  {
   "cell_type": "markdown",
   "source": [
    "### Answer to Part A\r\n",
    "\r\n",
    "We would need a total of $1001$ data points in `numpy.linspace()` to get a step size of 0.1 for the range $x=0$ and $x=100$\r\n",
    "\r\n",
    "In general, if your starting value is $x = x_1$ and your end point is $x = x_2$, in order to get a step size of $10^{-n}$, you will need a total of $1 + 10^n (x_2 - x_1)$ data points, where the $+ 1$ stems from the fact that the first point is the starting point.\r\n",
    "\r\n",
    "Also note, endpoint=True is the default value\r\n"
   ],
   "metadata": {}
  },
  {
   "cell_type": "code",
   "execution_count": 14,
   "source": [
    "# Part B\r\n",
    "\r\n",
    "array = 5 * array\r\n",
    "\r\n",
    "print(array)"
   ],
   "outputs": [
    {
     "output_type": "stream",
     "name": "stdout",
     "text": [
      "[  0.    0.5   1.  ... 499.  499.5 500. ]\n"
     ]
    }
   ],
   "metadata": {}
  },
  {
   "cell_type": "code",
   "execution_count": 15,
   "source": [
    "# Part C\r\n",
    "\r\n",
    "average = np.mean(array)\r\n",
    "std = np.std(array)\r\n",
    "\r\n",
    "print(f\"Average of 'array' = {average}, standard deviation of 'array' = {std:1.2f}\")"
   ],
   "outputs": [
    {
     "output_type": "stream",
     "name": "stdout",
     "text": [
      "Average of 'array' = 250.0, standard deviation of 'array' = 144.48\n"
     ]
    }
   ],
   "metadata": {}
  }
 ],
 "metadata": {
  "kernelspec": {
   "name": "python3",
   "display_name": "Python 3.8.5 64-bit ('base': conda)"
  },
  "language_info": {
   "codemirror_mode": {
    "name": "ipython",
    "version": 3
   },
   "file_extension": ".py",
   "mimetype": "text/x-python",
   "name": "python",
   "nbconvert_exporter": "python",
   "pygments_lexer": "ipython3",
   "version": "3.8.5"
  },
  "interpreter": {
   "hash": "b3ba2566441a7c06988d0923437866b63cedc61552a5af99d1f4fb67d367b25f"
  }
 },
 "nbformat": 4,
 "nbformat_minor": 4
}