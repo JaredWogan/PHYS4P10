{
 "cells": [
  {
   "cell_type": "markdown",
   "metadata": {},
   "source": [
    "## Homework 02 - Python"
   ]
  },
  {
   "cell_type": "markdown",
   "metadata": {},
   "source": [
    "In this homework, we will be working with Python arrays.\n",
    "\n",
    "Use the NumPy documentation for your installed version of NumPy to do the following excercises. The specific `numpy` commands to use are in paratheses after the excercise instructions. "
   ]
  },
  {
   "cell_type": "code",
   "execution_count": 2,
   "metadata": {},
   "outputs": [],
   "source": [
    "# I AM INCLUDING THIS HERE THIS TIME, SO THAT NEXT TIME, YOU WON'T FORGET IT!\n",
    "import numpy as np"
   ]
  },
  {
   "cell_type": "markdown",
   "metadata": {},
   "source": [
    "#### Excercise 1\n",
    "\n",
    "Create a 1D NumPy array of integer numbers from 0 to 9 ([`numpy.arange`][arange]), and printit out all at once with :\n",
    "```python\n",
    "print(my_array)\n",
    "```\n",
    "\n",
    "[arange]: https://docs.scipy.org/doc/numpy/reference/generated/numpy.arange.html"
   ]
  },
  {
   "cell_type": "code",
   "execution_count": 3,
   "metadata": {},
   "outputs": [
    {
     "name": "stdout",
     "output_type": "stream",
     "text": [
      "[0 1 2 3 4 5 6 7 8 9]\n"
     ]
    }
   ],
   "source": [
    "myArray = np.arange(0, 10)\n",
    "\n",
    "print(myArray)"
   ]
  },
  {
   "cell_type": "markdown",
   "metadata": {},
   "source": [
    "#### Excercise 2\n",
    "\n",
    "Write a `for` loop and print the first 5 values **only** of the array of the previous problem, one at a time.\n",
    "\n",
    "**A.** In the first `for` loop, use an integer iterator and the `range` function. Access the elements of your array using the iterator as an *index* to the array elements, like this:\n",
    "```python\n",
    "for i in range(?):\n",
    "  print(my_array[i])\n",
    "```\n",
    "\n",
    "**B.** In the second `for` loop, use the array *itself* as the iterator. "
   ]
  },
  {
   "cell_type": "code",
   "execution_count": 4,
   "metadata": {},
   "outputs": [
    {
     "name": "stdout",
     "output_type": "stream",
     "text": [
      "0\n",
      "1\n",
      "2\n",
      "3\n",
      "4\n"
     ]
    }
   ],
   "source": [
    "# Part A\n",
    "for i in range(5):\n",
    "    print(myArray[i])"
   ]
  },
  {
   "cell_type": "code",
   "execution_count": 5,
   "metadata": {},
   "outputs": [
    {
     "name": "stdout",
     "output_type": "stream",
     "text": [
      "0\n",
      "1\n",
      "2\n",
      "3\n",
      "4\n",
      "\n",
      "\n",
      "index = 0, myArray[0] = 0\n",
      "index = 1, myArray[1] = 1\n",
      "index = 2, myArray[2] = 2\n",
      "index = 3, myArray[3] = 3\n",
      "index = 4, myArray[4] = 4\n"
     ]
    }
   ],
   "source": [
    "# Part B\n",
    "for i in myArray[0:5]:\n",
    "    print(i)\n",
    "\n",
    "print(\"\\n\")\n",
    "    \n",
    "for index, value in enumerate(myArray[0:5]):\n",
    "    print(f\"index = {index}, myArray[{index}] = {value}\")"
   ]
  },
  {
   "cell_type": "markdown",
   "metadata": {},
   "source": [
    "#### Excercise 3\n",
    "Create a three row, five colulmn matrix of all 7's ([`numpy.repeat`][repeat], [`numpy.reshape`][reshape]). \n",
    "\n",
    "**A.** Print the whole matrix.\n",
    "\n",
    "**B.** Print the second column only.\n",
    "\n",
    "[repeat]: https://docs.scipy.org/doc/numpy/reference/generated/numpy.repeat.html\n",
    "[reshape]: https://docs.scipy.org/doc/numpy/reference/generated/numpy.reshape.html"
   ]
  },
  {
   "cell_type": "code",
   "execution_count": 6,
   "metadata": {},
   "outputs": [
    {
     "name": "stdout",
     "output_type": "stream",
     "text": [
      "Easy Way: \n",
      " [[7 7 7 7 7]\n",
      " [7 7 7 7 7]\n",
      " [7 7 7 7 7]] \n",
      "\n",
      "Using numpy.repeat and numpy.reshape \n",
      " [[7 7 7 7 7]\n",
      " [7 7 7 7 7]\n",
      " [7 7 7 7 7]]\n"
     ]
    }
   ],
   "source": [
    "# Part A\n",
    "\n",
    "numRow = 3\n",
    "numColumn = 5\n",
    "content = 7\n",
    "\n",
    "# Easy way\n",
    "\n",
    "sevenMatrix = np.full([numRow, numColumn], content)\n",
    "\n",
    "print(\"Easy Way: \\n\", sevenMatrix, \"\\n\")\n",
    "\n",
    "# Using numpy.repeat and numpy.reshape\n",
    "\n",
    "sevenMatrix = np.repeat(content, numRow*numColumn).reshape((numRow, numColumn))\n",
    "\n",
    "print(\"Using numpy.repeat and numpy.reshape \\n\", sevenMatrix)"
   ]
  },
  {
   "cell_type": "code",
   "execution_count": 7,
   "metadata": {},
   "outputs": [
    {
     "name": "stdout",
     "output_type": "stream",
     "text": [
      "Second Column: \n",
      " [7 7 7]\n"
     ]
    }
   ],
   "source": [
    "# Part B\n",
    "\n",
    "print(\"Second Column: \\n\", sevenMatrix[:,1])"
   ]
  },
  {
   "cell_type": "markdown",
   "metadata": {},
   "source": [
    "#### Excercise 4\n",
    "Extract and `print` all odd numbers from the following array: \n",
    "```python\n",
    "arr = numpy.array([0,1,2,3,4,5,6,7,8,9,10,11,12,13])\n",
    "```\n",
    "\n",
    "Do this with three different methods. \n",
    "\n",
    "**A.** First with a `for` loop and `list.append`, for example: \n",
    "```python\n",
    "new_list = []\n",
    "for i in old_list:\n",
    "    if expression(i):\n",
    "        new_list.append(old_list[i])\n",
    "```\n",
    "where you substitute `expression` with the test for oddness of that individual element. Finally, convert the list to a NumPy array before printing it.\n",
    "    \n",
    "**B.** Second, do it by *list comprehensions*, for example:\n",
    "```python\n",
    "new_list = [old_list[i] for i in old_list if expression(i)]\n",
    "```\n",
    "In this case, use NumPy arrays and not python lists the whole time.\n",
    "\n",
    "**C.** Third, simplify the list comprehension, for example: \n",
    "\n",
    "```python\n",
    "new_list = old_list[expression(i)]\n",
    "```\n",
    " Again, use numpy arrays and not python lists the whole time.\n",
    "\n",
    "Make certain that your the varaible you `print` to see the output is a NumPy array."
   ]
  },
  {
   "cell_type": "code",
   "execution_count": 8,
   "metadata": {},
   "outputs": [],
   "source": [
    "arr = np.array([0,1,2,3,4,5,6,7,8,9,10,11,12,13])"
   ]
  },
  {
   "cell_type": "code",
   "execution_count": 9,
   "metadata": {},
   "outputs": [
    {
     "name": "stdout",
     "output_type": "stream",
     "text": [
      "[ 1  3  5  7  9 11 13]\n",
      "<class 'numpy.ndarray'>\n"
     ]
    }
   ],
   "source": [
    "# Method A\n",
    "\n",
    "oddNumbers = []\n",
    "for i in arr:\n",
    "    if i % 2 == 1:\n",
    "        oddNumbers.append(i)\n",
    "        \n",
    "oddNumbers = np.array(oddNumbers)\n",
    "\n",
    "print(oddNumbers)"
   ]
  },
  {
   "cell_type": "code",
   "execution_count": 10,
   "metadata": {},
   "outputs": [
    {
     "name": "stdout",
     "output_type": "stream",
     "text": [
      "[ 1  3  5  7  9 11 13]\n"
     ]
    }
   ],
   "source": [
    "# Method B\n",
    "\n",
    "oddNumbers = []\n",
    "oddNumbers = np.array([arr[i] for i in arr if arr[i] % 2 == 1])\n",
    "\n",
    "print(oddNumbers)"
   ]
  },
  {
   "cell_type": "code",
   "execution_count": 11,
   "metadata": {},
   "outputs": [
    {
     "name": "stdout",
     "output_type": "stream",
     "text": [
      "[ 1  3  5  7  9 11 13]\n"
     ]
    }
   ],
   "source": [
    "# Method C\n",
    "\n",
    "oddNumbers = []\n",
    "oddNumbers = arr[arr % 2 == 1]\n",
    "\n",
    "print(oddNumbers)"
   ]
  },
  {
   "cell_type": "markdown",
   "metadata": {},
   "source": [
    "#### Excercise 5\n",
    "Replace the odd numbers form the above array of numbers with a value of -1 ([`numpy.where`](where)). \n",
    "\n",
    "[where]:https://numpy.org/doc/stable/reference/generated/numpy.where.html"
   ]
  },
  {
   "cell_type": "code",
   "execution_count": 12,
   "metadata": {},
   "outputs": [
    {
     "name": "stdout",
     "output_type": "stream",
     "text": [
      "[ 0 -1  2 -1  4 -1  6 -1  8 -1 10 -1 12 -1]\n"
     ]
    }
   ],
   "source": [
    "# Replacing odd numbers with -1\n",
    "\n",
    "arr = np.where(arr % 2 == 1, -1, arr)\n",
    "\n",
    "print(arr)"
   ]
  },
  {
   "cell_type": "markdown",
   "metadata": {},
   "source": [
    "#### Excercise 6\n",
    "\n",
    "**A.** Create an equally spaced NumPy array of data points, from *exactly* $x=0$ to *exactly* $x=100$, using *about* 1000 data points. ([`numpy.linspace`][linspace]) **Also** save the step size in a seperate variable.\n",
    "\n",
    "How many data points should you chose to get a nice decimal number of 0.1 as the step size?\n",
    "\n",
    "Print the *last* 5 data points, and the step size.\n",
    "\n",
    "**B.** Without creating any new arrays, rescale the data values in the array of the previous problem by a factor of 5.\n",
    "\n",
    "**C.**  Use NumPy functions to find the average and standard deviation of the data in your array from the previous problem.\n",
    "\n",
    "[linspace]: https://numpy.org/doc/stable/reference/generated/numpy.linspace.html"
   ]
  },
  {
   "cell_type": "code",
   "execution_count": 13,
   "metadata": {},
   "outputs": [
    {
     "name": "stdout",
     "output_type": "stream",
     "text": [
      "Number of data points in 'array' = 1001\n",
      "Array:\n",
      " [  0.    0.1   0.2 ...  99.8  99.9 100. ]\n",
      "Step size:\n",
      " 0.1\n",
      "Last 5 data points:\n",
      " [ 99.6  99.7  99.8  99.9 100. ]\n"
     ]
    }
   ],
   "source": [
    "# Part A\n",
    "\n",
    "# Desired step size is 10^(-n)\n",
    "n, x1, x2 = 1, 0, 100 \n",
    "numPoints = 1 + (10**n)*(x2 - x1)\n",
    "\n",
    "array, step = np.linspace(x1, x2, numPoints, endpoint = True, retstep = True) # endpoint = True is default value\n",
    "\n",
    "print(f\"Number of data points in 'array' = {numPoints}\")\n",
    "print(\"Array:\\n\", array)\n",
    "print(\"Step size:\\n\", step)\n",
    "print(\"Last 5 data points:\\n\", array[-5:])"
   ]
  },
  {
   "cell_type": "markdown",
   "metadata": {},
   "source": [
    "`numpy.linspace` normally doesn't return the `stop` value as part of the array unless `endpoint=True`. To get a nice step size of 0.1, we would need 1001 data points."
   ]
  },
  {
   "cell_type": "markdown",
   "metadata": {},
   "source": [
    "### Answer to Part A\n",
    "We would need a total of $1001$ data points in ```numpy.linspace()``` to get a step size of 0.1 for the range $x=0$ and $x=100$\n",
    "\n",
    "In general, if your starting value is $x = x_1$ and your end point is $x = x_2$, in order to get a step size of $10^{-n}$, you will need a total of $1 + 10^n (x_2 - x_1)$ data points, where the $+ 1$ stems from the fact that the first point is the starting point.\n",
    "\n",
    "Also note, endpoint=True is the default value"
   ]
  },
  {
   "cell_type": "code",
   "execution_count": 14,
   "metadata": {},
   "outputs": [
    {
     "name": "stdout",
     "output_type": "stream",
     "text": [
      "[  0.    0.5   1.  ... 499.  499.5 500. ]\n"
     ]
    }
   ],
   "source": [
    "# Part B\n",
    "\n",
    "array = 5 * array\n",
    "\n",
    "print(array)"
   ]
  },
  {
   "cell_type": "code",
   "execution_count": 15,
   "metadata": {},
   "outputs": [
    {
     "name": "stdout",
     "output_type": "stream",
     "text": [
      "Average of 'array' = 250.0, standard deviation of 'array' = 144.48\n"
     ]
    }
   ],
   "source": [
    "# Part C\n",
    "\n",
    "average = np.mean(array)\n",
    "std = np.std(array)\n",
    "\n",
    "print(f\"Average of 'array' = {average}, standard deviation of 'array' = {std:1.2f}\")"
   ]
  },
  {
   "cell_type": "code",
   "execution_count": null,
   "metadata": {},
   "outputs": [],
   "source": []
  },
  {
   "cell_type": "code",
   "execution_count": null,
   "metadata": {},
   "outputs": [],
   "source": []
  }
 ],
 "metadata": {
  "kernelspec": {
   "display_name": "Python 3",
   "language": "python",
   "name": "python3"
  },
  "language_info": {
   "codemirror_mode": {
    "name": "ipython",
    "version": 3
   },
   "file_extension": ".py",
   "mimetype": "text/x-python",
   "name": "python",
   "nbconvert_exporter": "python",
   "pygments_lexer": "ipython3",
   "version": "3.8.5"
  }
 },
 "nbformat": 4,
 "nbformat_minor": 4
}
