{
 "cells": [
  {
   "cell_type": "code",
   "execution_count": 40,
   "metadata": {},
   "outputs": [],
   "source": [
    "from typing import Tuple\n",
    "import numpy as np\n",
    "import matplotlib.pyplot as plt\n",
    "import scipy.optimize as spo\n",
    "import scipy.misc as spm\n",
    "\n",
    "plt.style.use(\"seaborn\")"
   ]
  },
  {
   "cell_type": "markdown",
   "metadata": {},
   "source": [
    "# Homework 11 - Nonlinear equations\n",
    "\n",
    "#### Excercise 1\n",
    "\n",
    "Write **your own** function called `bisection_method` that takes as arguments:\n",
    "-  a function to find the root of,\n",
    "-  the guesses $a,b$, and\n",
    "-  a tolerance limit with a default value of `1E-6`.\n",
    "\n",
    "The function should return the root and the uncertainty of the root as $|a-b|$.\n",
    "\n",
    "Use that function to solve find the roots of the equation\n",
    "$$x^3+4x^2-27x-90=0$$ "
   ]
  },
  {
   "cell_type": "code",
   "execution_count": 41,
   "metadata": {},
   "outputs": [],
   "source": [
    "def bisection_method(\n",
    "    f: callable,\n",
    "    interval: Tuple[float, float],\n",
    "    tolerance: float = 1e-6,\n",
    "    max_iters: int = 10000\n",
    ") -> Tuple[float, float]:\n",
    "    \"\"\"\n",
    "    Bisection method for finding the root of a function.\n",
    "\n",
    "    Parameters\n",
    "    ----------\n",
    "    f : callable\n",
    "        Function to find the root of.\n",
    "    interval : Tuple[float, float]\n",
    "        Interval in which to search for the root.\n",
    "    tolerance : float\n",
    "        Tolerance for the root.\n",
    "\n",
    "    Returns\n",
    "    -------\n",
    "    Tuple[float, float]\n",
    "        Interval containing the root.\n",
    "    \"\"\"\n",
    "    a, b = interval\n",
    "    if f(a) * f(b) > 0:\n",
    "        raise ValueError(\"Function has no root in the given interval.\")\n",
    "\n",
    "    iterations = 0\n",
    "    error = abs(b - a)\n",
    "    while error > tolerance and iterations < max_iters:\n",
    "        c = (a + b) / 2\n",
    "        error = abs(b - a)\n",
    "        if f(c) * f(a) > 0:\n",
    "            a = c\n",
    "        else:\n",
    "            b = c\n",
    "        iterations += 1\n",
    "    return c, error"
   ]
  },
  {
   "cell_type": "code",
   "execution_count": 42,
   "metadata": {},
   "outputs": [
    {
     "data": {
      "image/png": "[encoded data removed]",
      "text/plain": [
       "<Figure size 648x432 with 1 Axes>"
      ]
     },
     "metadata": {},
     "output_type": "display_data"
    }
   ],
   "source": [
    "def f(x: float) -> float:\n",
    "    return x**3 + 4*x**2 - 27*x - 90\n",
    "\n",
    "x = np.linspace(-10, 10, 1000)\n",
    "\n",
    "fig, ax = plt.subplots(figsize=(9, 6))\n",
    "ax.plot(x, f(x), label=\"f(x)\")\n",
    "ax.plot(x, np.zeros(len(x)), linestyle=\"--\", label=\"y=0\")\n",
    "ax.legend()\n",
    "plt.show()\n",
    "plt.close()"
   ]
  },
  {
   "cell_type": "code",
   "execution_count": 43,
   "metadata": {},
   "outputs": [
    {
     "name": "stdout",
     "output_type": "stream",
     "text": [
      "Interval: (-10, -5)\n",
      "Root: -6.0000, Error: 5.9605e-07\n",
      "Interval: (-5, 0)\n",
      "Root: -3.0000, Error: 5.9605e-07\n",
      "Interval: (0, 10)\n",
      "Root: 5.0000, Error: 5.9605e-07\n"
     ]
    }
   ],
   "source": [
    "intervals = [(-10, -5), (-5, 0), (0, 10)]\n",
    "\n",
    "for interval in intervals:\n",
    "    print(f\"Interval: {interval}\")\n",
    "    bisection = bisection_method(f, interval)\n",
    "    print(f\"Root: {bisection[0]:1.4f}, Error: {bisection[1]:1.4e}\")"
   ]
  },
  {
   "cell_type": "markdown",
   "metadata": {},
   "source": [
    "#### Excercise 2\n",
    "\n",
    "Plank's radiation law says that the intensity of radiation per unit area and per unit wavelength $\\lambda$ from a black body at temperature $T$ is \n",
    "$$\n",
    "I(\\lambda) = \\frac{2\\pi hc^2\\lambda^{-5}}{e^{hc/\\lambda k_BT}-1}\n",
    "$$\n",
    "\n",
    "By differentiation we can show that the wavelength at which emitted radiation is maximum is the solution to the equation\n",
    "\n",
    "<div style=\"font-size: 16pt; color: red\"> This is incorrect? </div>\n",
    "\n",
    "$$\n",
    "5e^{hc/\\lambda k_BT}+\\frac{hc}{\\lambda k_BT}-5=0\n",
    "$$\n",
    "\n",
    "<div style=\"font-size: 16pt; color: lime\"> This is what it should be? </div>\n",
    "\n",
    "$$\n",
    "\\begin{align*}\n",
    "\\cfrac{hc e^{hc/k_B T \\lambda}}{k_BT\\lambda(1 - e^{hc/k_BT\\lambda})} + 5 &= 0 \\\\[10pt]\n",
    "\n",
    "\\cfrac{x e^{x}}{(1 - e^{x})} + 5 &= 0 \\\\[10pt]\n",
    "\n",
    "x e^{x} + 5(1 - e^{x}) &= 0 \\\\[10pt]\n",
    "\n",
    "x e^{x} + 5 - 5e^{x} &= 0 \\\\[10pt]\n",
    "\n",
    "(x - 5) e^{x} + 5 &= 0 \\\\[10pt]\n",
    "\n",
    "\\end{align*}\n",
    "$$\n",
    "\n",
    "When you substitute $x=hc/\\lambda k_BT$, then the wavelength of maximum  radiation is given by Wein's displacment law\n",
    "$$\n",
    "\\lambda=\\frac{b}{T}\n",
    "$$\n",
    "where $b=hc/\\lambda k_Bx$.\n",
    "\n",
    "I don't think  $b$ should have a factor of $1/\\lambda$ either....\n",
    "\n",
    "- Use [`scipy.optimize.bisect`][1] and solve the equation for $x$, then using that value, find the temperature of the sun, whose maximum in intensity is at $\\lambda=502$ nm\n",
    "\n",
    "- Write **your own** Newton's method to solve the equation for $x$, then using that value, find the temperature of the sun, whose maximum in intensity is at $\\lambda=502$ nm. (**Bonus 2 points.** Your starting guess should be more than 1.69. Why?)\n",
    "\n",
    "\n",
    "[1]: https://docs.scipy.org/doc/scipy/reference/generated/scipy.optimize.bisect.html"
   ]
  },
  {
   "cell_type": "code",
   "execution_count": 64,
   "metadata": {},
   "outputs": [
    {
     "name": "stdout",
     "output_type": "stream",
     "text": [
      "c = 299792458.0, h = 6.62607015e-34, k = 1.380649e-23\n"
     ]
    }
   ],
   "source": [
    "from scipy.constants import c, h, k\n",
    "\n",
    "print(f\"{c = }, {h = }, {k = }\")\n",
    "\n",
    "def f(x: float) -> float:\n",
    "    return (x - 5) * np.exp(x) + 5\n"
   ]
  },
  {
   "cell_type": "code",
   "execution_count": 45,
   "metadata": {},
   "outputs": [
    {
     "name": "stdout",
     "output_type": "stream",
     "text": [
      "The temperature of the sun is approximately 5772.45 K if the maximum intensity occurs at a wavelength of 502 nm.\n"
     ]
    }
   ],
   "source": [
    "max_x = spo.bisect(f, 0.0000001, 10)\n",
    "\n",
    "l = 502e-9\n",
    "\n",
    "T = h*c / (l * k * max_x)\n",
    "\n",
    "print(f\"The temperature of the sun is approximately {T:1.2f} K if the maximum intensity occurs at a wavelength of {l*1e9:1.0f} nm.\")"
   ]
  },
  {
   "cell_type": "code",
   "execution_count": 46,
   "metadata": {},
   "outputs": [],
   "source": [
    "def newton(\n",
    "    f: callable,\n",
    "    x0: float,\n",
    "    fprime: callable = None,\n",
    "    tolerance: float = 1e-6,\n",
    "    max_iters: int = 10000\n",
    ") -> Tuple[float, float]:\n",
    "    \"\"\"\n",
    "    Newton's method for finding the root of a function.\n",
    "\n",
    "    Parameters\n",
    "    ----------\n",
    "    f : callable\n",
    "        Function to find the root of.\n",
    "    x0 : float\n",
    "        Initial guess for the root.\n",
    "    tolerance : float\n",
    "        Tolerance for the root.\n",
    "\n",
    "    Returns\n",
    "    -------\n",
    "    Tuple[float, float]\n",
    "        Interval containing the root.\n",
    "    \"\"\"\n",
    "    \n",
    "    if fprime is None:\n",
    "        def fprime(x: float) -> float:\n",
    "            return spm.derivative(f, x, dx=1e-5)\n",
    "    \n",
    "    x = x0\n",
    "    iterations = 0\n",
    "    error = abs(f(x))\n",
    "    while error > tolerance and iterations < max_iters:\n",
    "        x = x - f(x) / fprime(x)\n",
    "        error = abs(f(x))\n",
    "        iterations += 1\n",
    "    return x, error, iterations"
   ]
  },
  {
   "cell_type": "code",
   "execution_count": 47,
   "metadata": {},
   "outputs": [
    {
     "name": "stdout",
     "output_type": "stream",
     "text": [
      "The temperature of the sun is approximately 5772.45 K if the maximum intensity occurs at a wavelength of 502 nm.\n"
     ]
    }
   ],
   "source": [
    "max_x, *info = newton(f=f, x0=4.5)\n",
    "T = h*c / (l * k * max_x)\n",
    "print(f\"The temperature of the sun is approximately {T:1.2f} K if the maximum intensity occurs at a wavelength of {l*1e9:1.0f} nm.\")"
   ]
  },
  {
   "cell_type": "markdown",
   "metadata": {},
   "source": [
    "<font color=\"blue\"><b>Bonus:</b> </blue>"
   ]
  },
  {
   "cell_type": "code",
   "execution_count": 60,
   "metadata": {},
   "outputs": [
    {
     "data": {
      "image/png": "[encoded data removed]",
      "text/plain": [
       "<Figure size 648x432 with 1 Axes>"
      ]
     },
     "metadata": {},
     "output_type": "display_data"
    }
   ],
   "source": [
    "x = np.linspace(-1, 6, 1000)\n",
    "\n",
    "fig, ax = plt.subplots(figsize=(9, 6))\n",
    "ax.set_ylim(-75, 75)\n",
    "ax.plot(x, f(x), label=\"$f(x)$\")\n",
    "ax.plot(x, np.zeros(len(x)), linestyle=\"--\", label=\"$y=0$\")\n",
    "ax.set_xlabel(\"$x$\", fontsize=12)\n",
    "ax.set_ylabel(\"$I^{\\prime}(x)$\", fontsize=12)\n",
    "ax.legend()\n",
    "plt.show()\n",
    "plt.close()"
   ]
  },
  {
   "cell_type": "markdown",
   "metadata": {},
   "source": [
    "# Answer to bonus \n",
    "\n",
    "The initial guess actually has to be greater than $x_0 = 4$ here, otherwise Newton's method will fall into the local minimum around $x = 4$, or if we supply a guess less than 4, it will will find the other root near $x = 0$"
   ]
  },
  {
   "cell_type": "markdown",
   "metadata": {},
   "source": [
    "#### Exercise 3\n",
    "\n",
    "Use Newton's method to take the inverse of $u=\\tanh{x}$, that is for a given $u$, calculate $\\tanh^{-1}{u}=x$. Clearly this is the root of $f(x)=\\tanh(x)-u$ where $u$ is a constant.\n",
    "\n",
    "-  Include the function $f(x)$ to evaluate\n",
    "-  Include a function for $f'(x)$ to evaluate\n",
    "-  The programming problem is how to pass the value of $u$ to these functions?\n",
    "\n",
    "Python functions can be defined such that they accept a list of arguments in addition to the variable $x$ where they are to be evaluated. For exmaple: \n",
    "```python\n",
    "def f(x, *args):\n",
    "    u = args\n",
    "    return numpy.tanh(x)-u\n",
    "     \n",
    "# -- This is the value of u we want to take the arctanh of.\n",
    "# -- args_to_pass wil be passed into both f and fp to help evaluate those funcitons.\n",
    "# -- It is a 'tuple' type container, a collection which is ordered and unchangeable, different from a list.\n",
    "args_to_pass=(0.9,) \n",
    "scipy.optimize.newton(f,0.0,fprime=fp,args=args_to_pass) \n",
    "```\n",
    "\n",
    "Verify your results with `numpy.arctanh`."
   ]
  },
  {
   "cell_type": "code",
   "execution_count": 49,
   "metadata": {},
   "outputs": [
    {
     "name": "stdout",
     "output_type": "stream",
     "text": [
      "Tested np.tanh(inverse_tanh(0.9)) = 0.9: Valid inverse of tanh.\n",
      "Tested np.tanh(inverse_tanh(-0.9)) = -0.9: Valid inverse of tanh.\n",
      "Tested np.tanh(inverse_tanh(0)) = 0: Valid inverse of tanh.\n",
      "Tested np.tanh(inverse_tanh(0.1)) = 0.1: Valid inverse of tanh.\n",
      "Tested np.tanh(inverse_tanh(0.5)) = 0.5: Valid inverse of tanh.\n",
      "Tested np.tanh(inverse_tanh(-0.5)) = -0.5: Valid inverse of tanh.\n",
      "\n",
      "\n",
      "Tested np.arctanh(0.9) = 1.4722194895832201: Valid inverse of tanh.\n",
      "Tested np.arctanh(-0.9) = -1.4722194895832201: Valid inverse of tanh.\n",
      "Tested np.arctanh(0) = 0.0: Valid inverse of tanh.\n",
      "Tested np.arctanh(0.1) = 0.10033534773107557: Valid inverse of tanh.\n",
      "Tested np.arctanh(0.5) = 0.5493061443340548: Valid inverse of tanh.\n",
      "Tested np.arctanh(-0.5) = -0.5493061443340548: Valid inverse of tanh.\n"
     ]
    }
   ],
   "source": [
    "def f(x: float, u: float) -> float:\n",
    "    return np.tanh(x) - u\n",
    "\n",
    "def fprime(x: float, u: float) -> float:\n",
    "    return 1 - np.tanh(x)**2\n",
    "\n",
    "def inverse_tanh(x: float) -> float:\n",
    "    args = (x,)\n",
    "    return spo.newton(f, x0=0, fprime=fprime, args=args)\n",
    "    \n",
    "test_values = [0.9, -0.9, 0, 0.1, 0.5, -0.5]\n",
    "\n",
    "# I did the validation slightly differently than was requested.\n",
    "for value in test_values:\n",
    "    inverse = inverse_tanh(value)\n",
    "    if np.isclose(value, np.tanh(inverse)):\n",
    "        print(f\"Tested np.tanh(inverse_tanh({value})) = {value}: Valid inverse of tanh.\")\n",
    "    else:\n",
    "        print(f\"Tested np.tanh(inverse_tanh({value})) = {value}: Not a valid inverse of tanh.\")\n",
    "\n",
    "print(\"\\n\")\n",
    "\n",
    "# Here is the requested validation\n",
    "for value in test_values:\n",
    "    inverse = inverse_tanh(value)\n",
    "    if np.isclose(inverse, np.arctanh(value)):\n",
    "        print(f\"Tested np.arctanh({value}) = {inverse}: Valid inverse of tanh.\")\n",
    "    else:\n",
    "        print(f\"Tested np.arctanh({value}) = {inverse}: Not a valid inverse of tanh.\")"
   ]
  },
  {
   "cell_type": "markdown",
   "metadata": {},
   "source": [
    "#### Excercise 4\n",
    "\n",
    "The [Lagrangian point][LP] L1 lies on the line between the Earth and Moon, and follows in synchronicity the orbit of the Moon. The point is just at the right spot that the balance of gravity pulling in toward the Earth, and out toward the Moon, combine to provide the exact needed centripetal force to keep a satilite in orbit.\n",
    "\n",
    "Assuming circular orbits, the L1 point satifies\n",
    "$$\\frac{GM}{r^2}-\\frac{Gm}{(R-r)^2}=\\omega^2r$$\n",
    "where $G$ is the gravitational constant, $M$ is the mass of the Earth, $m$ the mass of the moon, $\\omega$ is the moon's orbital frequency, $R$ is the distance from the Earth to the moon, and $r$ the distace from the center of the Earth to the L1 point.\n",
    "\n",
    "Use Newton's method to solve for $r$ to at least four significant figures.</font>\n",
    "\n",
    "Use:\n",
    "$$\n",
    "\\begin{array}{l}\n",
    "G &=& 6.674 \\times 10^{-11}\\textrm{ m$^3$kg$^{-1}$s$^{-2}$} \\\\\n",
    "M &=& 5.974 \\times 10^{+24}\\textrm{ kg} \\\\\n",
    "m &=& 7.348 \\times 10^{+22}\\textrm{ kg} \\\\\n",
    "R &=& 3.844 \\times 10^{+8}\\textrm{ m} \\\\\n",
    "\\omega &=& 4.236 \\times 10^{-7}\\textrm{ s$^{-1}$} \n",
    "\\end{array}\n",
    "$$\n",
    "\n",
    "[LP]: https://en.wikipedia.org/wiki/Lagrangian_point"
   ]
  },
  {
   "cell_type": "code",
   "execution_count": 50,
   "metadata": {},
   "outputs": [],
   "source": [
    "G = 6.674e-11\n",
    "M = 5.974e24\n",
    "m = 7.348e22\n",
    "R = 3.844e8\n",
    "w = 4.236e-7\n",
    "\n",
    "def f(r: float) -> float:\n",
    "    return G * M / (r**2) - G * m / ((R - r)**2) - r*w**2"
   ]
  },
  {
   "cell_type": "code",
   "execution_count": 51,
   "metadata": {},
   "outputs": [
    {
     "name": "stdout",
     "output_type": "stream",
     "text": [
      "L1 Point between the Earth and Moon: 3.4570e+08 meters.\n"
     ]
    }
   ],
   "source": [
    "solution = spo.newton(f, R/2, tol=1e-10, maxiter=100)\n",
    "print(f\"L1 Point between the Earth and Moon: {solution:1.4e} meters.\")"
   ]
  }
 ],
 "metadata": {
  "interpreter": {
   "hash": "8f0aa77b08787691d5ad57eb67530aa0f6a54135b18cc5e5fe8bb43e780afa21"
  },
  "kernelspec": {
   "display_name": "Python 3.8.8 64-bit ('base': conda)",
   "name": "python3"
  },
  "language_info": {
   "codemirror_mode": {
    "name": "ipython",
    "version": 3
   },
   "file_extension": ".py",
   "mimetype": "text/x-python",
   "name": "python",
   "nbconvert_exporter": "python",
   "pygments_lexer": "ipython3",
   "version": "3.8.8"
  }
 },
 "nbformat": 4,
 "nbformat_minor": 2
}
