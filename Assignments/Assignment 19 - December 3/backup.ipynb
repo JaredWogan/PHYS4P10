{
 "cells": [
  {
   "cell_type": "markdown",
   "metadata": {},
   "source": [
    "# 19 Monte Carlo methods"
   ]
  },
  {
   "cell_type": "code",
   "execution_count": 30,
   "metadata": {},
   "outputs": [],
   "source": [
    "import numpy as np\n",
    "import matplotlib.pyplot as plt\n",
    "import numba as nb"
   ]
  },
  {
   "cell_type": "markdown",
   "metadata": {},
   "source": [
    "#### Excercise 1\n",
    "Extend the 1D model to a 2D lattice of $10\\times10$ spins (or larger if you have a good computer), where the spins can point only in the + or - $y$ direction. The system energy is the sum of all interactions between nearest neigbors on the lattice.\n",
    "\n",
    "$$E=-J\\sum_{\\langle i,j\\rangle}s_is_j$$\n",
    "where the notation $\\langle i,j\\rangle$ indicates a sum over pairs $i,j$ that are adjacent on the lattice.\n",
    "\n",
    "The goal is to show the net magnetization (and uncertainty) as a function of temperature. How does the critical temperature change?"
   ]
  },
  {
   "cell_type": "code",
   "execution_count": 72,
   "metadata": {},
   "outputs": [],
   "source": [
    "# Define some constants\n",
    "J = 1\n",
    "N = 15\n"
   ]
  },
  {
   "cell_type": "code",
   "execution_count": 73,
   "metadata": {},
   "outputs": [],
   "source": [
    "# Initialize spins array\n",
    "@nb.jit(forceobj=True)\n",
    "def initialize_spins(N):\n",
    "    return np.random.choice([-1, 1], size=(N, N))\n",
    "\n",
    "# Magnetization of the system\n",
    "@nb.jit(nopython=True)\n",
    "def magnetization(s):\n",
    "    return np.sum(s)\n",
    "\n",
    "# Energy of the nearest neighbor interaction\n",
    "@nb.jit(nopython=True)\n",
    "def energy(s):\n",
    "    E = 0\n",
    "    for i in range(N):\n",
    "        for j in range(N):\n",
    "            if i == 0:\n",
    "                if j == N-1:\n",
    "                    e = s[i, j] * s[i+1, j]\n",
    "                else:\n",
    "                    e = s[i, j] * (s[i+1, j] + s[i, j+1])\n",
    "            if i == N-1:\n",
    "                if j == N-1:\n",
    "                    e = 0\n",
    "                else:\n",
    "                    e = s[i, j] * s[i, j+1]\n",
    "            else:\n",
    "                if j == N-1:\n",
    "                    e = s[i, j] * s[i+1, j]\n",
    "                else:\n",
    "                    e = s[i, j] * (s[i+1, j] + s[i, j+1])\n",
    "\n",
    "            E += -J * e\n",
    "    return E\n",
    "\n",
    "# Step of the simulation\n",
    "@nb.jit(forceobj=True)\n",
    "def do_step(spins, temp, steps=100, print_steps=False) -> None:\n",
    "\n",
    "    # Initialize the energy and magnetization\n",
    "    E = energy(spins)\n",
    "    M = magnetization(spins)\n",
    "\n",
    "    # Loop over the number of steps\n",
    "    accepted = 0\n",
    "    for _ in range(steps):\n",
    "        # Choose a random spin\n",
    "        i = np.random.randint(N)\n",
    "        j = np.random.randint(N)\n",
    "        # Flip the spin\n",
    "        spins[i, j] *= -1\n",
    "        E_last = E\n",
    "        E = energy(spins)\n",
    "        dE = E - E_last\n",
    "\n",
    "        if dE > 0:\n",
    "            if np.random.random() > np.exp(-dE/temp):\n",
    "                spins[i, j] *= -1\n",
    "                E = E_last\n",
    "            else:\n",
    "                accepted += 1\n",
    "\n",
    "    if print_steps:\n",
    "        print(\"\\nEnergy =\", E, \"Magnetization =\", M)\n",
    "        print(\"Acceptance rate:\", 100.0*accepted/steps, \"%\")\n",
    "    \n",
    "    return None\n",
    "\n",
    "# Running the MC simulation\n",
    "@nb.jit(forceobj=True)\n",
    "def simulate(spins, temp, iters=50, steps=100, print_steps=False):\n",
    "    E = energy(spins)\n",
    "    M = magnetization(spins)\n",
    "    E_list = np.empty(iters + 1)\n",
    "    M_list = np.empty(iters + 1)\n",
    "    E_list[0] = E\n",
    "    M_list[0] = M\n",
    "    \n",
    "    for i in range(iters):\n",
    "        do_step(spins, temp, steps=steps, print_steps=print_steps)\n",
    "        E_list[i+1] = energy(spins)\n",
    "        M_list[i+1] = magnetization(spins)\n",
    "    \n",
    "    return np.average(E_list), np.average(M_list), np.std(E_list), np.std(M_list)\n"
   ]
  },
  {
   "cell_type": "code",
   "execution_count": 75,
   "metadata": {},
   "outputs": [],
   "source": [
    "@nb.jit(nopython=False, forceobj=True)\n",
    "def simulation(T0, T1, N_T):\n",
    "    T = np.linspace(T0, T1, N_T)\n",
    "\n",
    "    spins = np.array([\n",
    "        initialize_spins(N)\n",
    "        for _ in range(N_T)\n",
    "    ])\n",
    "    E_avgs = np.empty(N_T)\n",
    "    M_avgs = np.empty(N_T)\n",
    "    E_stds = np.empty(N_T)\n",
    "    M_stds = np.empty(N_T)\n",
    "    for i in range(N_T):\n",
    "        do_step(spins[i], T[0], steps=100000)\n",
    "        E_avgs[i], M_avgs[i], E_stds[i], M_stds[i] = simulate(spins[i], T[i], iters=50, steps=10000, print_steps=False)\n",
    "        print(\"Temperature =\", round(T[i], 3), \"Finished\")\n",
    "\n",
    "    return T, E_avgs, M_avgs, E_stds, M_stds\n"
   ]
  },
  {
   "cell_type": "code",
   "execution_count": 76,
   "metadata": {},
   "outputs": [
    {
     "name": "stdout",
     "output_type": "stream",
     "text": [
      "Temperature = 0.001 Finished\n",
      "Temperature = 0.087 Finished\n",
      "Temperature = 0.173 Finished\n",
      "Temperature = 0.26 Finished\n",
      "Temperature = 0.346 Finished\n",
      "Temperature = 0.432 Finished\n",
      "Temperature = 0.518 Finished\n",
      "Temperature = 0.604 Finished\n",
      "Temperature = 0.69 Finished\n",
      "Temperature = 0.777 Finished\n",
      "Temperature = 0.863 Finished\n",
      "Temperature = 0.949 Finished\n",
      "Temperature = 1.035 Finished\n",
      "Temperature = 1.121 Finished\n",
      "Temperature = 1.207 Finished\n",
      "Temperature = 1.294 Finished\n",
      "Temperature = 1.38 Finished\n",
      "Temperature = 1.466 Finished\n",
      "Temperature = 1.552 Finished\n",
      "Temperature = 1.638 Finished\n",
      "Temperature = 1.724 Finished\n",
      "Temperature = 1.811 Finished\n",
      "Temperature = 1.897 Finished\n",
      "Temperature = 1.983 Finished\n",
      "Temperature = 2.069 Finished\n",
      "Temperature = 2.155 Finished\n",
      "Temperature = 2.241 Finished\n",
      "Temperature = 2.328 Finished\n",
      "Temperature = 2.414 Finished\n",
      "Temperature = 2.5 Finished\n"
     ]
    }
   ],
   "source": [
    "T, E_avgs, M_avgs, E_stds, M_stds = simulation(0.001, 2.5, 30)"
   ]
  },
  {
   "cell_type": "code",
   "execution_count": 77,
   "metadata": {},
   "outputs": [
    {
     "name": "stdout",
     "output_type": "stream",
     "text": [
      "(30,) (30,) (30,) (30,) (30,)\n"
     ]
    }
   ],
   "source": [
    "print(\n",
    "    T.shape,\n",
    "    E_avgs.shape,\n",
    "    M_avgs.shape,\n",
    "    E_stds.shape,\n",
    "    M_stds.shape\n",
    ")"
   ]
  },
  {
   "cell_type": "code",
   "execution_count": 80,
   "metadata": {},
   "outputs": [
    {
     "data": {
      "image/png": "[encoded data removed]",
      "text/plain": [
       "<Figure size 648x432 with 1 Axes>"
      ]
     },
     "metadata": {
      "needs_background": "light"
     },
     "output_type": "display_data"
    }
   ],
   "source": [
    "plt.figure(figsize=(9, 6))\n",
    "plt.errorbar(T, np.abs(M_avgs), yerr=M_stds, fmt=\"bo\")\n",
    "plt.xlabel(\"Temperature\", fontsize=20)\n",
    "plt.ylabel(\"Magnetization\", fontsize=20)\n",
    "plt.grid()\n",
    "plt.show()\n",
    "plt.close()\n"
   ]
  },
  {
   "cell_type": "code",
   "execution_count": 3,
   "metadata": {},
   "outputs": [
    {
     "name": "stdout",
     "output_type": "stream",
     "text": [
      "T = 1.638 Finished\n",
      "T = 1.38 Finished\n",
      "T = 0.69 Finished\n",
      "T = 1.294 Finished\n",
      "T = 0.949 Finished\n",
      "T = 0.346 Finished\n",
      "T = 1.552 Finished\n",
      "T = 1.466 Finished\n",
      "T = 1.207 Finished\n",
      "T = 0.604 Finished\n",
      "T = 0.26 Finished\n",
      "T = 0.432 Finished\n",
      "T = 0.863 Finished\n",
      "T = 1.121 Finished\n",
      "T = 1.035 Finished\n",
      "T = 0.777 Finished\n",
      "T = 0.173 Finished\n",
      "T = 0.001 Finished\n",
      "T = 0.087 Finished\n",
      "T = 0.518 Finished\n",
      "T = 1.724 Finished\n",
      "T = 1.811 Finished\n",
      "T = 1.897 Finished\n",
      "T = 2.069 Finished\n",
      "T = 2.241 Finished\n",
      "T = 2.414 Finished\n",
      "T = 2.155 Finished\n",
      "T = 2.328 Finished\n",
      "T = 1.983 Finished\n",
      "T = 2.5 Finished\n"
     ]
    },
    {
     "data": {
      "image/png": "[encoded data removed]",
      "text/plain": [
       "<Figure size 648x432 with 1 Axes>"
      ]
     },
     "metadata": {
      "needs_background": "light"
     },
     "output_type": "display_data"
    }
   ],
   "source": [
    "from scripts import simulation\n",
    "import numpy as np\n",
    "import matplotlib.pyplot as plt\n",
    "\n",
    "T, E_avgs, M_avgs, E_stds, M_stds = simulation(\n",
    "    T0=0.001, \n",
    "    T1=2.5, \n",
    "    N_T=30,\n",
    "    N_S=15,\n",
    "    J=1,\n",
    "    iters=60,\n",
    "    steps=20_000,\n",
    "    print_steps=False\n",
    ")\n",
    "\n",
    "plt.figure(figsize=(9, 6))\n",
    "plt.errorbar(T, np.abs(M_avgs), yerr=M_stds, fmt=\"bo\")\n",
    "plt.xlabel(\"Temperature\", fontsize=20)\n",
    "plt.ylabel(\"Magnetization\", fontsize=20)\n",
    "plt.grid()\n",
    "plt.show()\n",
    "plt.close()"
   ]
  }
 ],
 "metadata": {
  "kernelspec": {
   "display_name": "Python 3",
   "language": "python",
   "name": "python3"
  },
  "language_info": {
   "codemirror_mode": {
    "name": "ipython",
    "version": 3
   },
   "file_extension": ".py",
   "mimetype": "text/x-python",
   "name": "python",
   "nbconvert_exporter": "python",
   "pygments_lexer": "ipython3",
   "version": "3.8.8"
  }
 },
 "nbformat": 4,
 "nbformat_minor": 2
}
