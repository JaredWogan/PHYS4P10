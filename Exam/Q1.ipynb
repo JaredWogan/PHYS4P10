{
 "cells": [
  {
   "cell_type": "code",
   "execution_count": 46,
   "metadata": {},
   "outputs": [],
   "source": [
    "import numpy as np\n",
    "import scipy.integrate as spi\n",
    "import scipy.optimize as spo"
   ]
  },
  {
   "cell_type": "code",
   "execution_count": 47,
   "metadata": {},
   "outputs": [],
   "source": [
    "def f(x):\n",
    "    return (\n",
    "        (x**3 * np.cos(x/2) + 1/2) * np.sqrt(4 - x**2)\n",
    "    )"
   ]
  },
  {
   "cell_type": "code",
   "execution_count": 48,
   "metadata": {},
   "outputs": [],
   "source": [
    "xmin = -2\n",
    "xmax = 2"
   ]
  },
  {
   "cell_type": "code",
   "execution_count": 53,
   "metadata": {},
   "outputs": [
    {
     "name": "stdout",
     "output_type": "stream",
     "text": [
      "integral = (3.1415926535897967, 2.0004704559539732e-09)\n"
     ]
    }
   ],
   "source": [
    "integral = spi.quad(f, xmin, xmax, epsabs=1e-11)\n",
    "print(f\"{integral = }\")"
   ]
  },
  {
   "cell_type": "code",
   "execution_count": 54,
   "metadata": {},
   "outputs": [
    {
     "name": "stdout",
     "output_type": "stream",
     "text": [
      "root1 = -2.0\n",
      "root2 = -0.8167299587421254\n"
     ]
    }
   ],
   "source": [
    "root1 = spo.bisect(f, xmin, xmax, xtol=1e-7)\n",
    "print(f\"{root1 = }\")\n",
    "\n",
    "root2 = spo.bisect(f, xmin + 1e-8, xmax-1e-8, xtol=1e-7)\n",
    "print(f\"{root2 = }\")"
   ]
  },
  {
   "cell_type": "code",
   "execution_count": 55,
   "metadata": {},
   "outputs": [
    {
     "name": "stdout",
     "output_type": "stream",
     "text": [
      "   direc: array([[1.]])\n",
      "     fun: array(-2.89203746)\n",
      " message: 'Optimization terminated successfully.'\n",
      "    nfev: 30\n",
      "     nit: 2\n",
      "  status: 0\n",
      " success: True\n",
      "       x: array([-1.68436838])\n",
      "x = -1.684368375524615 with value f(x) = -2.8920374561996325\n"
     ]
    },
    {
     "name": "stderr",
     "output_type": "stream",
     "text": [
      "C:\\Users\\Jared\\AppData\\Local\\Temp/ipykernel_17420/4042137501.py:3: RuntimeWarning: invalid value encountered in sqrt\n",
      "  (x**3 * np.cos(x/2) + 1/2) * np.sqrt(4 - x**2)\n"
     ]
    }
   ],
   "source": [
    "minimum = spo.minimize(\n",
    "    f,\n",
    "    x0=0,\n",
    "    method=\"Powell\",\n",
    "    bounds=((xmin, xmax),),\n",
    "    tol=1e-7\n",
    ")\n",
    "print(minimum)\n",
    "print(f\"x = {(minimum.x)[0]} with value f(x) = {minimum.fun}\")"
   ]
  }
 ],
 "metadata": {
  "interpreter": {
   "hash": "8f0aa77b08787691d5ad57eb67530aa0f6a54135b18cc5e5fe8bb43e780afa21"
  },
  "kernelspec": {
   "display_name": "Python 3.8.8 64-bit ('base': conda)",
   "language": "python",
   "name": "python3"
  },
  "language_info": {
   "codemirror_mode": {
    "name": "ipython",
    "version": 3
   },
   "file_extension": ".py",
   "mimetype": "text/x-python",
   "name": "python",
   "nbconvert_exporter": "python",
   "pygments_lexer": "ipython3",
   "version": "3.8.8"
  },
  "orig_nbformat": 4
 },
 "nbformat": 4,
 "nbformat_minor": 2
}
