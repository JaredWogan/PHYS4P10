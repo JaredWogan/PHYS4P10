{
 "cells": [
  {
   "cell_type": "markdown",
   "metadata": {},
   "source": [
    "## Lecture 12 -  Nonlinear equations\n",
    "\n",
    "## Part 1\n",
    "\n",
    "Up until now, we have been able to turn several problems into systems of linear equations. What happens when you are face with something like this?\n",
    "$$x=2-e^{-x}$$\n",
    "These are typically much harder to solve, and there is a lot of things to consider when facing such a problem. The lessons we learn here are applicable to solving many optimization problems, such as data fitting.\n",
    "\n",
    "There are a number of techniques to solve non-linear equations, and this assignment will look at the most basic; the relaxation method, sometimes called the iterative method"
   ]
  },
  {
   "cell_type": "code",
   "execution_count": 1,
   "metadata": {},
   "outputs": [],
   "source": [
    "%matplotlib inline\n",
    "import numpy\n",
    "import scipy.misc\n",
    "import matplotlib.pyplot as pyplot\n",
    "import matplotlib.patches as patches"
   ]
  },
  {
   "cell_type": "markdown",
   "metadata": {},
   "source": [
    "Simple iteration can teach us a lot about how to think computationally. For the above function, let's try an inital quess of the answer $x=1$ and plug it in. Then we get\n",
    "$$x'=2-e^{-1}\\approx1.632$$\n",
    "Then we repeat the process\n",
    "$$x''=2-e^{-1.632}\\approx1.804$$ \n",
    "and so on until we converge to a solution."
   ]
  },
  {
   "cell_type": "code",
   "execution_count": 2,
   "metadata": {},
   "outputs": [
    {
     "name": "stdout",
     "output_type": "stream",
     "text": [
      "Iteration :  0  OLD X : -1.000000  NEW X : -0.718282\n",
      "Iteration :  1  OLD X : -0.718282  NEW X : -0.050906\n",
      "Iteration :  2  OLD X : -0.050906  NEW X : 0.947776\n",
      "Iteration :  3  OLD X : 0.947776  NEW X : 1.612398\n",
      "Iteration :  4  OLD X : 1.612398  NEW X : 1.800591\n",
      "Iteration :  5  OLD X : 1.800591  NEW X : 1.834799\n",
      "Iteration :  6  OLD X : 1.834799  NEW X : 1.840354\n",
      "Iteration :  7  OLD X : 1.840354  NEW X : 1.841239\n",
      "Iteration :  8  OLD X : 1.841239  NEW X : 1.841379\n",
      "Iteration :  9  OLD X : 1.841379  NEW X : 1.841401\n",
      "Iteration : 10  OLD X : 1.841401  NEW X : 1.841405\n",
      "Iteration : 11  OLD X : 1.841405  NEW X : 1.841406\n",
      "Iteration : 12  OLD X : 1.841406  NEW X : 1.841406\n",
      "Iteration : 13  OLD X : 1.841406  NEW X : 1.841406\n",
      "Iteration : 14  OLD X : 1.841406  NEW X : 1.841406\n",
      "Iteration : 15  OLD X : 1.841406  NEW X : 1.841406\n",
      "Iteration : 16  OLD X : 1.841406  NEW X : 1.841406\n",
      "Iteration : 17  OLD X : 1.841406  NEW X : 1.841406\n",
      "Iteration : 18  OLD X : 1.841406  NEW X : 1.841406\n",
      "Iteration : 19  OLD X : 1.841406  NEW X : 1.841406\n",
      "Iteration : 20  OLD X : 1.841406  NEW X : 1.841406\n",
      "Iteration : 21  OLD X : 1.841406  NEW X : 1.841406\n",
      "Iteration : 22  OLD X : 1.841406  NEW X : 1.841406\n",
      "Iteration : 23  OLD X : 1.841406  NEW X : 1.841406\n",
      "Iteration : 24  OLD X : 1.841406  NEW X : 1.841406\n",
      "Iteration : 25  OLD X : 1.841406  NEW X : 1.841406\n",
      "Iteration : 26  OLD X : 1.841406  NEW X : 1.841406\n",
      "Iteration : 27  OLD X : 1.841406  NEW X : 1.841406\n",
      "Iteration : 28  OLD X : 1.841406  NEW X : 1.841406\n",
      "Iteration : 29  OLD X : 1.841406  NEW X : 1.841406\n",
      "Iteration : 30  OLD X : 1.841406  NEW X : 1.841406\n",
      "Iteration : 31  OLD X : 1.841406  NEW X : 1.841406\n",
      "Iteration : 32  OLD X : 1.841406  NEW X : 1.841406\n",
      "Iteration : 33  OLD X : 1.841406  NEW X : 1.841406\n",
      "Iteration : 34  OLD X : 1.841406  NEW X : 1.841406\n",
      "Iteration : 35  OLD X : 1.841406  NEW X : 1.841406\n",
      "Iteration : 36  OLD X : 1.841406  NEW X : 1.841406\n",
      "Iteration : 37  OLD X : 1.841406  NEW X : 1.841406\n",
      "Iteration : 38  OLD X : 1.841406  NEW X : 1.841406\n",
      "Iteration : 39  OLD X : 1.841406  NEW X : 1.841406\n",
      "Iteration : 40  OLD X : 1.841406  NEW X : 1.841406\n",
      "Iteration : 41  OLD X : 1.841406  NEW X : 1.841406\n",
      "Iteration : 42  OLD X : 1.841406  NEW X : 1.841406\n",
      "Iteration : 43  OLD X : 1.841406  NEW X : 1.841406\n",
      "Iteration : 44  OLD X : 1.841406  NEW X : 1.841406\n",
      "Iteration : 45  OLD X : 1.841406  NEW X : 1.841406\n",
      "Iteration : 46  OLD X : 1.841406  NEW X : 1.841406\n",
      "Iteration : 47  OLD X : 1.841406  NEW X : 1.841406\n",
      "Iteration : 48  OLD X : 1.841406  NEW X : 1.841406\n",
      "Iteration : 49  OLD X : 1.841406  NEW X : 1.841406\n",
      "Iteration : 50  OLD X : 1.841406  NEW X : 1.841406\n",
      "Iteration : 51  OLD X : 1.841406  NEW X : 1.841406\n",
      "Iteration : 52  OLD X : 1.841406  NEW X : 1.841406\n",
      "Iteration : 53  OLD X : 1.841406  NEW X : 1.841406\n",
      "Iteration : 54  OLD X : 1.841406  NEW X : 1.841406\n",
      "Iteration : 55  OLD X : 1.841406  NEW X : 1.841406\n",
      "Iteration : 56  OLD X : 1.841406  NEW X : 1.841406\n",
      "Iteration : 57  OLD X : 1.841406  NEW X : 1.841406\n",
      "Iteration : 58  OLD X : 1.841406  NEW X : 1.841406\n",
      "Iteration : 59  OLD X : 1.841406  NEW X : 1.841406\n",
      "Iteration : 60  OLD X : 1.841406  NEW X : 1.841406\n",
      "Iteration : 61  OLD X : 1.841406  NEW X : 1.841406\n",
      "Iteration : 62  OLD X : 1.841406  NEW X : 1.841406\n",
      "Iteration : 63  OLD X : 1.841406  NEW X : 1.841406\n",
      "Iteration : 64  OLD X : 1.841406  NEW X : 1.841406\n",
      "Iteration : 65  OLD X : 1.841406  NEW X : 1.841406\n",
      "Iteration : 66  OLD X : 1.841406  NEW X : 1.841406\n",
      "Iteration : 67  OLD X : 1.841406  NEW X : 1.841406\n",
      "Iteration : 68  OLD X : 1.841406  NEW X : 1.841406\n",
      "Iteration : 69  OLD X : 1.841406  NEW X : 1.841406\n",
      "Iteration : 70  OLD X : 1.841406  NEW X : 1.841406\n",
      "Iteration : 71  OLD X : 1.841406  NEW X : 1.841406\n",
      "Iteration : 72  OLD X : 1.841406  NEW X : 1.841406\n",
      "Iteration : 73  OLD X : 1.841406  NEW X : 1.841406\n",
      "Iteration : 74  OLD X : 1.841406  NEW X : 1.841406\n",
      "Iteration : 75  OLD X : 1.841406  NEW X : 1.841406\n",
      "Iteration : 76  OLD X : 1.841406  NEW X : 1.841406\n",
      "Iteration : 77  OLD X : 1.841406  NEW X : 1.841406\n",
      "Iteration : 78  OLD X : 1.841406  NEW X : 1.841406\n",
      "Iteration : 79  OLD X : 1.841406  NEW X : 1.841406\n",
      "Iteration : 80  OLD X : 1.841406  NEW X : 1.841406\n",
      "Iteration : 81  OLD X : 1.841406  NEW X : 1.841406\n",
      "Iteration : 82  OLD X : 1.841406  NEW X : 1.841406\n",
      "Iteration : 83  OLD X : 1.841406  NEW X : 1.841406\n",
      "Iteration : 84  OLD X : 1.841406  NEW X : 1.841406\n",
      "Iteration : 85  OLD X : 1.841406  NEW X : 1.841406\n",
      "Iteration : 86  OLD X : 1.841406  NEW X : 1.841406\n",
      "Iteration : 87  OLD X : 1.841406  NEW X : 1.841406\n",
      "Iteration : 88  OLD X : 1.841406  NEW X : 1.841406\n",
      "Iteration : 89  OLD X : 1.841406  NEW X : 1.841406\n",
      "Iteration : 90  OLD X : 1.841406  NEW X : 1.841406\n",
      "Iteration : 91  OLD X : 1.841406  NEW X : 1.841406\n",
      "Iteration : 92  OLD X : 1.841406  NEW X : 1.841406\n",
      "Iteration : 93  OLD X : 1.841406  NEW X : 1.841406\n",
      "Iteration : 94  OLD X : 1.841406  NEW X : 1.841406\n",
      "Iteration : 95  OLD X : 1.841406  NEW X : 1.841406\n",
      "Iteration : 96  OLD X : 1.841406  NEW X : 1.841406\n",
      "Iteration : 97  OLD X : 1.841406  NEW X : 1.841406\n",
      "Iteration : 98  OLD X : 1.841406  NEW X : 1.841406\n",
      "Iteration : 99  OLD X : 1.841406  NEW X : 1.841406\n",
      "END X : 1.841406\n"
     ]
    }
   ],
   "source": [
    "# -- Try different starting points if you want!\n",
    "x=-1\n",
    "# -- How do we stop the iterative process?\n",
    "# -- For now, lets just run 100 times to see if it does converge.\n",
    "for i in range(100):\n",
    "    xp = 2.0-numpy.exp(-1.*x)\n",
    "    print(f\"Iteration : {i:2d}  OLD X : {x:8.6f}  NEW X : {xp:8.6f}\")\n",
    "    x = xp\n",
    "\n",
    "print(f\"END X : {x:8.6f}\")"
   ]
  },
  {
   "cell_type": "markdown",
   "metadata": {},
   "source": [
    "Clearly it converges quite early, and 100 steps was unecessary.\n",
    "\n",
    "#### Example 2\n",
    "\n",
    "- Use `numpy.isclose` to compare variables `x` and `xp` and add a stopping test to the loop above. Stop when the absolute tolerance is within `1E-8` and the relative tolerance is 0.\n",
    "\n",
    "- Try different starting values in  the range of $\\pm10$. (Sicne the solution is around $1.84$, let's not go crazy with our guesses.)  Can you find any range of initia values that do not converge?"
   ]
  },
  {
   "cell_type": "code",
   "execution_count": 3,
   "metadata": {},
   "outputs": [
    {
     "name": "stdout",
     "output_type": "stream",
     "text": [
      "Starting with x = -2.0\n",
      "Iteration :   0  OLD X :       -2  NEW X : -5.38906\n",
      "Iteration :   1  OLD X : -5.38906  NEW X : -216.997\n",
      "Iteration :   2  OLD X : -216.997  NEW X : -1.73947e+94\n",
      "Iteration :   3  OLD X : -1.73947e+94  NEW X :     -inf\n",
      "Iteration :   4  OLD X :     -inf  NEW X :     -inf\n",
      "END X :     -inf\n"
     ]
    },
    {
     "name": "stderr",
     "output_type": "stream",
     "text": [
      "<ipython-input-3-e4b37ddccc6f>:6: RuntimeWarning: overflow encountered in exp\n",
      "  xp = 2.0-numpy.exp(-1.*x)\n"
     ]
    }
   ],
   "source": [
    "# By putting the method into a function, I can re-use\n",
    "# it with different starting guesses.\n",
    "# -----------------\n",
    "def relaxation(x):\n",
    "    for i in range(20):\n",
    "        xp = 2.0-numpy.exp(-1.*x)\n",
    "        print(f\"Iteration : {i:3d}  OLD X : {x:8.6g}  NEW X : {xp:8.6g}\")\n",
    "        if (numpy.isclose(x,xp,atol=1.E-12,rtol=0.)) :\n",
    "            break\n",
    "        else :\n",
    "            x  = xp\n",
    "    print(f\"END X : {x:8.6g}\")\n",
    "    return\n",
    "# -----------------\n",
    "\n",
    "x=-2.0\n",
    "print(f\"Starting with x = {x}\")\n",
    "relaxation(x)"
   ]
  },
  {
   "cell_type": "markdown",
   "metadata": {},
   "source": [
    "We find that starting values less than $-2$ tend not to converge. Why could that be?\n",
    "\n",
    "The types of problems we are facing here are of the form \n",
    "$$x=f(x)$$\n",
    "where $f(x)$ is some known function. Thus we are looking for the point where the line $y=x$ and the curve $y=f(x)$ intersect.\n",
    "\n",
    "Even if you don't think you have this type of equation, for example like this;\n",
    "$$\\log{x}+x^2-1=0,$$\n",
    "we can rearrange until we get\n",
    "$$x=e^{1-x^2}$$\n",
    "\n",
    "What if there is more than one solution? Then an iteration method will converge to one solution and not another. How do you test for additional solutions? You have to repeat the process, choosing a starting point near each expected solution. But that means having a good idea of the solutions in the first place.\n",
    "\n",
    "Can this method fail?\n",
    "\n",
    "#### Example  3\n",
    "\n",
    "There are two solutions to $x=2-e^{-x}$. Find the second one."
   ]
  },
  {
   "cell_type": "code",
   "execution_count": 4,
   "metadata": {},
   "outputs": [
    {
     "data": {
      "image/png": "[encoded data removed]",
      "text/plain": [
       "<Figure size 648x432 with 1 Axes>"
      ]
     },
     "metadata": {
      "needs_background": "light"
     },
     "output_type": "display_data"
    }
   ],
   "source": [
    "def f(x) : \n",
    "    return 2.0-numpy.exp(-1.*x)\n",
    "\n",
    "x = numpy.linspace(-3,10,101)\n",
    "y = f(x)\n",
    "\n",
    "pyplot.figure(figsize=(9,6))\n",
    "pyplot.plot(x,x,\"r--\")\n",
    "pyplot.plot(x,y,\"b-\")\n",
    "pyplot.plot(1.84141,1.84141,\"go\")\n",
    "pyplot.plot(-1.1461931,-1.1461931,\"go\")\n",
    "pyplot.show()\n",
    "pyplot.close(\"all\")"
   ]
  },
  {
   "cell_type": "code",
   "execution_count": 5,
   "metadata": {},
   "outputs": [
    {
     "name": "stdout",
     "output_type": "stream",
     "text": [
      "Test : 1.841 = 1.8413413\n",
      "Relaxation method starting at 1.841 converges to : -1.146193\n"
     ]
    }
   ],
   "source": [
    "def relaxation(x):\n",
    "    for i in range(20):\n",
    "        xp = -1.*numpy.log(2-x)\n",
    "        #xp = 2-numpy.exp(-x)\n",
    "        #print(f\"Iteration : {i:3d}  OLD X : {x:8.6g}  NEW X : {xp:8.6g}\")\n",
    "        if (numpy.isclose(x,xp,atol=1.E-12,rtol=0.)) :\n",
    "            break\n",
    "        else :\n",
    "            x  = xp\n",
    "    #print(f\"END X : {x:8.6g}\")\n",
    "    return x\n",
    "# -----------------\n",
    "x = 1.841\n",
    "print(f\"Test : {x} = {2-numpy.exp(-x):8.7f}\")\n",
    "print(f\"Relaxation method starting at {x} converges to : {relaxation(x):8.6f}\")"
   ]
  },
  {
   "cell_type": "markdown",
   "metadata": {},
   "source": [
    "Even if we start right next to the second solution, it will not find it.\n",
    "\n",
    "#### Example 4\n",
    "\n",
    "Solve for the other $x$ and try again. Start near the first solution at $x=1.84$."
   ]
  },
  {
   "cell_type": "code",
   "execution_count": 6,
   "metadata": {},
   "outputs": [
    {
     "name": "stdout",
     "output_type": "stream",
     "text": [
      "Test : 1.8414 = 1.841370\n",
      "Relaxation method starting at 1.841400 converges to : -1.146192\n"
     ]
    }
   ],
   "source": [
    "def relaxation(x):\n",
    "    for i in range(20):\n",
    "        xp = -numpy.log(2.-x)\n",
    "        #print(f\"Iteration : {i:3d}  OLD X : {x:8.6g}  NEW X : {xp:8.6g}\")\n",
    "        if (numpy.isclose(x,xp,atol=1.E-12,rtol=0.)) :\n",
    "            break\n",
    "        else :\n",
    "            x  = xp\n",
    "    #print(f\"END X : {x:8.8g}\")\n",
    "    return x\n",
    "# -----------------\n",
    "x = 1.8414\n",
    "print(f\"Test : {x} = {-numpy.log(2.-x):8.6f}\")\n",
    "print(f\"Relaxation method starting at {x:8.6f} converges to : {relaxation(x):8.6f}\")"
   ]
  },
  {
   "cell_type": "markdown",
   "metadata": {},
   "source": [
    "Why did that work? Take a Taylor series expansion of the the equation $x=f(x)$ near the true solution $x=a$, and think about what happens close to that point. The condition for convergence is \n",
    "$$\\left| f'(a)\\right|<1$$ and if that doesn't work for one form of the equation, then inverting the equation funcationally will usually work."
   ]
  },
  {
   "cell_type": "code",
   "execution_count": 7,
   "metadata": {},
   "outputs": [],
   "source": [
    "from __future__ import division # I don't know why this has to be done.\n",
    "from sympy import *\n",
    "x, x0 = symbols('x x0')    # x is not a typical variable anymore; it is a symbol for sympy.\n",
    "a = symbols('a', integer=False) # a will be the symbol for the solution point\n",
    "from IPython.display import display, Math # This allows sympy to display the results in latex format"
   ]
  },
  {
   "cell_type": "code",
   "execution_count": 8,
   "metadata": {},
   "outputs": [
    {
     "data": {
      "text/latex": [
       "$\\displaystyle f(x)=$"
      ],
      "text/plain": [
       "<IPython.core.display.Math object>"
      ]
     },
     "metadata": {},
     "output_type": "display_data"
    },
    {
     "data": {
      "text/latex": [
       "$\\displaystyle f{\\left(a \\right)} + \\left(- a + x\\right) \\left. \\frac{d}{d \\xi_{1}} f{\\left(\\xi_{1} \\right)} \\right|_{\\substack{ \\xi_{1}=a }} + \\frac{\\left(- a + x\\right)^{2} \\left. \\frac{d^{2}}{d \\xi_{1}^{2}} f{\\left(\\xi_{1} \\right)} \\right|_{\\substack{ \\xi_{1}=a }}}{2} + \\frac{\\left(- a + x\\right)^{3} \\left. \\frac{d^{3}}{d \\xi_{1}^{3}} f{\\left(\\xi_{1} \\right)} \\right|_{\\substack{ \\xi_{1}=a }}}{6} + O\\left(\\left(- a + x\\right)^{4}; x\\rightarrow a\\right)$"
      ],
      "text/plain": [
       "f(a) + (-a + x)*Subs(Derivative(f(_xi_1), _xi_1), _xi_1, a) + (-a + x)**2*Subs(Derivative(f(_xi_1), (_xi_1, 2)), _xi_1, a)/2 + (-a + x)**3*Subs(Derivative(f(_xi_1), (_xi_1, 3)), _xi_1, a)/6 + O((-a + x)**4, (x, a))"
      ]
     },
     "execution_count": 8,
     "metadata": {},
     "output_type": "execute_result"
    }
   ],
   "source": [
    "#General Taylor series expansion of f(x) near a\n",
    "f = Function(\"f\")\n",
    "display(Math(r\"$f(x)=$\"))\n",
    "f(x).series(x, x0=a, n=4)"
   ]
  },
  {
   "cell_type": "code",
   "execution_count": 9,
   "metadata": {},
   "outputs": [
    {
     "data": {
      "text/latex": [
       "$\\displaystyle f(x)=$"
      ],
      "text/plain": [
       "<IPython.core.display.Math object>"
      ]
     },
     "metadata": {},
     "output_type": "display_data"
    },
    {
     "data": {
      "text/latex": [
       "$\\displaystyle \\frac{\\left(- a + x\\right)^{3} e^{- a}}{6} - \\frac{\\left(- a + x\\right)^{2} e^{- a}}{2} + \\left(- a + x\\right) e^{- a} + 2 - e^{- a}$"
      ],
      "text/plain": [
       "(-a + x)**3*exp(-a)/6 - (-a + x)**2*exp(-a)/2 + (-a + x)*exp(-a) + 2 - exp(-a)"
      ]
     },
     "execution_count": 9,
     "metadata": {},
     "output_type": "execute_result"
    }
   ],
   "source": [
    "#Taylor series expansion of 2-e^(-x)\n",
    "expression = 2-exp(-x)\n",
    "display(Math(r\"$f(x)=$\"))\n",
    "result = expression.series(x,x0=a,n=4).removeO()\n",
    "result"
   ]
  },
  {
   "cell_type": "code",
   "execution_count": 10,
   "metadata": {},
   "outputs": [
    {
     "name": "stdout",
     "output_type": "stream",
     "text": [
      "Convergence condition for first, positive root: 0.15859365133439846\n",
      "Convergence condition for second, negative root: 3.1461830879422563\n"
     ]
    }
   ],
   "source": [
    "print(f\"Convergence condition for first, positive root: {numpy.abs(numpy.exp(-1.84141))}\")\n",
    "print(f\"Convergence condition for second, negative root: {numpy.abs(numpy.exp(-(-1.14619)))}\")"
   ]
  },
  {
   "cell_type": "code",
   "execution_count": 11,
   "metadata": {},
   "outputs": [
    {
     "data": {
      "text/latex": [
       "$\\displaystyle f(x)=$"
      ],
      "text/plain": [
       "<IPython.core.display.Math object>"
      ]
     },
     "metadata": {},
     "output_type": "display_data"
    },
    {
     "data": {
      "text/latex": [
       "$\\displaystyle - \\frac{\\left(- a + x\\right)^{3}}{3 \\left(a - 2\\right)^{3}} + \\frac{\\left(- a + x\\right)^{2}}{2 \\left(a - 2\\right)^{2}} - \\frac{- a + x}{a - 2} - \\log{\\left(2 - a \\right)}$"
      ],
      "text/plain": [
       "-(-a + x)**3/(3*(a - 2)**3) + (-a + x)**2/(2*(a - 2)**2) - (-a + x)/(a - 2) - log(2 - a)"
      ]
     },
     "execution_count": 11,
     "metadata": {},
     "output_type": "execute_result"
    }
   ],
   "source": [
    "#Taylor series expansion of -ln(2-x)\n",
    "expression = -log(2-x)\n",
    "display(Math(r\"$f(x)=$\"))\n",
    "result = expression.series(x,x0=a,n=4).removeO()\n",
    "result"
   ]
  },
  {
   "cell_type": "code",
   "execution_count": 12,
   "metadata": {},
   "outputs": [
    {
     "name": "stdout",
     "output_type": "stream",
     "text": [
      "Convergence condition for first, positive root: 6.305170239596466\n",
      "Convergence condition for second, negative root: 0.3178447582631691\n"
     ]
    }
   ],
   "source": [
    "print(f\"Convergence condition for first, positive root: {numpy.abs(1/(1.8414-2))}\")\n",
    "print(f\"Convergence condition for second, negative root: {numpy.abs(1/(-1.14619-2))}\")"
   ]
  },
  {
   "cell_type": "markdown",
   "metadata": {},
   "source": [
    "#### Example 5\n",
    "\n",
    "But what about non-invertable equations, like this?\n",
    "$$x=x^2+\\sin{2x}$$\n",
    "(Yes, one solution is 0, but can we find it?)"
   ]
  },
  {
   "cell_type": "code",
   "execution_count": 13,
   "metadata": {},
   "outputs": [
    {
     "name": "stdout",
     "output_type": "stream",
     "text": [
      "Iteration :   0  OLD X :     -0.9  NEW X : -0.163848\n",
      "Iteration :   1  OLD X : -0.163848  NEW X : -0.295016\n",
      "Iteration :   2  OLD X : -0.295016  NEW X : -0.469353\n",
      "Iteration :   3  OLD X : -0.469353  NEW X : -0.586502\n",
      "Iteration :   4  OLD X : -0.586502  NEW X : -0.577934\n",
      "Iteration :   5  OLD X : -0.577934  NEW X : -0.581138\n",
      "Iteration :   6  OLD X : -0.581138  NEW X : -0.579988\n",
      "Iteration :   7  OLD X : -0.579988  NEW X : -0.580407\n",
      "Iteration :   8  OLD X : -0.580407  NEW X : -0.580255\n",
      "Iteration :   9  OLD X : -0.580255  NEW X : -0.580311\n",
      "Iteration :  10  OLD X : -0.580311  NEW X : -0.580291\n",
      "Iteration :  11  OLD X : -0.580291  NEW X : -0.580298\n",
      "Iteration :  12  OLD X : -0.580298  NEW X : -0.580295\n",
      "Iteration :  13  OLD X : -0.580295  NEW X : -0.580296\n",
      "Iteration :  14  OLD X : -0.580296  NEW X : -0.580296\n",
      "Iteration :  15  OLD X : -0.580296  NEW X : -0.580296\n",
      "Iteration :  16  OLD X : -0.580296  NEW X : -0.580296\n",
      "Iteration :  17  OLD X : -0.580296  NEW X : -0.580296\n",
      "Iteration :  18  OLD X : -0.580296  NEW X : -0.580296\n",
      "Iteration :  19  OLD X : -0.580296  NEW X : -0.580296\n",
      "Iteration :  20  OLD X : -0.580296  NEW X : -0.580296\n",
      "Iteration :  21  OLD X : -0.580296  NEW X : -0.580296\n",
      "Iteration :  22  OLD X : -0.580296  NEW X : -0.580296\n",
      "Iteration :  23  OLD X : -0.580296  NEW X : -0.580296\n",
      "Iteration :  24  OLD X : -0.580296  NEW X : -0.580296\n",
      "Iteration :  25  OLD X : -0.580296  NEW X : -0.580296\n",
      "Iteration :  26  OLD X : -0.580296  NEW X : -0.580296\n",
      "Iteration :  27  OLD X : -0.580296  NEW X : -0.580296\n",
      "END X : -0.580296\n"
     ]
    }
   ],
   "source": [
    "x = -0.9\n",
    "\n",
    "for i in range(100):\n",
    "    xp = x**2+numpy.sin(2.*x)\n",
    "    print(f\"Iteration : {i:3d}  OLD X : {x:8.6}  NEW X : {xp:8.6}\")\n",
    "    if (numpy.isclose(x,xp,atol=1.E-12,rtol=0.)) :\n",
    "        break\n",
    "    elif (xp>1E4) :\n",
    "        print(\"TOO BIG! FAILED!\")\n",
    "        break\n",
    "    else :\n",
    "        x  = xp\n",
    "\n",
    "print(f\"END X : {x:8.6}\")"
   ]
  },
  {
   "cell_type": "markdown",
   "metadata": {},
   "source": [
    "----\n",
    "\n",
    "What is the correct method when deciding to stop the iteration method based on some tolerance of convergence? The uncertainty of the error estimate is given by \n",
    "$$\\epsilon'\\approx\\frac{x-x'}{1-1/f'(x)}$$\n",
    "Let's use this to stop the iteration, although it requires knowing $f'(x)$"
   ]
  },
  {
   "cell_type": "code",
   "execution_count": 14,
   "metadata": {},
   "outputs": [
    {
     "name": "stdout",
     "output_type": "stream",
     "text": [
      "Iteration :   0  NEW X : 1.2591817793  ERROR : 0.38\n",
      "Iteration :   1  NEW X : 1.7161137869  ERROR :  0.1\n",
      "Iteration :   2  NEW X : 1.8202366089  ERROR : 0.0201\n",
      "Iteration :   3  NEW X : 1.8380125813  ERROR : 0.00336\n",
      "Iteration :   4  NEW X : 1.8408666233  ERROR : 0.000538\n",
      "Iteration :   5  NEW X : 1.8413201492  ERROR : 8.55E-05\n",
      "Iteration :   6  NEW X : 1.8413920983  ERROR : 1.36E-05\n",
      "Iteration :   7  NEW X : 1.8414035095  ERROR : 2.15E-06\n",
      "Iteration :   8  NEW X : 1.8414053193  ERROR : 3.41E-07\n",
      "Iteration :   9  NEW X : 1.8414056063  ERROR : 5.41E-08\n",
      "Iteration :  10  NEW X : 1.8414056519  ERROR : 8.58E-09\n",
      "Iteration :  11  NEW X : 1.8414056591  ERROR : 1.36E-09\n",
      "Iteration :  12  NEW X : 1.8414056602  ERROR : 2.16E-10\n",
      "END X : 1.8414056591 ERROR : 2.16E-10\n"
     ]
    }
   ],
   "source": [
    "# --- Let's use the error estimate to stop the iteration process.\n",
    "# --- We will still keep a for loop of 100 iterations just in cast the solution does not converge.\n",
    "\n",
    "# --- This is the function on the right hand side of x=f(x)\n",
    "def f(x) :\n",
    "    return 2.0-numpy.exp(-1.*x)\n",
    "\n",
    "# --- This is the derivative of f(x)\n",
    "def fp(x) :\n",
    "    return numpy.exp(-1.*x)\n",
    "\n",
    "x = 0.3\n",
    "\n",
    "# --- Here is the relaxation loop.\n",
    "for i in range(100):\n",
    "    xp = f(x)\n",
    "    eps = (x-xp)/(1.-(1./fp(xp)))\n",
    "    # --- I am going to print out the value of eps as calculated...\n",
    "    print(f\"Iteration : {i:3d}  NEW X : {xp:1.10f}  ERROR : {numpy.abs(eps):4.3G}\")\n",
    "    # --- ...but I am going to use its absolute value is small enough for stopping.\n",
    "    if (numpy.abs(eps)<1E-9) :\n",
    "        break\n",
    "    else :\n",
    "        x  = xp\n",
    "\n",
    "print(\"END X : {0:1.10f} ERROR : {1:4.3G}\".format(x,numpy.abs(eps)))"
   ]
  },
  {
   "cell_type": "markdown",
   "metadata": {},
   "source": [
    "If you don't want to take derivatives (it takes too long, to unstable, etc.) Then you can keep track of three consecutive estimates of $x$ to calculate\n",
    "$$\\epsilon''\\approx\\frac{(x'-x'')^2}{2x'-x-x''}$$\n",
    "\n",
    "#### Example 6\n",
    "\n",
    "Modify the relaxation method code from Example 5 to keep track of three consectuive esitmations of `x`. You should be able to do it by adding about two lines, adding a third variable `xpp`, and changing the definition of `eps`"
   ]
  },
  {
   "cell_type": "code",
   "execution_count": 15,
   "metadata": {},
   "outputs": [
    {
     "name": "stdout",
     "output_type": "stream",
     "text": [
      "Iteration :   0  NEW X : 1.2591817793 ERROR : 0.416\n",
      "Iteration :   1  NEW X : 1.7161137869 ERROR : 0.0307\n",
      "Iteration :   2  NEW X : 1.8202366089 ERROR : 0.00366\n",
      "Iteration :   3  NEW X : 1.8380125813 ERROR : 0.000546\n",
      "Iteration :   4  NEW X : 1.8408666233 ERROR : 8.57E-05\n",
      "Iteration :   5  NEW X : 1.8413201492 ERROR : 1.36E-05\n",
      "Iteration :   6  NEW X : 1.8413920983 ERROR : 2.15E-06\n",
      "Iteration :   7  NEW X : 1.8414035095 ERROR : 3.41E-07\n",
      "Iteration :   8  NEW X : 1.8414053193 ERROR : 5.41E-08\n",
      "Iteration :   9  NEW X : 1.8414056063 ERROR : 8.58E-09\n",
      "Iteration :  10  NEW X : 1.8414056519 ERROR : 1.36E-09\n",
      "Iteration :  11  NEW X : 1.8414056591 ERROR : 2.16E-10\n",
      "END X : 1.8414056602 ERROR : 2.16E-10\n"
     ]
    }
   ],
   "source": [
    "def f(x) :\n",
    "    return 2.0-numpy.exp(-1.*x)\n",
    "\n",
    "x  = 0.3   # Initial guess, iteration 0\n",
    "xp = f(x)  # First iteration\n",
    "\n",
    "for i in range(100):\n",
    "    xpp = f(xp)\n",
    "    eps = (xp-xpp)**2/(2.*xp-x-xpp)\n",
    "    print(f\"Iteration : {i:3d}  NEW X : {xp:1.10f} ERROR : {numpy.abs(eps):1.3G}\")\n",
    "    if (numpy.abs(eps)<1E-9) :\n",
    "        break\n",
    "    else :\n",
    "        x  = xp   # The previous iteration becomes the iteration two-times ago.\n",
    "        xp = xpp  # The new iteration becomes the previous iteraion.\n",
    "\n",
    "print(\"END X : {0:1.10f} ERROR : {1:4.3G}\".format(xpp,numpy.abs(eps)))"
   ]
  },
  {
   "cell_type": "markdown",
   "metadata": {},
   "source": [
    "#### Example 7 \n",
    "In the mean field theory of ferromagetism, the strength $M$ of magnetization of a ferromagnetic material like iron depends on the temperature $T$ according to \n",
    "$$M=\\mu \\tanh \\frac{JM}{k_BT}$$ \n",
    "where $\\mu$ is a magentic moment, $J$ is a coupling constant, and $k_B$ is Boltzman's constant. See: [Ising model.][1]\n",
    "\n",
    "\n",
    "Substitute $m=M/\\mu$, and $C=\\mu J/k_B$. What is the error in the estimate of $m$? Let $C=1$ (for simplicity) and look for solutions to within $\\pm10^{-6}$ as a function of $T$.\n",
    "\n",
    "[1]: https://en.wikipedia.org/wiki/Ising_model"
   ]
  },
  {
   "cell_type": "code",
   "execution_count": 16,
   "metadata": {},
   "outputs": [
    {
     "data": {
      "image/png": "[encoded data removed]",
      "text/plain": [
       "<Figure size 648x432 with 1 Axes>"
      ]
     },
     "metadata": {
      "needs_background": "light"
     },
     "output_type": "display_data"
    }
   ],
   "source": [
    "Tmax     = 2.0\n",
    "N        = 1001\n",
    "accuracy = 1e-6\n",
    "\n",
    "mag = []\n",
    "temp = numpy.linspace(0.01,Tmax,N)\n",
    "\n",
    "for T in temp :\n",
    "    # ----\n",
    "    m1 = 1.0\n",
    "    error = 1.0\n",
    "    # ----\n",
    "    while error>accuracy :\n",
    "        m2 = numpy.tanh(m1/T)\n",
    "        error = numpy.abs((m1-m2)/(1.-T*numpy.cosh(m2/T)**2))\n",
    "        m1 = m2\n",
    "    # ----\n",
    "    mag.append(m1)\n",
    "# ---------------------  \n",
    "\n",
    "pyplot.figure(figsize=(9,6))\n",
    "pyplot.tick_params(axis='both', which='major', labelsize=16, labelcolor=\"black\", width=2)\n",
    "pyplot.ylabel(\"Magnetization\", fontsize=20)\n",
    "pyplot.xlabel(\"Temeprature\", fontsize=20)\n",
    "pyplot.plot(temp,mag,'r-',linewidth=3)\n",
    "pyplot.grid(True,linewidth=1.5,axis=\"both\")\n",
    "pyplot.show()\n",
    "pyplot.close()"
   ]
  },
  {
   "cell_type": "markdown",
   "metadata": {},
   "source": [
    "#### Overrelaxation\n",
    "\n",
    "We can speed up convergence if we can take a begger steps than $f'(x^*)$. Consider \n",
    "$$x'=(1-\\alpha)f(x)-\\alpha x$$\n",
    "If $\\alpha=0$, then we have normal relaxation. If $\\alpha>0$, then we are taking larger steps towards the solution. \n",
    "\n",
    "We also have\n",
    "$$\\epsilon' \\approx \\frac{x-x'}{1-1/\\left[(1+\\alpha)f'(x)-\\alpha\\right]}$$"
   ]
  },
  {
   "cell_type": "code",
   "execution_count": null,
   "metadata": {},
   "outputs": [],
   "source": []
  }
 ],
 "metadata": {
  "interpreter": {
   "hash": "8f0aa77b08787691d5ad57eb67530aa0f6a54135b18cc5e5fe8bb43e780afa21"
  },
  "kernelspec": {
   "display_name": "Python 3.8.8 64-bit ('base': conda)",
   "name": "python3"
  },
  "language_info": {
   "codemirror_mode": {
    "name": "ipython",
    "version": 3
   },
   "file_extension": ".py",
   "mimetype": "text/x-python",
   "name": "python",
   "nbconvert_exporter": "python",
   "pygments_lexer": "ipython3",
   "version": "3.8.8"
  }
 },
 "nbformat": 4,
 "nbformat_minor": 2
}
