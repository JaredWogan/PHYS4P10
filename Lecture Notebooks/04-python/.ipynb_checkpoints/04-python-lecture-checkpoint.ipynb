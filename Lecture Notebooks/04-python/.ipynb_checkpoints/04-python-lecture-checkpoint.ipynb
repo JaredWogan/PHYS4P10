{
 "cells": [
  {
   "cell_type": "markdown",
   "metadata": {},
   "source": [
    "# Lecture 04 - Python\n",
    "\n",
    "In this lecture we will introduce [NumPy][1]\n",
    "\n",
    "This page is left blank. We will do many examples in lecture.\n",
    "\n",
    "[1]: https://numpy.org/"
   ]
  },
  {
   "cell_type": "code",
   "execution_count": null,
   "metadata": {},
   "outputs": [],
   "source": []
  }
 ],
 "metadata": {
  "kernelspec": {
   "display_name": "Python 3",
   "language": "python",
   "name": "python3"
  },
  "language_info": {
   "codemirror_mode": {
    "name": "ipython",
    "version": 3
   },
   "file_extension": ".py",
   "mimetype": "text/x-python",
   "name": "python",
   "nbconvert_exporter": "python",
   "pygments_lexer": "ipython3",
   "version": "3.8.8"
  }
 },
 "nbformat": 4,
 "nbformat_minor": 4
}