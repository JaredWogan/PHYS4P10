{
 "cells": [
  {
   "cell_type": "markdown",
   "metadata": {},
   "source": [
    "# Lecture 01 - Computation"
   ]
  },
  {
   "cell_type": "markdown",
   "metadata": {},
   "source": [
    "#### Computational Physics\n",
    "\n",
    "> Computational physics is the study and implementation of numerical analysis to solve problems in physics for which a quantitative theory already exists. It is sometimes regarded as a subdiscipline (or offshoot) of theoretical physics, but others consider it an intermediate branch between theoretical and experimental physics, a third way that supplements theory and experiment.\n",
    "\n",
    "[Wikipedia entry on \"Computational physics\"][wikipedia]\n",
    "\n",
    "[wikipedia]: https://en.wikipedia.org/wiki/Computational_physics\n",
    "\n",
    "> Most problem solving in science and engineering uses scientific computing. A scientist might devise a system of differential equations to model a physical system, then use a computer to calculate their solutions. An engineer might develop a formula to predict cost as a function of several variables, then use a computer to find the combination of variables that minimizes that cost. A scientist or engineer needs to know science or engineering to make the models. He or she needs the principles of scientific computing to find out what the models predict.\n",
    "\n",
    "> Scientific computing is challenging partly because it draws on many parts of mathematics and computer science. Beyond this knowledge, it also takes discipline and practice. A problem-solving code is built and tested procedure by procedure. Algorithms and program design are chosen based on considerations of accuracy, stability, robustness, and performance. Modern software development tools include programming environments and debuggers, visualization, profiling, and performance tools, and high-quality libraries. The training, as opposed to just teaching, is in integrating all the knowledge and the tools and the habits to create high quality computing software “solutions.”\n",
    "\n",
    "Principles of Scientific Computing, by David Bindel and Jonathan Goodman"
   ]
  },
  {
   "cell_type": "markdown",
   "metadata": {},
   "source": [
    "#### Programming languages\n",
    "\n",
    "> A programming language is a formal language, which comprises a set of instructions that produce various kinds of output. Programming languages are used in computer programming to implement algorithms.\n",
    "\n",
    "> Thousands of different programming languages have been created, and more are being created every year. Many programming languages are written in an imperative form (i.e., as a sequence of operations to perform) while other languages use the declarative form (i.e. the desired result is specified, not how to achieve it).\n",
    "\n",
    "[Wikipedia entry on \"Programming language\"][wp-programing-language]\n",
    "\n",
    "[wp-programing-language]: https://en.wikipedia.org/wiki/Programming_language\n",
    "\n",
    "#### Computer logic\n",
    "> A logic gate is an idealized model of computation or physical electronic device implementing a **Boolean function**, a **logical operation** performed on one or more **binary inputs** that produces a **single binary output**. \n",
    "\n",
    "> Logic gates are primarily implemented using diodes or transistors acting as electronic switches, but can also be constructed using vacuum tubes, electromagnetic relays (relay logic), fluidic logic, pneumatic logic, optics, molecules, or even mechanical elements. With amplification, logic gates can be cascaded in the same way that Boolean functions can be composed, allowing the construction of a physical model of all of Boolean logic, and therefore, **all of the algorithms and mathematics that can be described with Boolean logic.**\n",
    "\n",
    "[Wikipedia entry on \"Logic gate\"][wp-logic-gate]\n",
    "\n",
    "[wp-logic-gate]: https://en.wikipedia.org/wiki/Logic_gate\n",
    "\n",
    "These two recent videos are an excellent introduction to computer logic.\n",
    "\n",
    "[\"Exploring How Computers Work\" on YouTube][yt-computers_00]\n",
    "\n",
    "[\"How Do Computers Remember?\" on YouTube][yt-computers_01]\n",
    "\n",
    "[yt-computers_00]: https://youtu.be/QZwneRb-zqA\n",
    "[yt-computers_01]: https://youtu.be/I0-izyq6q5s\n",
    "\n",
    "#### Machine code\n",
    "\n",
    "> Machine code is a computer program written in machine language instructions that can be executed directly by a computer's central processing unit (CPU). Each instruction causes the CPU to perform a very specific task, such as a load, a store, a jump, or an ALU operation on one or more units of data in CPU registers or memory.\n",
    "\n",
    "[Wikipedia entry on \"Machine code\"][wp-machine-code]\n",
    "\n",
    "[wp-machine-code]: https://en.wikipedia.org/wiki/Machine_code\n",
    "\n",
    "<img src=\"images/mc02.png\" width=\"800\">\n",
    "\n",
    "#### Assembly language\n",
    "\n",
    "> In computer programming, assembly language (or assembler language) is any low-level programming language in which there is a very strong correspondence between the instructions in the language and the architecture's machine code instructions. Because assembly depends on the machine code instructions, every assembler has its own assembly language which is designed for exactly one specific computer architecture.\n",
    "\n",
    "[Wikipedia entry on \"Assembly language\"][wp-assembly-language]\n",
    "\n",
    "[wp-assembly-language]: https://en.wikipedia.org/wiki/Assembly_language\n",
    "\n",
    "#### Compiled languages\n",
    "\n",
    "> A compiled language is a programming language whose implementations are typically compilers (translators that generate machine code from source code), and not interpreters (step-by-step executors of source code, where no pre-runtime translation takes place).\n",
    "\n",
    "[Wikipedia entry on \"Compiled language\"][wp-compiled-language]\n",
    "\n",
    "[wp-compiled-language]: https://en.wikipedia.org/wiki/Compiled_language\n",
    "\n",
    "> A low-level programming language is a programming language that provides little or no abstraction from a computer's instruction set architecture—commands or functions in the language map closely to processor instructions. Generally, this refers to either machine code or assembly language. The word \"low\" refers to the small or nonexistent amount of abstraction between the language and machine language; because of this, low-level languages are sometimes described as being \"close to the hardware\". Programs written in low-level languages tend to be relatively non-portable.\n",
    "\n",
    "[Wikipedia entry on \"Low-level programming language\"][wp-low-level-programming-language]\n",
    "\n",
    "[wp-low-level-programming-language]: https://en.wikipedia.org/wiki/Low-level_programming_language\n",
    "\n",
    "> In computer science, a high-level programming language is a programming language with strong abstraction from the details of the computer. In contrast to low-level programming languages, it may use natural language elements, be easier to use, or may automate (or even hide entirely) significant areas of computing systems (e.g. memory management), making the process of developing a program simpler and more understandable than when using a lower-level language. The amount of abstraction provided defines how \"high-level\" a programming language is.\n",
    "\n",
    "[Wikipedia entry on \"High-level programming language\"][wp-high-level-programming-language]\n",
    "\n",
    "[wp-high-level-programming-language]: https://en.wikipedia.org/wiki/High-level_programming_language\n"
   ]
  },
  {
   "cell_type": "code",
   "execution_count": null,
   "metadata": {},
   "outputs": [],
   "source": [
    "%%bash\n",
    "# THIS WILL ONLY WORK ON A LINUX COMPUTER\n",
    "echo \"\n",
    "#include <stdio.h>\n",
    "int main()\n",
    "{\n",
    "   // printf() displays the string inside quotation\n",
    "   printf(\\\"Hello, World!\\\");\n",
    "   return 0;\n",
    "}\n",
    "\" > hello.c\n",
    "gcc -Og -c hello.c\n",
    "objdump -d hello.o"
   ]
  },
  {
   "cell_type": "code",
   "execution_count": null,
   "metadata": {},
   "outputs": [],
   "source": [
    "%%bash\n",
    "gcc -o my_program hello.o\n",
    "objdump -d my_program"
   ]
  },
  {
   "cell_type": "code",
   "execution_count": null,
   "metadata": {},
   "outputs": [],
   "source": [
    "%%bash\n",
    "./my_program"
   ]
  },
  {
   "cell_type": "code",
   "execution_count": null,
   "metadata": {},
   "outputs": [],
   "source": [
    "%%bash\n",
    "echo \"\n",
    "#include <stdio.h>\n",
    "#include <math.h>\n",
    "int main()\n",
    "{\n",
    "   double x;\n",
    "   double angle = 12.1;\n",
    "   x = cos(angle);\n",
    "   printf(\\\"The cosine of %4.3f degrees is %8.4f\\\", angle, x);\n",
    "   return 0;\n",
    "}\n",
    "\" > cosine.c\n",
    "gcc -Og -c cosine.c\n",
    "objdump -d cosine.o"
   ]
  },
  {
   "cell_type": "code",
   "execution_count": null,
   "metadata": {},
   "outputs": [],
   "source": [
    "%%bash\n",
    "gcc -o my_program cosine.o -lm\n",
    "objdump -d my_program"
   ]
  },
  {
   "cell_type": "code",
   "execution_count": null,
   "metadata": {},
   "outputs": [],
   "source": [
    "%%bash\n",
    "./my_program"
   ]
  },
  {
   "cell_type": "markdown",
   "metadata": {},
   "source": [
    "#### Which programming language?\n",
    "\n",
    "> Stack Overflow’s annual Developer Survey is the largest and most comprehensive survey of people who code around the world. Each year, we field a survey covering everything from developers’ favorite technologies to their job preferences. \n",
    "\n",
    "[Stack Overflow Developer Survey][so]\n",
    "\n",
    "[so]: https://insights.stackoverflow.com/survey/2020/#technology\n",
    "\n",
    "> The TIOBE Programming Community index is an indicator of the popularity of programming languages. The index is updated once a month. The ratings are based on the number of skilled engineers world-wide, courses and third party vendors. Popular search engines such as Google, Bing, Yahoo!, Wikipedia, Amazon, YouTube and Baidu are used to calculate the ratings. It is important to note that the TIOBE index is not about the best programming language or the language in which most lines of code have been written.\n",
    "\n",
    "[TIOBE Index][tiobe]\n",
    "\n",
    "[tiobe]: https://www.tiobe.com/tiobe-index/\n",
    "\n",
    "#### Python is an interpreted language\n",
    "\n",
    "> An interpreted language is a type of programming language for which most of its implementations execute instructions directly and freely, without previously compiling a program into machine-language instructions. The interpreter executes the program directly, translating each statement into a sequence of one or more subroutines, and then into another language (often machine code).\n",
    "\n",
    "> The terms interpreted language and compiled language are not well defined because, in theory, any programming language can be either interpreted or compiled. In modern programming language implementation, it is increasingly popular for a platform to provide both options.\n",
    "\n",
    "[Wikipedia entry on \"Interpreted language\"][wp-interpreted-language]\n",
    "\n",
    "[wp-interpreted-language]: https://en.wikipedia.org/wiki/Interpreted_language\n",
    "\n",
    "#### Programming vs problem solving\n",
    "\n",
    "> Computer programming is the process of designing and building an executable computer program for accomplishing a specific computing task. Programming involves tasks such as: analysis, generating algorithms, profiling algorithms' accuracy and resource consumption, and the implementation of algorithms in a chosen programming language (commonly referred to as coding). The source code of a program is written in one or more languages that are intelligible to programmers, rather than machine code, which is directly executed by the central processing unit. The purpose of programming is to find a sequence of instructions that will automate the performance of a task (which can be as complex as an operating system) on a computer, often for solving a given problem. \n",
    "\n",
    "[Wikipedia entry on \"Computer programming\"][wp-computer-programming]\n",
    "\n",
    "[wp-computer-programming]: https://en.wikipedia.org/wiki/Computer_programming\n",
    "\n",
    "<img src=\"images/jupyterpreview.png\" width=\"800\">\n",
    "\n",
    "#### Jupyter is more than an IDE\n",
    "\n",
    "> An integrated development environment (IDE) is a software application that provides comprehensive facilities to computer programmers for software development. An IDE normally consists of at least a source code editor, build automation tools, and a debugger. Some IDEs, such as NetBeans and Eclipse, contain the necessary compiler, interpreter, or both.\n",
    "\n",
    "[Wikipedia entry on \"Integrated development environment\"][wp-ide]\n",
    "\n",
    "[wp-ide]: https://en.wikipedia.org/wiki/Integrated_development_environment\n",
    "\n",
    "> Project Jupyter is a nonprofit organization created to \"develop open-source software, open-standards, and services for interactive computing across dozens of programming languages\". Spun-off from IPython in 2014 by Fernando Pérez, Project Jupyter supports execution environments in several dozen languages.\n",
    "\n",
    "[Wikipedia entry on \"Project Jupyter\"][wp-jupyter]\n",
    "\n",
    "[wp-jupyter]: https://en.wikipedia.org/wiki/Project_Jupyter\n"
   ]
  },
  {
   "cell_type": "code",
   "execution_count": null,
   "metadata": {},
   "outputs": [],
   "source": [
    "x=1\n",
    "y=22/7\n",
    "z=\"This is a string\"\n",
    "print(f\"The type of variable x is: {type(x)}\")\n",
    "print(f\"The type of variable z is: {type(z)}\")\n",
    "print(f\"X is: {x} cm and y is : {y:04.6f} sec\")"
   ]
  },
  {
   "cell_type": "code",
   "execution_count": null,
   "metadata": {},
   "outputs": [],
   "source": []
  }
 ],
 "metadata": {
  "kernelspec": {
   "display_name": "Python 3",
   "language": "python",
   "name": "python3"
  },
  "language_info": {
   "codemirror_mode": {
    "name": "ipython",
    "version": 3
   },
   "file_extension": ".py",
   "mimetype": "text/x-python",
   "name": "python",
   "nbconvert_exporter": "python",
   "pygments_lexer": "ipython3",
   "version": "3.8.6"
  }
 },
 "nbformat": 4,
 "nbformat_minor": 2
}