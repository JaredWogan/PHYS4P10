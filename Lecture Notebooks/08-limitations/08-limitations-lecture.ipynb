{
 "cells": [
  {
   "cell_type": "markdown",
   "metadata": {},
   "source": [
    "# Lecture 06 - Limitations of computation\n",
    "\n",
    "There are [limits][1] to the ability of computers and programming languages to provide [accurate and precise][2] answers to problems. There is a lot of deep mathematical and philosophical theory on the problem of [computabilty][3], or what makes a problem solvable in an effective manner, and [computational complexity][4], which classifies computational problems according to their inherent difficulty.\n",
    "\n",
    "We however, will take a look at the more practical aspects of these limitations of computation.\n",
    "\n",
    "[1]: https://en.wikipedia.org/wiki/Limits_of_computation\n",
    "[2]: https://en.wikipedia.org/wiki/Accuracy_and_precision\n",
    "[3]: https://en.wikipedia.org/wiki/Computability\n",
    "[4]: https://en.wikipedia.org/wiki/Computational_complexity_theory\n",
    "\n",
    "#### Data types\n",
    "\n",
    "Various [data types][5] require different amounts of computer memory, and very few data types can completely accurately represent irrational numbers. In Python, and most programming languages, this means different data types have different rules about how they can be manipulated. One issue in Python is that although varables are somewhat changeable, sometimes you run into problems of using a varaible of a particular type that cannot be used elsewhere.\n",
    "\n",
    "[5]: https://en.wikipedia.org/wiki/Data_type\n",
    "\n",
    "Please try to understand *why* we get the output we do on each of these."
   ]
  },
  {
   "cell_type": "code",
   "execution_count": 1,
   "metadata": {},
   "outputs": [
    {
     "name": "stdout",
     "output_type": "stream",
     "text": [
      "<class 'int'>\n",
      "True\n",
      "False\n",
      "True\n"
     ]
    }
   ],
   "source": [
    "print(type(6))\n",
    "print(isinstance(6,int))\n",
    "print(isinstance(6,float))\n",
    "print(isinstance(6.0,float))"
   ]
  },
  {
   "cell_type": "code",
   "execution_count": 2,
   "metadata": {},
   "outputs": [
    {
     "name": "stdout",
     "output_type": "stream",
     "text": [
      "<class 'float'>\n",
      "<class 'str'>\n",
      "<class 'str'>\n",
      "<class 'bytes'>\n",
      "<class 'list'>\n",
      "<class 'float'>\n"
     ]
    }
   ],
   "source": [
    "print(type(6.0))\n",
    "print(type('6.0'))\n",
    "print(type(\"6.0\"))\n",
    "print(type(b\"6.0\"))\n",
    "print(type([6.0]))\n",
    "print(type([6.0][0]))"
   ]
  },
  {
   "cell_type": "code",
   "execution_count": 3,
   "metadata": {},
   "outputs": [
    {
     "name": "stdout",
     "output_type": "stream",
     "text": [
      "0b0\n",
      "0b1\n",
      "0b10\n",
      "0b11\n",
      "0b100\n",
      "0b101\n",
      "0b110\n",
      "0b111\n",
      "0b1000\n",
      "0b1001\n",
      "0b1010\n",
      "0b1011\n",
      "0b1100\n",
      "0b1101\n",
      "0b1110\n",
      "0b1111\n",
      "0b10000\n",
      "0b10001\n",
      "0b10010\n",
      "0b10011\n"
     ]
    }
   ],
   "source": [
    "# Counting in binary\n",
    "for i in range(0,20):\n",
    "    print(bin(i))"
   ]
  },
  {
   "cell_type": "code",
   "execution_count": 4,
   "metadata": {},
   "outputs": [
    {
     "name": "stdout",
     "output_type": "stream",
     "text": [
      "0x0\n",
      "0x1\n",
      "0x2\n",
      "0x3\n",
      "0x4\n",
      "0x5\n",
      "0x6\n",
      "0x7\n",
      "0x8\n",
      "0x9\n",
      "0xa\n",
      "0xb\n",
      "0xc\n",
      "0xd\n",
      "0xe\n",
      "0xf\n",
      "0x10\n",
      "0x11\n",
      "0x12\n",
      "0x13\n"
     ]
    }
   ],
   "source": [
    "# Count in hexadecimal\n",
    "for i in range(0,20):\n",
    "    print(hex(i))"
   ]
  },
  {
   "cell_type": "markdown",
   "metadata": {},
   "source": [
    "**[Floats][1]** are represented as\n",
    "$$x=(-1)^s\\cdot(0.a_1a_2a_3\\ldots a_t)\\cdot\\beta^e=(-1)^s\\cdot m\\cdot\\beta^{e-t}$$\n",
    "where $s$ is 0 or 1, $\\beta$ (a positive integer larger than or equal to 2) is the *basis* or *radix* adopted by the specific computer at hand, $m$ is an integer called the *mantissa* or *significand* whose length $t$ is the maximum number of digits a $a_i$ that are stored, and e is an integral number called the *exponent*.\n",
    "\n",
    "[1]: https://en.wikipedia.org/wiki/Floating-point_arithmetic\n",
    "\n",
    "There is no upper limit to the size of integers in python. Rather than storing an integer in a few bytes of binary, in integers above $2^{32}-1$, each digit is stored individually, and a larger data structure can keep track of them all."
   ]
  },
  {
   "cell_type": "code",
   "execution_count": 5,
   "metadata": {},
   "outputs": [
    {
     "name": "stdout",
     "output_type": "stream",
     "text": [
      "sys.float_info(max=1.7976931348623157e+308\n",
      "max_exp=1024\n",
      "max_10_exp=308\n",
      "min=2.2250738585072014e-308\n",
      "min_exp=-1021\n",
      "min_10_exp=-307\n",
      "dig=15\n",
      "mant_dig=53\n",
      "epsilon=2.220446049250313e-16\n",
      "radix=2\n",
      "rounds=1)\n"
     ]
    }
   ],
   "source": [
    "import sys\n",
    "print ('\\n'.join(str(sys.float_info).split(', ')))\n",
    "# sys.float_info # maximum representable finite float\n",
    "# min        # minimum positive normalized float\n",
    "# dig        # maximum number of decimal digits that can be faithfully represented in a float\n",
    "# mant_dig   # float precision: the number of base-radix digits in the significand of a float\n",
    "# radix      # radix of exponent representation"
   ]
  },
  {
   "cell_type": "markdown",
   "metadata": {},
   "source": [
    "**[Bitwise operations][1]** operate on bit patterns or binary numerals at the level of their individual bits.\n",
    "\n",
    "[1]: https://en.wikipedia.org/wiki/Bitwise_operation"
   ]
  },
  {
   "cell_type": "code",
   "execution_count": 6,
   "metadata": {},
   "outputs": [
    {
     "name": "stdout",
     "output_type": "stream",
     "text": [
      "I1 in binary        : 0b100000000000000000000000000000000000000000000000000000\n",
      "I1 in decimal       : 9007199254740992\n",
      "I1 bit length       : 54 bits\n",
      "I1-1 in binary      : 0b11111111111111111111111111111111111111111111111111111\n",
      "I1-1 in decimal     : 9007199254740991\n",
      "I1-1 in hexidecimal : 0x1fffffffffffff\n"
     ]
    }
   ],
   "source": [
    "# Take the binary (decimal) number one and move it to the 53 spot to the left\n",
    "I1 = (1<<53)\n",
    "I2 = I1-1\n",
    "print(f\"I1 in binary        : {bin(I1)}\") \n",
    "print(f\"I1 in decimal       : {I1}\") \n",
    "print(f\"I1 bit length       : {I1.bit_length()} bits\")\n",
    "print(f\"I1-1 in binary      : {bin(I2)}\") \n",
    "print(f\"I1-1 in decimal     : {I2}\") \n",
    "print(f\"I1-1 in hexidecimal : {hex(I2)}\")"
   ]
  },
  {
   "cell_type": "markdown",
   "metadata": {},
   "source": [
    "**[Type casting][1]**, or *type conversion* is a way of chaging from one data type to another\n",
    "\n",
    "**[Floating point artihmetic][2]** can lead to some surprises!\n",
    "\n",
    "[1]: https://en.wikipedia.org/wiki/Type_conversion\n",
    "[2]: https://en.wikipedia.org/wiki/Floating-point_arithmetic"
   ]
  },
  {
   "cell_type": "code",
   "execution_count": 7,
   "metadata": {},
   "outputs": [
    {
     "name": "stdout",
     "output_type": "stream",
     "text": [
      "True\n",
      "True\n",
      "True\n",
      "False\n"
     ]
    }
   ],
   "source": [
    "I1 = (1<<53)-1\n",
    "print(float(I1)-1 == I1-1)\n",
    "print(float(I1)   == I1)\n",
    "print(float(I1)+1 == I1+1)\n",
    "print(float(I1)+2 == I1+2) #Loss of precision here"
   ]
  },
  {
   "cell_type": "code",
   "execution_count": 8,
   "metadata": {},
   "outputs": [
    {
     "name": "stdout",
     "output_type": "stream",
     "text": [
      "False\n"
     ]
    }
   ],
   "source": [
    "# What is going on here?\n",
    "x=1.1+2.2\n",
    "if x==3.3:\n",
    "    print(\"True\")\n",
    "else:\n",
    "    print(\"False\")"
   ]
  },
  {
   "cell_type": "code",
   "execution_count": 9,
   "metadata": {},
   "outputs": [
    {
     "name": "stdout",
     "output_type": "stream",
     "text": [
      "The full representation of 1.1+2.2 is 3.3000000000000003\n"
     ]
    }
   ],
   "source": [
    "print(f\"The full representation of 1.1+2.2 is {x}\")"
   ]
  },
  {
   "cell_type": "code",
   "execution_count": 10,
   "metadata": {},
   "outputs": [
    {
     "name": "stdout",
     "output_type": "stream",
     "text": [
      "True\n",
      "True\n"
     ]
    }
   ],
   "source": [
    "# Test for absolute precision when comparing floats\n",
    "epsilon = 1E-12\n",
    "x=1.1+2.2\n",
    "if abs(x-3.3) < epsilon:\n",
    "    print(\"True\")\n",
    "else:\n",
    "    print(\"False\")\n",
    "\n",
    "# Alternative, and more desriptive method\n",
    "import numpy\n",
    "if numpy.isclose(x,3.3,rtol=0,atol=1E-12) :\n",
    "    print(\"True\")\n",
    "else:\n",
    "    print(\"False\")\n"
   ]
  },
  {
   "cell_type": "code",
   "execution_count": 11,
   "metadata": {},
   "outputs": [
    {
     "name": "stdout",
     "output_type": "stream",
     "text": [
      "x: 1,000,000,000,000,000 y: 1000000000000001.250000000000\n",
      "x-y: -1.25\n"
     ]
    }
   ],
   "source": [
    "# Accuracy is not what you might expect.\n",
    "# Underscores may be used to improve readability. \n",
    "x=1_000_000_000_000_000\n",
    "y=1_000_000_000_000_001.22345\n",
    "print(f\"x: {x:,} y: {y:2.12f}\")\n",
    "print(f\"x-y: {x-y}\")"
   ]
  },
  {
   "cell_type": "code",
   "execution_count": 12,
   "metadata": {},
   "outputs": [
    {
     "name": "stdout",
     "output_type": "stream",
     "text": [
      "899999999999999.1\n",
      "0.125\n"
     ]
    }
   ],
   "source": [
    "# Accuracy is not what you might expect.\n",
    "a = 899_999_999_999_999.1\n",
    "print(a)\n",
    "print(a - (a - 0.1))"
   ]
  },
  {
   "cell_type": "code",
   "execution_count": 13,
   "metadata": {},
   "outputs": [
    {
     "name": "stdout",
     "output_type": "stream",
     "text": [
      "count= 1, sum = 1e-10\n",
      "count= 2, sum = 2e-10\n",
      "count= 3, sum = 3e-10\n",
      "count= 4, sum = 4e-10\n",
      "count= 5, sum = 5e-10\n",
      "count= 6, sum = 6e-10\n",
      "count= 7, sum = 7e-10\n",
      "count= 8, sum = 7.999999999999999e-10\n"
     ]
    }
   ],
   "source": [
    "# Sometimes it is worth changing the units of your calculation\n",
    "# because small errors might build up over many repititions.\n",
    "sum = 0\n",
    "increment = 0.000_000_000_1\n",
    "\n",
    "for count in range(1,1000) :\n",
    "    sum += increment\n",
    "    print (f\"count= {count}, sum = {sum}\")\n",
    "    if sum != count/10_000_000_000 : \n",
    "        break"
   ]
  },
  {
   "cell_type": "markdown",
   "metadata": {},
   "source": [
    "#### Computational efficiency\n",
    "\n",
    "Many people get frusted waiting for their computation to finish. Much of the time, it's not the size of the problem, but the algorithm that determines why a calculation is takeing so long. For example, how many terms of a series is needed before you can trust it has converged?\n",
    "\n",
    "#### Example 1\n",
    "\n",
    "The quantum simple harmonic oscillator has energy levels $E_n=\\hbar\\omega(n+1/2)$, where $n=0\\rightarrow\\infty$. The average energy of a simple harmonic oscillator at temperature $T$ is \n",
    "$$\\langle E\\rangle=\\frac{1}{Z}\\sum_{n=0}^{\\inf}E_n e^{-\\beta E_n}$$\n",
    "where $\\beta=1/kT$ and \n",
    "$$Z=\\sum_{n=0}^{\\inf} e^{-\\beta E_n}$$\n",
    "Let $kT=1000$, and calculate $\\langle E\\rangle$. (Let $\\hbar=\\omega=1$)"
   ]
  },
  {
   "cell_type": "code",
   "execution_count": 21,
   "metadata": {},
   "outputs": [
    {
     "name": "stdout",
     "output_type": "stream",
     "text": [
      "1000.0000833333336\n"
     ]
    }
   ],
   "source": [
    "import math\n",
    "\n",
    "terms=10_000_000\n",
    "beta = 1/1000.0\n",
    "S=0.0\n",
    "Z=0.0\n",
    "for n in range(terms):\n",
    "    E=n+0.5\n",
    "    weight = math.exp(-beta*E)\n",
    "    S += weight*E\n",
    "    Z += weight\n",
    "\n",
    "print(S/Z)"
   ]
  },
  {
   "cell_type": "markdown",
   "metadata": {},
   "source": [
    "Algorithms are analyzed for how well they scale; how much longer would it take as you add more and more to the problem? How [complex are the operations][1] required to compute them? \n",
    "\n",
    "[1]: https://en.wikipedia.org/wiki/Computational_complexity_of_mathematical_operations\n",
    "\n",
    "#### Example 4\n",
    "\n",
    "[Matrix multiplication][2] is an example of this problem,\n",
    "\n",
    "Let $A$ and $B$ be $(n\\times 2)$ matricies. Let $C=AB$. The standard method is to calculate\n",
    "$$C_{ij}=\\sum_{k=1}^{n}A_{ik}B_{kj}$$\n",
    "\n",
    "This loop has to be run for each $i$ and $j$. Thus there are two additional loops to fill in the $n^2$ number of elements $C_{ij}$, and therefore the total problem scales as $O(n^3)$. \n",
    "\n",
    "There are a number of algorithms that works much better than that, including [those][3] that work on order $O(n^{2.807355})$ and even better, $O(n^{2.375477})$\n",
    "\n",
    "[2]: https://en.wikipedia.org/wiki/Matrix_multiplication_algorithm\n",
    "[3]: https://en.wikipedia.org/wiki/Coppersmith%E2%80%93Winograd_algorithm"
   ]
  },
  {
   "cell_type": "code",
   "execution_count": null,
   "metadata": {},
   "outputs": [],
   "source": []
  },
  {
   "cell_type": "code",
   "execution_count": null,
   "metadata": {},
   "outputs": [],
   "source": []
  }
 ],
 "metadata": {
  "kernelspec": {
   "display_name": "Python 3",
   "language": "python",
   "name": "python3"
  },
  "language_info": {
   "codemirror_mode": {
    "name": "ipython",
    "version": 3
   },
   "file_extension": ".py",
   "mimetype": "text/x-python",
   "name": "python",
   "nbconvert_exporter": "python",
   "pygments_lexer": "ipython3",
   "version": "3.7.10"
  }
 },
 "nbformat": 4,
 "nbformat_minor": 2
}
