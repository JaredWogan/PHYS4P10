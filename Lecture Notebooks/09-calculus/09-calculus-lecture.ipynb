{
 "cells": [
  {
   "cell_type": "markdown",
   "source": [
    "# Lecture 09 - Integration and Differentiation\n",
    "\n",
    "#### Integration\n",
    "\n",
    "Let the integral of a function $f(x)$ between two points $a$ and $b$ be defined as\n",
    "$$ I(a,b)=\\int_a^b f(x)\\ \\mathrm{d}x$$\n",
    "The [trapizoidal rule][1] uses $N$ slices of width $h=(b-a)/N$ and a linear approximation of the function between the slices, using the two-points at the ends of each interval.\n",
    "<img width=250 src=\"https://upload.wikimedia.org/wikipedia/commons/d/d1/Integration_num_trapezes_notation.svg\" />\n",
    "\n",
    "Consider slice $i$, which runs in the $x$ axis from point $x_{i-1}=a+(i-1)h$ to $x_i=a+ih$. The area of that slice is \n",
    "$$A_i=\\frac{1}{2}h\\left[f(a+(i-1)h)-f(a+ih)\\right]$$ \n",
    "Then the integral can be approximated as \n",
    "$$I(a,b)\\approx\\sum_{i=1}^{N}A_i = h\\left[\\frac{1}{2}f(a)+\\frac{1}{2}f(b)+\\sum_{i=1}^{N-1}f(a+ih)\\right]$$\n",
    "This formula is known as the trapizoidal rule.\n",
    "\n",
    "[1]: https://en.wikipedia.org/wiki/Trapezoidal_rule"
   ],
   "metadata": {}
  },
  {
   "cell_type": "markdown",
   "source": [
    "#### Example 1\n",
    "\n",
    "Write a program that evaluates the folowing integral by the trapazoidal rule\n",
    "$$I = \\int^{2}_{0} (x^2-2x+1) \\mathrm{d}x$$\n",
    "* Provide a function that returns the value of the integrand $f(x)$ for a given value of $x$\n",
    "* Write a function that performs the trapizoidal rule, by calling another function.\n",
    "* Provide a function that returns the true value of the integral $I(x)$ at some point $x$\n",
    "* How does the numerical result compare to the correct result as a function of the number of intervals?"
   ],
   "metadata": {}
  },
  {
   "cell_type": "markdown",
   "source": [
    "<div class=\"alert alert-block alert-info\">\n",
    "<b>Note:</b> It is time to think about the <a href=\"https://en.wikipedia.org/wiki/Scope_(computer_science)\">scope of variables</a>.\n",
    "</div>"
   ],
   "metadata": {}
  },
  {
   "cell_type": "markdown",
   "source": [
    "In this program, you are defining a Python function for $f(x)$\n",
    "```python\n",
    "def f(x) :\n",
    "```    \n",
    "that another function for the trapzoid rule \n",
    "```python\n",
    "def trapz(a,b) :\n",
    "```\n",
    "needs to use. How will the `trapz` know about the existence of `f` because it is *your* function, and not part of Python or any package?"
   ],
   "metadata": {}
  },
  {
   "cell_type": "code",
   "execution_count": 1,
   "source": [
    "# -- This is the function I want to integrate\r\n",
    "# -- NOTE THE SCOPE AND CONFLICT BETWEEN THE FUNCTION NAME AND VARIABLE NAME INSIDE\r\n",
    "def f(x):\r\n",
    "    f=x**2-2*x+1\r\n",
    "    return f\r\n",
    "\r\n",
    "# -- Use the trapazoidal rule to integrate f(x) from a to b\r\n",
    "# -- IMPORTANT: How does the function trapz know about the function f? \r\n",
    "def trapz(a,b):\r\n",
    "    N=10\r\n",
    "    h=(b-a)/N\r\n",
    "    s=0.5*f(a)+0.5*f(b)\r\n",
    "    for i in range(1,N):\r\n",
    "        s += f(a+i*h)\r\n",
    "    I = s*h\r\n",
    "    return I\r\n",
    "\r\n",
    "# -- Use my trapazoidal rule function with the limits of integration 0->2\r\n",
    "I = trapz(0.0,2.0)\r\n",
    "\r\n",
    "# -- This is the true indefinite integral\r\n",
    "def intf(x) :\r\n",
    "    intf=x**3/3-x**2+x\r\n",
    "    return intf\r\n",
    "\r\n",
    "# -- Evaluate the indefinite integral at the limits of integration\r\n",
    "Itrue = intf(2.0)-intf(0.0)\r\n",
    "deltaI = 100*abs(I-Itrue)/Itrue\r\n",
    "\r\n",
    "print(f\"Trapizoidal rule          : {I:2.6}\")\r\n",
    "print(f\"The true value            : {Itrue:2.6}\")\r\n",
    "print(f\"The percent difference is : {deltaI:1.2}%\")"
   ],
   "outputs": [
    {
     "output_type": "stream",
     "name": "stdout",
     "text": [
      "Trapizoidal rule          : 0.68\n",
      "The true value            : 0.666667\n",
      "The percent difference is : 2.0%\n"
     ]
    }
   ],
   "metadata": {}
  },
  {
   "cell_type": "code",
   "execution_count": 2,
   "source": [
    "# -- This is the function I want to integrate\r\n",
    "# -- NOTE THE SCOPE AND CONFLICT BETWEEN THE FUNCTION NAME AND VARIABLE NAME INSIDE\r\n",
    "def g(x):\r\n",
    "    g=x**3-2*x+1\r\n",
    "    return g\r\n",
    "\r\n",
    "# -- Use the trapazoidal rule to integrate f(x) from a to b\r\n",
    "# -- IMPORTANT: How does the function trapz know about the function f? \r\n",
    "def trapz(f,a,b):\r\n",
    "    N=10\r\n",
    "    h=(b-a)/N\r\n",
    "    s=0.5*f(a)+0.5*f(b)\r\n",
    "    for i in range(1,N):\r\n",
    "        s += f(a+i*h)\r\n",
    "    I = s*h\r\n",
    "    return I\r\n",
    "\r\n",
    "# -- Use my trapazoidal rule function with the limits of integration 0->2\r\n",
    "I = trapz(f,0.0,2.0)\r\n",
    "\r\n",
    "# -- This is the true indefinite integral\r\n",
    "def intg(x) :\r\n",
    "    intf=x**4/4-x**2+x\r\n",
    "    return intf\r\n",
    "\r\n",
    "# -- Evaluate the indefinite integral at the limits of integration\r\n",
    "Itrue = intf(2.0)-intf(0.0)\r\n",
    "deltaI = 100*abs(I-Itrue)/Itrue\r\n",
    "\r\n",
    "print(f\"Trapizoidal rule          : {I:2.6}\")\r\n",
    "print(f\"The true value            : {Itrue:2.6}\")\r\n",
    "print(f\"The percent difference is : {deltaI:1.2}%\")"
   ],
   "outputs": [
    {
     "output_type": "stream",
     "name": "stdout",
     "text": [
      "Trapizoidal rule          : 0.68\n",
      "The true value            : 0.666667\n",
      "The percent difference is : 2.0%\n"
     ]
    }
   ],
   "metadata": {}
  },
  {
   "cell_type": "markdown",
   "source": [
    "Scipy has a trapizoidal rule function to use. However, it does not call another function that calculate the integrand. Instead it expects to integrate an array that already contains the curve to be integrated. So we will have to use our function for the integrand and calculate the curve first.\n",
    "\n",
    "[`scipy.integrate.trapz`][1] Integrate along the given axis using the composite trapezoidal rule.\n",
    "\n",
    "[`numpy.linespace`][2] Return evenly spaced numbers over a specified interval.\n",
    "\n",
    "[1]: https://docs.scipy.org/doc/scipy/reference/generated/scipy.integrate.trapz.html\n",
    "[2]: https://docs.scipy.org/doc/numpy/reference/generated/numpy.linspace.html"
   ],
   "metadata": {}
  },
  {
   "cell_type": "code",
   "execution_count": 3,
   "source": [
    "#\r\n",
    "# -- Use the scipy.integrate.trapz function to integrate f(x) from 0.0 to 2.0\r\n",
    "# -- Since function f(x) was defined in the cell above, I will not show it again here.\r\n",
    "#\r\n",
    "import scipy.integrate\r\n",
    "import numpy\r\n",
    "#\r\n",
    "# -- First we need to set up the intervals by defineing an array of points along the x axis.\r\n",
    "# -- 20 intervals is 21 data points!\r\n",
    "#\r\n",
    "x = numpy.linspace(0.0,2.0,num=41,endpoint=True)\r\n",
    "#\r\n",
    "# -- The next line will take an array of x values and call the function f \r\n",
    "# -- element by element, and thus build a new array y.\r\n",
    "#\r\n",
    "y = f(x)\r\n",
    "I =scipy.integrate.trapz(y,x)\r\n",
    "\r\n",
    "deltaI = 100*abs(I-Itrue)/Itrue\r\n",
    "\r\n",
    "print(f\"Trapizoidal rule          : {I:2.6}\")\r\n",
    "print(f\"The true value            : {Itrue:2.6}\".format(Itrue))\r\n",
    "print(f\"The percent difference is : {deltaI:1.2}%\")"
   ],
   "outputs": [
    {
     "output_type": "stream",
     "name": "stdout",
     "text": [
      "Trapizoidal rule          : 0.6675\n",
      "The true value            : 0.666667\n",
      "The percent difference is : 0.13%\n"
     ]
    }
   ],
   "metadata": {}
  },
  {
   "cell_type": "markdown",
   "source": [
    "#### Simpson's rule\n",
    "\n",
    "[Simpson's rule][1] uses quadratic equation through three points on $f(x)$ to get the area under two adjacent slices as\n",
    "$$A=\\frac{1}{3}h\\left[f(-h)+4f(0)+f(+h)\\right]$$\n",
    "\n",
    "After summing over all slices, and taking the end points into account, we have\n",
    "$$I(a,b)=\\frac{1}{3}h\\left[f(a)+f(b)+4\\sum_{k=1}^{N/2}f(a+(2k-1)h)+2\\sum_{k=1}^{N/2-1}f(a+2kh)\\right]$$\n",
    "\n",
    "[1]: https://en.wikipedia.org/wiki/Simpson%27s_rule"
   ],
   "metadata": {}
  },
  {
   "cell_type": "markdown",
   "source": [
    "#### Error esitmation\n",
    "\n",
    "The error esitmation of the trapizoidal rule can be approxmated by\n",
    "$$\\epsilon = \\frac{1}{3}\\left|I_2-I_1\\right|$$\n",
    "where $I_2$ is double the number of slices than when $I_1$ is calculated.\n",
    "\n",
    "#### Example 2\n",
    "\n",
    "Extend the trapizodal function above to estimate the error by performing the integration twice, once with 20 slices, again with 40. Return both the integral and the error estimate from your function, like this:\n",
    "```python    \n",
    "return I, err\n",
    "```"
   ],
   "metadata": {}
  },
  {
   "cell_type": "code",
   "execution_count": 4,
   "source": [
    "# -- This is the function I want to integrate\n",
    "def f(x):\n",
    "    f=x**4-2*x+1\n",
    "    return f\n",
    "\n",
    "# -- Use the trapazoidal rule to integrate f(x) from a to b\n",
    "def trapz(a,b):\n",
    "    N=20\n",
    "    h=(b-a)/N\n",
    "    s20=0.5*f(a)+0.5*f(b)\n",
    "    for i in range(1,N):\n",
    "        s20 += f(a+i*h)\n",
    "    I20 = s20*h\n",
    "    N=40\n",
    "    h=(b-a)/N\n",
    "    s40=0.5*f(a)+0.5*f(b)\n",
    "    for i in range(1,N):\n",
    "        s40 += f(a+i*h)\n",
    "    I40 = s40*h\n",
    "    err = (1/3)*numpy.abs(I40-I20)\n",
    "    return I40,err\n",
    "\n",
    "# -- Use my trapazoidal rule function with the limits of integration 0->2\n",
    "I,err = trapz(0.0,2.0)\n",
    "\n",
    "# -- This is the true indefinite integral\n",
    "def intf(x) :\n",
    "    intf=x**5/5-x**2+x\n",
    "    return intf\n",
    "\n",
    "# -- Evaluate the indefinite integral at the limits of integration\n",
    "Itrue = intf(2.0)-intf(0.0)\n",
    "deltaI = 100*abs(I-Itrue)/Itrue\n",
    "\n",
    "print(f\"Trapizoidal rule          : {I:2.4f} +/- {err:2.4f}\")\n",
    "print(f\"The true value            : {Itrue:2.4f}\")\n",
    "print(f\"The percent difference is : {deltaI:1.2f}%\")"
   ],
   "outputs": [
    {
     "output_type": "stream",
     "name": "stdout",
     "text": [
      "Trapizoidal rule          : 4.4067 +/- 0.0067\n",
      "The true value            : 4.4000\n",
      "The percent difference is : 0.15%\n"
     ]
    }
   ],
   "metadata": {}
  },
  {
   "cell_type": "markdown",
   "source": [
    "#### Gaussian quadrature\n",
    "\n",
    "An $n$-point [Gaussian quadrature rule][1] is a quadrature rule constructed to yield an exact result for polynomials of degree $2n − 1$ or less by a suitable choice of the nodes $x_i$ and weights $w_i$ for $i = 1, ..., n$. The most common domain of integration for such a rule is taken as $[-1,1]$, so the rule is stated as\n",
    "$$\\int_{-1}^{1}f(x)\\ \\mathrm{d}x\\approx\\sum_{i=1}^{n}w_if(x_i)$$\n",
    "\n",
    "There are many forms of the weights $w_i$, and choosing the appropriate one is an advanced mathematical topic.\n",
    "\n",
    "The [NIST Digital Library of Mathematical Functions][2] has the formulas for more advanced methods.\n",
    "\n",
    "[1]: https://en.wikipedia.org/wiki/Gaussian_quadrature\n",
    "[2]: https://dlmf.nist.gov/3.5\n",
    "\n",
    "#### Example 3\n",
    "\n",
    "Use [`scipy.integrate.quad`][3] to evaluate the integral above. \n",
    "\n",
    "[3]: https://docs.scipy.org/doc/scipy/reference/generated/scipy.integrate.quad.html"
   ],
   "metadata": {}
  },
  {
   "cell_type": "markdown",
   "source": [
    "<div class=\"alert alert-block alert-info\">\n",
    "<b>Tip:</b> Note that <tt>scipy.integrate.quad</tt> does not need to have the $x$ and $y$ points calulcated ahead of time. Instead, it takes the function $f(x)$ as a variable directly.\n",
    "</div>"
   ],
   "metadata": {}
  },
  {
   "cell_type": "code",
   "execution_count": 5,
   "source": [
    "# -- This is the function I want to integrate\n",
    "def f(x):\n",
    "    f=x**4-2*x+1\n",
    "    return f\n",
    "\n",
    "# -- This is the true indefinite integral\n",
    "def intf(x) :\n",
    "    intf=x**5/5-x**2+x\n",
    "    return intf\n",
    "\n",
    "# -- Evaluate the indefinite integral at the limits of integration\n",
    "# -- Use my trapazoidal rule function with the limits of integration 0->2\n",
    "results = scipy.integrate.quad(f,0.0,2.0,full_output=False)\n",
    "I = results[0]\n",
    "epsilon = results[1]\n",
    "Itrue = intf(2.0)-intf(0.0)\n",
    "deltaI = 100*abs(I-Itrue)/Itrue\n",
    "\n",
    "print(results)\n",
    "print(f\"Gaussian Quad rule          : {I:2.4f} +/- {epsilon:1.4f}\")\n",
    "print(f\"The true value            : {Itrue:2.4f}\")\n",
    "print(f\"The percent difference is : {deltaI:1.2g}%\")"
   ],
   "outputs": [
    {
     "output_type": "stream",
     "name": "stdout",
     "text": [
      "(4.3999999999999995, 5.003996496050337e-14)\n",
      "Gaussian Quad rule          : 4.4000 +/- 0.0000\n",
      "The true value            : 4.4000\n",
      "The percent difference is : 2e-14%\n"
     ]
    }
   ],
   "metadata": {}
  },
  {
   "cell_type": "markdown",
   "source": [
    "#### Differentiation\n",
    "\n",
    "Derivatives are defined as the rate of change of one variable with respect to another.\n",
    "$$f'(x)=\\frac{\\mathrm{d}y}{\\mathrm{d}x}\\approx\\frac{\\Delta y}{\\Delta x}$$\n",
    "\n",
    "Normally, the derivative of a function represents an *infinitesimal* change in the function with respect to one of its variables. For real data, much like for integration, we don't have data at *infinitesimally* spaced points $x_i$. Nevertheless, the above equation is all we do have.\n",
    "\n",
    "Calculated symmetrically, we have the *central difference* definition of the gradient derivative:\n",
    "$$f'(x)=\\lim_{h\\rightarrow0}\\frac{f(x+h)-f(x-h)}{h}$$\n",
    "\n",
    "There are several nearly equivalent ways of doing this in  python, depending on whether you have data  already in arrays or just a function.\n"
   ],
   "metadata": {}
  },
  {
   "cell_type": "markdown",
   "source": [
    "The first method is the most crude. If you assume your data array spacing in $x$ is small enough, we simply calculate the slope of each interval from\n",
    "$$\\frac{\\Delta y}{\\Delta x}=\\frac{y_{i+1}-y_i}{y_{i+1}-x_i}.$$\n",
    "[`numpy.diff`][1] returns an array where each element is subracted from the one following it.\n",
    "\n",
    "The second method uses [`numpy.gradient`][2] which is computed on data arrays using second order accurate central differences in the interior points and either first or second order accurate one-sides (forward or backwards) differences at the boundaries.\n",
    "\n",
    "[1]: https://docs.scipy.org/doc/numpy/reference/generated/numpy.diff.html\n",
    "[2]: https://docs.scipy.org/doc/numpy/reference/generated/numpy.gradient.html\n",
    "\n",
    "#### Example 4\n",
    "\n",
    "Take the derivative of $sin(x)$ using the `numpy.diff` method"
   ],
   "metadata": {}
  },
  {
   "cell_type": "code",
   "execution_count": 6,
   "source": [
    "# -- Set up a data to find the derivative of.\n",
    "# -- Let's use f(x)=sin(x) because we know f'(x)=cos(x) \n",
    "x = numpy.linspace(0,2*numpy.pi,101)\n",
    "y = numpy.sin(x)\n",
    "# -- Let's also set up our own function to call, but we will only use\n",
    "# -- a simple sin(x) function as an example.\n",
    "def f(x) :\n",
    "    return numpy.sin(x)\n",
    "\n",
    "%matplotlib inline\n",
    "import matplotlib.pyplot as plot\n",
    "\n",
    "# -- f' or \"f-prime\" (fp) will be the derivative\n",
    "# -- I want the length of the array to be the same as x\n",
    "# -- If I use numpy.diff to create fp, it will be too short by one element.\n",
    "yp = numpy.zeros(x.shape,numpy.float64)\n",
    "\n",
    "# -- numpy.diff returns an array one less in length because the \n",
    "# -- last element cannot be subtracted from anything. \n",
    "# -- So we calculate fp over the the range [0:-1] which is from the first element \n",
    "# -- to next-to-last. \n",
    "# -- fp1[0:x.size] would work too.\n",
    "yp[0:-1] = numpy.diff(y)/numpy.diff(x)\n",
    "# -- Now we calculate f' for the last element by using the next-to-last element\n",
    "yp[-1] = (y[-1] - y[-2])/(x[-1] - x[-2])\n",
    "\n",
    "plot.figure(figsize=(9,6))\n",
    "plot.plot(x,y,\"k-\",label=r'$f(x)=\\sin(x)$')\n",
    "plot.plot(x,yp,\"r-\",label=r'Calulated $f^{\\prime}(x)$')\n",
    "plot.legend(fontsize=16)\n",
    "plot.grid(True)\n",
    "plot.show()\n",
    "plot.close()"
   ],
   "outputs": [
    {
     "output_type": "display_data",
     "data": {
      "image/png": "[encoded data removed]",
      "text/plain": [
       "<Figure size 648x432 with 1 Axes>"
      ]
     },
     "metadata": {
      "needs_background": "light"
     }
    }
   ],
   "metadata": {}
  },
  {
   "cell_type": "markdown",
   "source": [
    "The above example is when you already have data arrays available to you such as in a file, or part of a calculation.\n",
    "\n",
    "When you have a function to differentiate, you are not limited by the end points, or the spacing in $x$ of your data. You can make your $\\Delta x$ as small as you want.\n",
    "\n",
    "#### Example 5\n",
    "Use the central difference formula to take the derivative of $e^{-1.2x}$"
   ],
   "metadata": {}
  },
  {
   "cell_type": "code",
   "execution_count": 7,
   "source": [
    "# -- Let's set up our own function to cal\n",
    "def f(x) :\n",
    "    return numpy.exp(-1.2*x)\n",
    "\n",
    "# -- The variable *func* used here IS NOT the function we defined above.\n",
    "# -- This variable only has scope and meaning WITHIN THIS FUNCTION.\n",
    "def derivative(func,a,h=0.01) :\n",
    "    return (func(a + h) - func(a - h))/(2*h)\n",
    "\n",
    "# -- This is a more logical way to set up a derviative of a function\n",
    "# -- when you only have the function not the data.\n",
    "x = numpy.linspace(0.0,2.0*numpy.pi,21)\n",
    "y = f(x)\n",
    "yp = derivative(f,x)\n",
    "\n",
    "plot.figure(figsize=(9,6))\n",
    "plot.plot(x,y,\"k-\",label=r'$f(x)=e^{-1.2x}$')\n",
    "plot.plot(x,yp,\"r-\",label=r'Calulated $f^{\\prime}(x)$')\n",
    "plot.legend(fontsize=16)\n",
    "plot.axhline(y=0,color=\"k\",linewidth=1)\n",
    "plot.axvline(x=0,color=\"k\",linewidth=1)\n",
    "plot.grid(True)\n",
    "plot.show()\n",
    "plot.close()"
   ],
   "outputs": [
    {
     "output_type": "display_data",
     "data": {
      "image/png": "[encoded data removed]",
      "text/plain": [
       "<Figure size 648x432 with 1 Axes>"
      ]
     },
     "metadata": {
      "needs_background": "light"
     }
    }
   ],
   "metadata": {}
  },
  {
   "cell_type": "markdown",
   "source": [
    "#### Higher order dervatives\n",
    "\n",
    "The function [`scipy.misc.derivative`][1] also has a function for derivatives that calls a function, instead of taking an array of data. It can also do higher order derivatives.\n",
    "\n",
    "The [NIST Digital Library of Mathematical Functions][2] has several more formulas for more complex differentiations, including higher order partial derivatives, the Laplacian, and the [biharmonic operator][3].\n",
    "\n",
    "[1]: https://docs.scipy.org/doc/scipy/reference/generated/scipy.misc.derivative.html\n",
    "[2]: https://dlmf.nist.gov/3.4\n",
    "[3]: https://en.wikipedia.org/wiki/Biharmonic_equation"
   ],
   "metadata": {}
  },
  {
   "cell_type": "code",
   "execution_count": null,
   "source": [],
   "outputs": [],
   "metadata": {}
  }
 ],
 "metadata": {
  "kernelspec": {
   "name": "python3",
   "display_name": "Python 3.8.8 64-bit ('base': conda)"
  },
  "language_info": {
   "codemirror_mode": {
    "name": "ipython",
    "version": 3
   },
   "file_extension": ".py",
   "mimetype": "text/x-python",
   "name": "python",
   "nbconvert_exporter": "python",
   "pygments_lexer": "ipython3",
   "version": "3.8.8"
  },
  "interpreter": {
   "hash": "8f0aa77b08787691d5ad57eb67530aa0f6a54135b18cc5e5fe8bb43e780afa21"
  }
 },
 "nbformat": 4,
 "nbformat_minor": 2
}