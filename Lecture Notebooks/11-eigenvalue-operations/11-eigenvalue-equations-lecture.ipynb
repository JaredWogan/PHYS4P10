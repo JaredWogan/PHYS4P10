{
 "cells": [
  {
   "cell_type": "markdown",
   "source": [
    "# Lecture 11 - Eigenvalue equations\n",
    "\n",
    "Previously we looked at systems of linear equations,\n",
    "$$\n",
    "\\pmb{A}\\vec{x} = \\vec{b} \n",
    "$$\n",
    "for $\\vec{x}$, where $\\pmb{A}$ and $\\vec{b}$ are known. The solution is of course $\\vec{x}=\\pmb{A}^{-1}\\vec{b}$.\n",
    "\n",
    "Now consider the matrix equation\n",
    "$$\n",
    "\\pmb{A}\\vec{x} = \\lambda\\vec{x} \n",
    "$$\n",
    "where $\\vec{x}$ is an unknown vector and $\\lambda$ an unknown paramter. \n",
    "\n",
    "The the direct solution  $\\vec{x}=\\pmb{A}^{-1}\\vec{b}$ will not be of much help beuase the vector $\\vec{b}=\\lambda\\vec{x}$ is not known because contains the unknowns $\\lambda$ and $\\vec{x}$. This is a eignevalue problem, and it's harder to solve because solutions only exists for certain values of $\\lambda$, which need to be determined first. \n",
    "\n",
    "Tranforming an [eignevalue problem][3] into one of linear problem can be done:\n",
    "$$\n",
    "\\left[ \\pmb{A}-\\lambda\\pmb{I}\\right]\\vec{x}=0\n",
    "$$\n",
    "but the only solution here is $\\vec{x}=0$. A more interesting solution requires the existence of a condition that forbids us from multiplying both sides of the linear equation by $\\left[ \\pmb{A}-\\lambda\\pmb{I}\\right]^{-1}$. That condition is the nonexistence of the inverse, and if you recall that Cramer’s rule for the inverse requires division by $\\mathrm{det}\\left[ \\pmb{A}-\\lambda\\pmb{I}\\right]$, it is clear that the inverse fails to exist\n",
    "(and in this way eigenvalues do exist) when\n",
    "$$\n",
    "\\mathrm{det}\\left[ \\pmb{A}-\\lambda\\pmb{I}\\right]=0\n",
    "$$\n",
    "The $\\lambda$ values that satisfy this secular equation are the eigenvalues.\n",
    "\n",
    "For a $N\\times N$ matrix ther are $N$ eigenvalues $\\lambda$ and eigenvectors $\\vec{x}$. To see how to solve an eigenvalue equation we construct a matirx form the column-oriented eigenvectors;\n",
    "$$\n",
    "\\pmb{A}\\pmb{X}=\\pmb{X}\\pmb{\\Lambda}\n",
    "$$\n",
    "where $\\pmb{\\Lambda}$ is a diagonal matrix with the eigenvalues on the diagonal, and $\\pmb{X}^{T}\\pmb{X}=I$\n",
    "\n",
    "The most widely used technique for calculating eigenvalues is [QR-decomposition][1]\n",
    "$$\\pmb{A}=\\pmb{Q}\\pmb{R}$$\n",
    "where $\\pmb{Q}$ is an orthongal matrix, and $\\pmb{R}$ is an upper triangular matrix. [Diagonalization of][2] $\\pmb{A}$ occurs through repeated changes of the basis vector, through iterations;\n",
    "$$\n",
    "\\begin{array}{}\n",
    "\\pmb{A}_k&=&\\pmb{Q}_k\\pmb{R}_k\\\\\n",
    "\\pmb{A}_{k+1}&=&\\pmb{R}_k\\pmb{Q}_k=\\pmb{Q}_k^T\\pmb{A}_k\\pmb{Q}_k\n",
    "\\end{array}\n",
    "$$\n",
    "when the off-diagonal emlemts of $\\pmb{A}_k$ are sufficiently small, $\\pmb{\\Lambda}\\approx\\pmb{A}_k$ and $\\pmb{X}=\\prod_{k}\\pmb{Q}_k$.\n",
    "\n",
    "[1]: https://en.wikipedia.org/wiki/QR_decomposition\n",
    "[2]: https://en.wikipedia.org/wiki/QR_algorithm\n",
    "[3]: https://en.wikipedia.org/wiki/Eigenvalues_and_eigenvectors#Applications"
   ],
   "metadata": {}
  },
  {
   "cell_type": "markdown",
   "source": [
    "#### Example 1\n",
    "\n",
    "The `scipy` function for QR decomposition is [`scipy.linalg.qr`][1]. \n",
    "\n",
    "Create a $5\\times5$ matrix of random numbers ([`numpy.random.randn`]) and take it's QR decomposition. Verify that $R$ is an upper triangular matrix and $Q$ is an orthogonal matrix. \n",
    "    \n",
    "[1]: https://docs.scipy.org/doc/scipy-0.16.0/reference/generated/scipy.linalg.qr.html\n",
    "[2]: https://docs.scipy.org/doc/numpy/reference/random/generated/numpy.random.mtrand.RandomState.randn.html"
   ],
   "metadata": {}
  },
  {
   "cell_type": "code",
   "execution_count": 55,
   "source": [
    "import numpy\r\n",
    "import numpy.random\r\n",
    "import scipy.linalg\r\n",
    "\r\n",
    "A = numpy.random.randn(5,5) # Make random matrix\r\n",
    "Q, R = scipy.linalg.qr(A) # Decompose into QR decomposition\r\n",
    "print(Q.shape, R.shape) # Check the shape\r\n",
    "print(\"A = QR :\", numpy.allclose(A, numpy.dot(Q, R))) # Make sure QR ~ A\r\n",
    "print(\"Q orthogonal :\",numpy.isclose(0.0,numpy.dot(Q[:,0],Q[:,1]))) # Make sure columns of Q are orthogonal\r\n",
    "print(\"R : \\n\", R)\r\n",
    "print(\"Q : \\n\", Q)"
   ],
   "outputs": [
    {
     "output_type": "stream",
     "name": "stdout",
     "text": [
      "(5, 5) (5, 5)\n",
      "A = QR : True\n",
      "Q orthogonal : True\n",
      "R : \n",
      " [[-1.8076357   0.01046385 -1.42165175 -0.01828878 -1.19640662]\n",
      " [ 0.         -1.37341973  1.06370693  0.26491544  1.05236835]\n",
      " [ 0.          0.         -0.68061207  1.31593172  0.91142867]\n",
      " [ 0.          0.          0.          2.4253053  -1.69155358]\n",
      " [ 0.          0.          0.          0.         -0.5377897 ]]\n",
      "Q : \n",
      " [[-0.21275764 -0.47709357  0.84841448  0.08546217  0.00223634]\n",
      " [-0.44852404 -0.62816879 -0.41744718 -0.47945517  0.00952598]\n",
      " [-0.09467335 -0.2845266  -0.2491094   0.66559221 -0.63640639]\n",
      " [-0.79251649  0.33128876 -0.04942224  0.35758849  0.36311607]\n",
      " [ 0.34134284 -0.43252522 -0.20355017  0.43810551  0.68046887]]\n"
     ]
    }
   ],
   "metadata": {}
  },
  {
   "cell_type": "markdown",
   "source": [
    "#### Example 2\n",
    "Use the `scipy.linalg.eigh` function to find the eigenvalues and eignevectors of the matrix\n",
    "$$\\begin{bmatrix}\n",
    "1 & 2 \\\\\n",
    "2 & 1\n",
    "\\end{bmatrix}$$\n",
    "\n",
    "Test the orthogonality and normality of the eigenvectors."
   ],
   "metadata": {}
  },
  {
   "cell_type": "code",
   "execution_count": 56,
   "source": [
    "A = numpy.array([[1,2],[2,1]],dtype=float)\r\n",
    "x, V = scipy.linalg.eigh(A)\r\n",
    "print(x)\r\n",
    "print(V)\r\n",
    "print(\"Eiegnvectors are orthogonal: \", numpy.allclose(0, numpy.dot(V[:,0], V[:,1])))\r\n",
    "print(\"Eiegnvectors are normal: \", numpy.allclose(1, scipy.linalg.norm(V[:,0])))"
   ],
   "outputs": [
    {
     "output_type": "stream",
     "name": "stdout",
     "text": [
      "[-1.  3.]\n",
      "[[-0.70710678  0.70710678]\n",
      " [ 0.70710678  0.70710678]]\n",
      "Eiegnvectors are orthogonal:  True\n",
      "Eiegnvectors are normal:  True\n"
     ]
    }
   ],
   "metadata": {}
  },
  {
   "cell_type": "markdown",
   "source": [
    "#### Example 3\n",
    "\n",
    "Google's early success as a search engine was due to their clever use of eigenvalues and eigenvectors. The PageRank method of deilvering relevant search results was a revolution in the early days fo the web. (It has evolved well beyond this simple example here.)\n",
    "\n",
    "Let's assume the world wide web contains 6 pages only. The author of Page 1 thinks pages 2, 4, 5, and 6 have good content, and links to them. The author of Page 2 only likes pages 3 and 4 so only links from her page to them. The links between these and the other pages in this simple web are summarised in this diagram.\n",
    "\n",
    "<img src=\"./images/pagerank.svg\"/>\n",
    "\n",
    "Google engineers assumed each of these pages is related in some way to the other pages, since there is at least one link to and from each page in the web. Their task was to find the *most important* page for a particular search query, as decided by the writers of all 6 pages. \n",
    "\n",
    "For the 6-page web illustrated above, we can form a \"link matrix\" representing the relative importance of the links in and out of each page.\n",
    "\n",
    "Considering Page 1, it has 4 outgoing links (to pages 2, 4, 5, and 6). So in the first column of our \"links matrix\", we place value $\\frac{1}{4}$ in each of rows 2, 4, 5 and 6, since each link is worth $\\frac{1}{4}$ of all the outgoing links. The rest of the rows in column 1 have value $0$, since Page 1 doesn't link to any of them. We continue the same process for the rest of the 6 pages.\n",
    "$$A =\n",
    "\\begin{bmatrix}\n",
    "    0           & 0           & 0 & 0 & \\frac{1}{2} & 0 \\\\\n",
    "    \\frac{1}{4} & 0           & 0 & 0 & 0           & 0 \\\\\n",
    "    0           & \\frac{1}{2} & 0 & 0 & 0           & 0 \\\\\n",
    "    \\frac{1}{4} & \\frac{1}{2} & 0 & 0 & \\frac{1}{2} & 0 \\\\\n",
    "    \\frac{1}{4} & 0           & 1 & 1 & 0           & 1 \\\\\n",
    "    \\frac{1}{4} & 0           & 0 & 0 & 0           & 0 \n",
    "\\end{bmatrix}\n",
    "$$\n",
    "- What are the eigenvalues of this matrix?"
   ],
   "metadata": {}
  },
  {
   "cell_type": "code",
   "execution_count": 57,
   "source": [
    "A=numpy.array([[0,0,0,0,1/2,0],\r\n",
    "               [1/4,0,0,0,0,0],\r\n",
    "               [0,1/2,0,0,0,0],\r\n",
    "               [1/4,1/2,0,0,1/2,0],\r\n",
    "               [1/4,0,1,1,0,1],\r\n",
    "               [1/4,0,0,0,0,0]],dtype=float)\r\n",
    "x, v = scipy.linalg.eig(A)\r\n",
    "print(x)"
   ],
   "outputs": [
    {
     "output_type": "stream",
     "name": "stdout",
     "text": [
      "[ 1.00000000e+00+0.j         -1.39845075e-01+0.39240258j\n",
      " -1.39845075e-01-0.39240258j -7.20309850e-01+0.j\n",
      "  2.96003466e-17+0.j         -2.47220661e-17+0.j        ]\n"
     ]
    }
   ],
   "metadata": {}
  },
  {
   "cell_type": "markdown",
   "source": [
    "We can only use non-negative, real values of eigenvlaues (since they are the only ones that will make sense in this context), so we conclude $\\lambda=1$. (In fact, for such PageRank problems we always take $\\lambda=1$.)\n",
    "\n",
    "- What is the eigenvector for this eigenvalue?"
   ],
   "metadata": {}
  },
  {
   "cell_type": "code",
   "execution_count": 58,
   "source": [
    "print(-numpy.real(v[:,0]))"
   ],
   "outputs": [
    {
     "output_type": "stream",
     "name": "stdout",
     "text": [
      "[-0.37712362 -0.0942809  -0.04714045 -0.51854497 -0.75424723 -0.0942809 ]\n"
     ]
    }
   ],
   "metadata": {}
  },
  {
   "cell_type": "markdown",
   "source": [
    "We see that page 5 has the highest PageRank score, and therefore is the most authoritative and relevant on the search topic. It should be listed first in the search results."
   ],
   "metadata": {}
  },
  {
   "cell_type": "markdown",
   "source": [
    "#### Example 4\r\n",
    "A matrix $A$ with distinct eigenvalues has eigenvectors which are linearly independent. If we form a matrix $P$ whose columns are these eigenvectors, it can be shown that $\\det(P) \\neq 0$ so that $P^{-1}$ exists. Also, $P^{-1}P=I$.\r\n",
    "\r\n",
    "The product $P^{-1}AP=D$ is then a diagonal matrix $D$ whose diagonal elements are the eigenvalues of $A$. Likewise, $A=PDP^{-1}$. \r\n",
    "\r\n",
    "Then we can calculate the power of matrix $A^k$ by noting\r\n",
    "$$\r\n",
    "A^k=(PDP^{-1})(PDP^{-1})\\ldots(PDP^{-1}) = PD^{k}P^{-1}\r\n",
    "$$\r\n",
    "\r\n",
    "- Show what happens when we try this method of calculating a matrix $A^{50}$, versus using the the function [`numpy.linalg.matrix_power'][1]\r\n",
    "\r\n",
    "[1]: https://docs.scipy.org/doc/numpy/reference/generated/numpy.linalg.matrix_power.htm"
   ],
   "metadata": {}
  },
  {
   "cell_type": "code",
   "execution_count": 78,
   "source": [
    "# A = numpy.array([[2,3],[3,2]],dtype=float)\r\n",
    "A=numpy.random.rand(50,50)\r\n",
    "\r\n",
    "d,P = scipy.linalg.eig(A)\r\n",
    "D = numpy.dot(scipy.linalg.inv(P),numpy.dot(A,P))\r\n",
    "# print(f\"Eigenvalues of A : {d}\")\r\n",
    "# print(f\"Diagonal of Pinv.A.P : {numpy.diagonal(D)}\" )\r\n",
    "\r\n",
    "# Find A^50 with P.D^50.Pinv\r\n",
    "D50 = numpy.power(D,50)\r\n",
    "A50 = numpy.dot(P,numpy.dot(D50,scipy.linalg.inv(P)))\r\n",
    "# print(f\"A^50 :\", A50)\r\n",
    "print(f\"The first five elements of A^50 :\", A50[0,1:5])\r\n",
    "\r\n",
    "\r\n",
    "# Find A^50 with matrix_power\r\n",
    "# NO! A50 = numpy.power(A,50)\r\n",
    "# THAT WOULD CALCULATE THE ELEMENT-BY-ELEMENT POWER!\r\n",
    "#\r\n",
    "# MUST USE MATRIX_POWER INSTEAD.\r\n",
    "A50 = numpy.linalg.matrix_power(A,50)\r\n",
    "# print(f\"A^50 :\", A50)\r\n",
    "print(f\"The first five elements of A^50 :\", A50[0,1:5])"
   ],
   "outputs": [
    {
     "output_type": "stream",
     "name": "stdout",
     "text": [
      "The first five elements of A^50 : [3.43528559e+68-1.23540588e+54j 2.89734083e+68+2.13713823e+53j\n",
      " 2.94018253e+68-5.52266038e+53j 2.78633029e+68-3.35088374e+53j]\n",
      "The first five elements of A^50 : [3.43528559e+68 2.89734083e+68 2.94018253e+68 2.78633029e+68]\n"
     ]
    }
   ],
   "metadata": {}
  },
  {
   "cell_type": "markdown",
   "source": [
    "In calculating the matrix $D$, we see that there is a small rounding error in the imaginary part of some of the eigenvalues. When raised to the fiftieth power, these error accumulate. This is best seen in a very large array."
   ],
   "metadata": {}
  },
  {
   "cell_type": "markdown",
   "source": [
    "#### Example 5\n",
    "Consider the matrix\n",
    "$$\\begin{bmatrix}\n",
    "\\alpha & \\beta \\\\\n",
    "-\\beta & \\alpha\n",
    "\\end{bmatrix}$$\n",
    " where $\\alpha$ and $\\beta$ whatever values you want. Use a numerical eigenproblem solver to show that the eigenvalues and eigenvectors are the complex conjugates \n",
    "$$\n",
    "\\vec{x}=\\left(\n",
    "\\begin{array}{}\\pm i\\\\ +1\\end{array}\n",
    "\\right)\n",
    "\\ ,\\lambda=\\alpha\\mp i\\beta\n",
    "$$"
   ],
   "metadata": {}
  },
  {
   "cell_type": "code",
   "execution_count": 60,
   "source": [
    "alpha = 1.0\r\n",
    "beta  = 2.0\r\n",
    "\r\n",
    "A = numpy.array([[alpha,beta],[-beta,alpha]])\r\n",
    "evl, evc=scipy.linalg.eig(A)\r\n",
    "\r\n",
    "# Print out the first eigenvector\r\n",
    "print(f\"Eigenvalue  1 : {evl[0]:1.2f}\")\r\n",
    "print(\"Eigenvector 1 :\", evc[:,0])\r\n",
    "# Here is the expected answer\r\n",
    "x2 = numpy.array([-1.j,1.],dtype=complex)\r\n",
    "n=scipy.linalg.norm(x2)\r\n",
    "x2 /= n\r\n",
    "print(f\"Eigenvalue  A : {complex(alpha,beta)}\")\r\n",
    "print(\"Eigenvector A :\", x2)\r\n",
    "\r\n",
    "print(\"\")\r\n",
    "\r\n",
    "# Print out the second eigenvector\r\n",
    "print(f\"Eigenvalue  2 : {evl[1]:1.2f}\")\r\n",
    "print(\"Eigenvector 2 :\", evc[:,1])\r\n",
    "# Here is the expected answer\r\n",
    "x1 = numpy.array([1.j,1.],dtype=complex)\r\n",
    "n=scipy.linalg.norm(x1)\r\n",
    "x1 /= n\r\n",
    "print(f\"Eigenvalue  A : {complex(alpha,-beta)}\")\r\n",
    "print(\"Eigenvector A :\", x1)"
   ],
   "outputs": [
    {
     "output_type": "stream",
     "name": "stdout",
     "text": [
      "Eigenvalue  1 : 1.00+2.00j\n",
      "Eigenvector 1 : [0.        -0.70710678j 0.70710678+0.j        ]\n",
      "Eigenvalue  A : (1+2j)\n",
      "Eigenvector A : [-0.        -0.70710678j  0.70710678+0.j        ]\n",
      "\n",
      "Eigenvalue  2 : 1.00-2.00j\n",
      "Eigenvector 2 : [0.        +0.70710678j 0.70710678-0.j        ]\n",
      "Eigenvalue  A : (1-2j)\n",
      "Eigenvector A : [0.        +0.70710678j 0.70710678+0.j        ]\n"
     ]
    }
   ],
   "metadata": {}
  },
  {
   "cell_type": "code",
   "execution_count": 61,
   "source": [
    "import numpy\r\n",
    "import scipy.constants\r\n",
    "import scipy.linalg\r\n",
    "%matplotlib inline\r\n",
    "import matplotlib.pyplot as plot"
   ],
   "outputs": [],
   "metadata": {}
  },
  {
   "cell_type": "code",
   "execution_count": 62,
   "source": [
    "scipy.constants.hbar"
   ],
   "outputs": [
    {
     "output_type": "execute_result",
     "data": {
      "text/plain": [
       "1.0545718176461565e-34"
      ]
     },
     "metadata": {},
     "execution_count": 62
    }
   ],
   "metadata": {}
  },
  {
   "cell_type": "code",
   "execution_count": 63,
   "source": [
    "# Infiite square well from 0 -> L\r\n",
    "# Potential floor is not flat\r\n",
    "# V(x) = \r\n",
    "# infinity for x <= 0\r\n",
    "# bx/L for 0 < x < L\r\n",
    "# infinitiy for x > L\r\n",
    "\r\n",
    "b    = 10.        # floor height (eV)\r\n",
    "L    = 5.0E-10    # well width (m)\r\n",
    "me   = 9.1094E-31 # electron mass (kg)\r\n",
    "j2ev = 1.6022E-19 # 1 eV = 1.6021E-19 J\r\n",
    "N    = 100\r\n",
    "\r\n",
    "H = numpy.zeros((N,N),dtype=float)\r\n",
    "for n in range(1,N+1) :\r\n",
    "    for m in range(1,N+1) :\r\n",
    "        if (m != n) :\r\n",
    "            if (m%2==0) and (n%2==0) :\r\n",
    "                H[n-1,m-1] = 0.\r\n",
    "            elif (m%2!=0) and (n%2!=0) :\r\n",
    "                H[n-1,m-1] = 0.\r\n",
    "            else :\r\n",
    "                H[n-1,m-1] = ((-8.*b)/(numpy.pi**2))*((m*n)/(m**2-n**2)**2)\r\n",
    "        else :\r\n",
    "            H[n-1,m-1] = (b/2.) +(numpy.pi*(scipy.constants.hbar**2)*(n**2))/(2*(L**2)*me*j2ev)"
   ],
   "outputs": [],
   "metadata": {}
  },
  {
   "cell_type": "code",
   "execution_count": 64,
   "source": [
    "print(H)"
   ],
   "outputs": [
    {
     "output_type": "stream",
     "name": "stdout",
     "text": [
      "[[ 5.47876863e+00 -1.80126549e+00  0.00000000e+00 ... -8.61395224e-06\n",
      "   0.00000000e+00 -8.10731607e-06]\n",
      " [-1.80126549e+00  6.91507454e+00 -1.94536673e+00 ...  0.00000000e+00\n",
      "  -1.67212683e-05  0.00000000e+00]\n",
      " [ 0.00000000e+00 -1.94536673e+00  9.30891771e+00 ... -2.58849669e-05\n",
      "   0.00000000e+00 -2.43609140e-05]\n",
      " ...\n",
      " [-8.61395224e-06  0.00000000e+00 -2.58849669e-05 ...  4.60309396e+03\n",
      "  -2.02637146e+00  0.00000000e+00]\n",
      " [ 0.00000000e+00 -1.67212683e-05  0.00000000e+00 ... -2.02637146e+00\n",
      "   4.69741138e+03 -2.02637250e+00]\n",
      " [-8.10731607e-06  0.00000000e+00 -2.43609140e-05 ...  0.00000000e+00\n",
      "  -2.02637250e+00  4.79268634e+03]]\n"
     ]
    }
   ],
   "metadata": {}
  },
  {
   "cell_type": "code",
   "execution_count": 65,
   "source": [
    "numpy.allclose(H, H.T)"
   ],
   "outputs": [
    {
     "output_type": "execute_result",
     "data": {
      "text/plain": [
       "True"
      ]
     },
     "metadata": {},
     "execution_count": 65
    }
   ],
   "metadata": {}
  },
  {
   "cell_type": "code",
   "execution_count": 66,
   "source": [
    "evals, evecs = scipy.linalg.eigh(H)"
   ],
   "outputs": [],
   "metadata": {}
  },
  {
   "cell_type": "code",
   "execution_count": 67,
   "source": [
    "print(evals)"
   ],
   "outputs": [
    {
     "output_type": "stream",
     "name": "stdout",
     "text": [
      "[3.95804166e+00 6.93484017e+00 9.62820765e+00 1.29014744e+01\n",
      " 1.71329588e+01 2.23517828e+01 2.85459045e+01 3.57076705e+01\n",
      " 4.38330280e+01 5.29197477e+01 6.29665338e+01 7.39725940e+01\n",
      " 8.59374230e+01 9.88606860e+01 1.12742155e+02 1.27581669e+02\n",
      " 1.43379114e+02 1.60134406e+02 1.77847481e+02 1.96518291e+02\n",
      " 2.16146801e+02 2.36732982e+02 2.58276810e+02 2.80778268e+02\n",
      " 3.04237342e+02 3.28654019e+02 3.54028291e+02 3.80360149e+02\n",
      " 4.07649586e+02 4.35896598e+02 4.65101178e+02 4.95263325e+02\n",
      " 5.26383033e+02 5.58460300e+02 5.91495125e+02 6.25487503e+02\n",
      " 6.60437435e+02 6.96344918e+02 7.33209951e+02 7.71032532e+02\n",
      " 8.09812660e+02 8.49550335e+02 8.90245556e+02 9.31898322e+02\n",
      " 9.74508631e+02 1.01807648e+03 1.06260188e+03 1.10808482e+03\n",
      " 1.15452530e+03 1.20192332e+03 1.25027889e+03 1.29959200e+03\n",
      " 1.34986264e+03 1.40109083e+03 1.45327656e+03 1.50641982e+03\n",
      " 1.56052063e+03 1.61557898e+03 1.67159486e+03 1.72856829e+03\n",
      " 1.78649926e+03 1.84538776e+03 1.90523380e+03 1.96603739e+03\n",
      " 2.02779851e+03 2.09051717e+03 2.15419337e+03 2.21882710e+03\n",
      " 2.28441838e+03 2.35096719e+03 2.41847355e+03 2.48693744e+03\n",
      " 2.55635887e+03 2.62673783e+03 2.69807434e+03 2.77036838e+03\n",
      " 2.84361997e+03 2.91782909e+03 2.99299574e+03 3.06911994e+03\n",
      " 3.14620167e+03 3.22424094e+03 3.30323775e+03 3.38319210e+03\n",
      " 3.46410398e+03 3.54597341e+03 3.62880037e+03 3.71258486e+03\n",
      " 3.79732690e+03 3.88302647e+03 3.96968358e+03 4.05729823e+03\n",
      " 4.14587042e+03 4.23540015e+03 4.32588741e+03 4.41733222e+03\n",
      " 4.50973456e+03 4.60309461e+03 4.69741203e+03 4.79272963e+03]\n"
     ]
    }
   ],
   "metadata": {}
  },
  {
   "cell_type": "code",
   "execution_count": 79,
   "source": [
    "plot.figure(figsize=(9,5.5))\r\n",
    "plot.plot(numpy.real(evals), \".\")\r\n",
    "plot.xlabel(\"n\")\r\n",
    "plot.ylabel(\"eV\")\r\n",
    "plot.show()\r\n",
    "plot.close()"
   ],
   "outputs": [
    {
     "output_type": "display_data",
     "data": {
      "image/png": "[encoded data removed]",
      "text/plain": [
       "<Figure size 648x396 with 1 Axes>"
      ]
     },
     "metadata": {
      "needs_background": "light"
     }
    }
   ],
   "metadata": {}
  },
  {
   "cell_type": "code",
   "execution_count": 69,
   "source": [
    "print(evecs)"
   ],
   "outputs": [
    {
     "output_type": "stream",
     "name": "stdout",
     "text": [
      "[[ 7.39860375e-01  6.26303929e-01  2.39151305e-01 ...  1.87354132e-09\n",
      "  -6.93222089e-12  1.69365921e-09]\n",
      " [ 6.18467278e-01 -4.89967176e-01 -5.90049705e-01 ... -1.48486541e-11\n",
      "   3.56420298e-09 -8.22169586e-11]\n",
      " [ 2.52930187e-01 -5.69914513e-01  5.89472078e-01 ...  5.63469473e-09\n",
      "  -2.08610430e-11  5.09319283e-09]\n",
      " ...\n",
      " [ 3.07078469e-09 -2.61454183e-09  5.07108325e-09 ... -9.99533366e-01\n",
      "   2.14792880e-02 -2.35929606e-04]\n",
      " [ 2.84915500e-09 -3.36029132e-09  1.74410733e-09 ... -2.14796243e-02\n",
      "  -9.99542864e-01  2.12592709e-02]\n",
      " [ 2.77438659e-09 -2.36152771e-09  4.58242932e-09 ... -2.03411575e-04\n",
      "  -2.12596223e-02 -9.99773633e-01]]\n"
     ]
    }
   ],
   "metadata": {}
  },
  {
   "cell_type": "code",
   "execution_count": 80,
   "source": [
    "plot.figure(figsize=(9,5.5))\r\n",
    "plot.plot(evecs[:,0]) # Mostly the first few sin functions\r\n",
    "plot.plot(evecs[:,99]) # Mostly just the last sin function\r\n",
    "plot.show()\r\n",
    "plot.close()"
   ],
   "outputs": [
    {
     "output_type": "display_data",
     "data": {
      "image/png": "[encoded data removed]",
      "text/plain": [
       "<Figure size 648x396 with 1 Axes>"
      ]
     },
     "metadata": {
      "needs_background": "light"
     }
    }
   ],
   "metadata": {}
  },
  {
   "cell_type": "code",
   "execution_count": 84,
   "source": [
    "n_plot_points = 100\r\n",
    "x_plot_points = numpy.linspace(0,L,n_plot_points,endpoint=True)\r\n",
    "y_plot_points = numpy.zeros(n_plot_points)\r\n",
    "\r\n",
    "for x in range(n_plot_points) :\r\n",
    "    for n in range(N) :\r\n",
    "        y_plot_points[x] +=  evecs[n, 0]*numpy.sin(numpy.pi*(n+1)*x_plot_points[x]/L)\r\n",
    "        # Ground state       -> state 0 (change the 0 to find excited states)\r\n",
    "\r\n",
    "plot.figure(figsize=(9,5.5))\r\n",
    "plot.plot(x_plot_points,y_plot_points**2)\r\n",
    "plot.show()\r\n",
    "plot.close()"
   ],
   "outputs": [
    {
     "output_type": "display_data",
     "data": {
      "image/png": "[encoded data removed]",
      "text/plain": [
       "<Figure size 648x396 with 1 Axes>"
      ]
     },
     "metadata": {
      "needs_background": "light"
     }
    }
   ],
   "metadata": {}
  },
  {
   "cell_type": "code",
   "execution_count": null,
   "source": [],
   "outputs": [],
   "metadata": {}
  }
 ],
 "metadata": {
  "kernelspec": {
   "name": "python3",
   "display_name": "Python 3.8.8 64-bit ('base': conda)"
  },
  "language_info": {
   "codemirror_mode": {
    "name": "ipython",
    "version": 3
   },
   "file_extension": ".py",
   "mimetype": "text/x-python",
   "name": "python",
   "nbconvert_exporter": "python",
   "pygments_lexer": "ipython3",
   "version": "3.8.8"
  },
  "interpreter": {
   "hash": "97f613484c7082a5f441d3814b62bbd2ba6367090f977f8bd3f34e33dc661583"
  }
 },
 "nbformat": 4,
 "nbformat_minor": 2
}